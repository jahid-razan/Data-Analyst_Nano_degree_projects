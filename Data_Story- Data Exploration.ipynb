{
 "cells": [
  {
   "cell_type": "code",
   "execution_count": 19,
   "metadata": {},
   "outputs": [],
   "source": [
    "import pandas as pd\n",
    "import seaborn as sns\n",
    "import numpy as np\n",
    "import matplotlib.pyplot as plt"
   ]
  },
  {
   "cell_type": "code",
   "execution_count": 20,
   "metadata": {},
   "outputs": [
    {
     "data": {
      "text/html": [
       "<div>\n",
       "<style scoped>\n",
       "    .dataframe tbody tr th:only-of-type {\n",
       "        vertical-align: middle;\n",
       "    }\n",
       "\n",
       "    .dataframe tbody tr th {\n",
       "        vertical-align: top;\n",
       "    }\n",
       "\n",
       "    .dataframe thead th {\n",
       "        text-align: right;\n",
       "    }\n",
       "</style>\n",
       "<table border=\"1\" class=\"dataframe\">\n",
       "  <thead>\n",
       "    <tr style=\"text-align: right;\">\n",
       "      <th></th>\n",
       "      <th>duration_sec</th>\n",
       "      <th>start_time</th>\n",
       "      <th>end_time</th>\n",
       "      <th>start_station_id</th>\n",
       "      <th>start_station_name</th>\n",
       "      <th>start_station_latitude</th>\n",
       "      <th>start_station_longitude</th>\n",
       "      <th>end_station_id</th>\n",
       "      <th>end_station_name</th>\n",
       "      <th>end_station_latitude</th>\n",
       "      <th>...</th>\n",
       "      <th>age</th>\n",
       "      <th>str_month_no</th>\n",
       "      <th>end_month_no</th>\n",
       "      <th>season</th>\n",
       "      <th>distance</th>\n",
       "      <th>start_hour</th>\n",
       "      <th>end_hour</th>\n",
       "      <th>duration_min</th>\n",
       "      <th>start_date</th>\n",
       "      <th>end_date</th>\n",
       "    </tr>\n",
       "  </thead>\n",
       "  <tbody>\n",
       "    <tr>\n",
       "      <th>0</th>\n",
       "      <td>80110</td>\n",
       "      <td>2017-12-31 16:57:39.654</td>\n",
       "      <td>2018-01-01 15:12:50.245</td>\n",
       "      <td>74</td>\n",
       "      <td>Laguna St at Hayes St</td>\n",
       "      <td>37.776435</td>\n",
       "      <td>-122.426244</td>\n",
       "      <td>43</td>\n",
       "      <td>San Francisco Public Library (Grove St at Hyde...</td>\n",
       "      <td>37.778768</td>\n",
       "      <td>...</td>\n",
       "      <td>30</td>\n",
       "      <td>12</td>\n",
       "      <td>1</td>\n",
       "      <td>Winter</td>\n",
       "      <td>9.448761</td>\n",
       "      <td>16</td>\n",
       "      <td>15</td>\n",
       "      <td>1335.166667</td>\n",
       "      <td>31</td>\n",
       "      <td>01</td>\n",
       "    </tr>\n",
       "    <tr>\n",
       "      <th>1</th>\n",
       "      <td>78800</td>\n",
       "      <td>2017-12-31 15:56:34.842</td>\n",
       "      <td>2018-01-01 13:49:55.617</td>\n",
       "      <td>284</td>\n",
       "      <td>Yerba Buena Center for the Arts (Howard St at ...</td>\n",
       "      <td>37.784872</td>\n",
       "      <td>-122.400876</td>\n",
       "      <td>96</td>\n",
       "      <td>Dolores St at 15th St</td>\n",
       "      <td>37.766210</td>\n",
       "      <td>...</td>\n",
       "      <td>52</td>\n",
       "      <td>12</td>\n",
       "      <td>1</td>\n",
       "      <td>Winter</td>\n",
       "      <td>30.711442</td>\n",
       "      <td>15</td>\n",
       "      <td>13</td>\n",
       "      <td>1313.333333</td>\n",
       "      <td>31</td>\n",
       "      <td>01</td>\n",
       "    </tr>\n",
       "    <tr>\n",
       "      <th>4</th>\n",
       "      <td>43603</td>\n",
       "      <td>2017-12-31 14:23:14.001</td>\n",
       "      <td>2018-01-01 02:29:57.571</td>\n",
       "      <td>239</td>\n",
       "      <td>Bancroft Way at Telegraph Ave</td>\n",
       "      <td>37.868813</td>\n",
       "      <td>-122.258764</td>\n",
       "      <td>247</td>\n",
       "      <td>Fulton St at Bancroft Way</td>\n",
       "      <td>37.867789</td>\n",
       "      <td>...</td>\n",
       "      <td>20</td>\n",
       "      <td>12</td>\n",
       "      <td>1</td>\n",
       "      <td>Winter</td>\n",
       "      <td>6.377721</td>\n",
       "      <td>14</td>\n",
       "      <td>2</td>\n",
       "      <td>726.716667</td>\n",
       "      <td>31</td>\n",
       "      <td>01</td>\n",
       "    </tr>\n",
       "    <tr>\n",
       "      <th>12</th>\n",
       "      <td>2183</td>\n",
       "      <td>2017-12-31 23:52:55.581</td>\n",
       "      <td>2018-01-01 00:29:18.743</td>\n",
       "      <td>67</td>\n",
       "      <td>San Francisco Caltrain Station 2  (Townsend St...</td>\n",
       "      <td>37.776639</td>\n",
       "      <td>-122.395526</td>\n",
       "      <td>24</td>\n",
       "      <td>Spear St at Folsom St</td>\n",
       "      <td>37.789677</td>\n",
       "      <td>...</td>\n",
       "      <td>27</td>\n",
       "      <td>12</td>\n",
       "      <td>1</td>\n",
       "      <td>Winter</td>\n",
       "      <td>15.151413</td>\n",
       "      <td>23</td>\n",
       "      <td>0</td>\n",
       "      <td>36.383333</td>\n",
       "      <td>31</td>\n",
       "      <td>01</td>\n",
       "    </tr>\n",
       "    <tr>\n",
       "      <th>13</th>\n",
       "      <td>2170</td>\n",
       "      <td>2017-12-31 23:52:55.937</td>\n",
       "      <td>2018-01-01 00:29:06.924</td>\n",
       "      <td>67</td>\n",
       "      <td>San Francisco Caltrain Station 2  (Townsend St...</td>\n",
       "      <td>37.776639</td>\n",
       "      <td>-122.395526</td>\n",
       "      <td>24</td>\n",
       "      <td>Spear St at Folsom St</td>\n",
       "      <td>37.789677</td>\n",
       "      <td>...</td>\n",
       "      <td>27</td>\n",
       "      <td>12</td>\n",
       "      <td>1</td>\n",
       "      <td>Winter</td>\n",
       "      <td>15.151413</td>\n",
       "      <td>23</td>\n",
       "      <td>0</td>\n",
       "      <td>36.166667</td>\n",
       "      <td>31</td>\n",
       "      <td>01</td>\n",
       "    </tr>\n",
       "  </tbody>\n",
       "</table>\n",
       "<p>5 rows × 28 columns</p>\n",
       "</div>"
      ],
      "text/plain": [
       "    duration_sec              start_time                end_time  \\\n",
       "0          80110 2017-12-31 16:57:39.654 2018-01-01 15:12:50.245   \n",
       "1          78800 2017-12-31 15:56:34.842 2018-01-01 13:49:55.617   \n",
       "4          43603 2017-12-31 14:23:14.001 2018-01-01 02:29:57.571   \n",
       "12          2183 2017-12-31 23:52:55.581 2018-01-01 00:29:18.743   \n",
       "13          2170 2017-12-31 23:52:55.937 2018-01-01 00:29:06.924   \n",
       "\n",
       "    start_station_id                                 start_station_name  \\\n",
       "0                 74                              Laguna St at Hayes St   \n",
       "1                284  Yerba Buena Center for the Arts (Howard St at ...   \n",
       "4                239                      Bancroft Way at Telegraph Ave   \n",
       "12                67  San Francisco Caltrain Station 2  (Townsend St...   \n",
       "13                67  San Francisco Caltrain Station 2  (Townsend St...   \n",
       "\n",
       "    start_station_latitude  start_station_longitude  end_station_id  \\\n",
       "0                37.776435              -122.426244              43   \n",
       "1                37.784872              -122.400876              96   \n",
       "4                37.868813              -122.258764             247   \n",
       "12               37.776639              -122.395526              24   \n",
       "13               37.776639              -122.395526              24   \n",
       "\n",
       "                                     end_station_name  end_station_latitude  \\\n",
       "0   San Francisco Public Library (Grove St at Hyde...             37.778768   \n",
       "1                               Dolores St at 15th St             37.766210   \n",
       "4                           Fulton St at Bancroft Way             37.867789   \n",
       "12                              Spear St at Folsom St             37.789677   \n",
       "13                              Spear St at Folsom St             37.789677   \n",
       "\n",
       "      ...     age  str_month_no end_month_no  season   distance start_hour  \\\n",
       "0     ...      30            12            1  Winter   9.448761         16   \n",
       "1     ...      52            12            1  Winter  30.711442         15   \n",
       "4     ...      20            12            1  Winter   6.377721         14   \n",
       "12    ...      27            12            1  Winter  15.151413         23   \n",
       "13    ...      27            12            1  Winter  15.151413         23   \n",
       "\n",
       "   end_hour duration_min  start_date  end_date  \n",
       "0        15  1335.166667          31        01  \n",
       "1        13  1313.333333          31        01  \n",
       "4         2   726.716667          31        01  \n",
       "12        0    36.383333          31        01  \n",
       "13        0    36.166667          31        01  \n",
       "\n",
       "[5 rows x 28 columns]"
      ]
     },
     "execution_count": 20,
     "metadata": {},
     "output_type": "execute_result"
    }
   ],
   "source": [
    "%store -r df\n",
    "df.head()"
   ]
  },
  {
   "cell_type": "code",
   "execution_count": 21,
   "metadata": {},
   "outputs": [
    {
     "data": {
      "text/plain": [
       "(1007069, 28)"
      ]
     },
     "execution_count": 21,
     "metadata": {},
     "output_type": "execute_result"
    }
   ],
   "source": [
    "df.shape"
   ]
  },
  {
   "cell_type": "code",
   "execution_count": 22,
   "metadata": {},
   "outputs": [
    {
     "data": {
      "text/html": [
       "<div>\n",
       "<style scoped>\n",
       "    .dataframe tbody tr th:only-of-type {\n",
       "        vertical-align: middle;\n",
       "    }\n",
       "\n",
       "    .dataframe tbody tr th {\n",
       "        vertical-align: top;\n",
       "    }\n",
       "\n",
       "    .dataframe thead th {\n",
       "        text-align: right;\n",
       "    }\n",
       "</style>\n",
       "<table border=\"1\" class=\"dataframe\">\n",
       "  <thead>\n",
       "    <tr style=\"text-align: right;\">\n",
       "      <th></th>\n",
       "      <th>duration_sec</th>\n",
       "      <th>start_time</th>\n",
       "      <th>end_time</th>\n",
       "      <th>start_station_id</th>\n",
       "      <th>start_station_name</th>\n",
       "      <th>start_station_latitude</th>\n",
       "      <th>start_station_longitude</th>\n",
       "      <th>end_station_id</th>\n",
       "      <th>end_station_name</th>\n",
       "      <th>end_station_latitude</th>\n",
       "      <th>...</th>\n",
       "      <th>age</th>\n",
       "      <th>str_month_no</th>\n",
       "      <th>end_month_no</th>\n",
       "      <th>season</th>\n",
       "      <th>distance</th>\n",
       "      <th>start_hour</th>\n",
       "      <th>end_hour</th>\n",
       "      <th>duration_min</th>\n",
       "      <th>start_date</th>\n",
       "      <th>end_date</th>\n",
       "    </tr>\n",
       "  </thead>\n",
       "  <tbody>\n",
       "    <tr>\n",
       "      <th>0</th>\n",
       "      <td>80110</td>\n",
       "      <td>2017-12-31 16:57:39.654</td>\n",
       "      <td>2018-01-01 15:12:50.245</td>\n",
       "      <td>74</td>\n",
       "      <td>Laguna St at Hayes St</td>\n",
       "      <td>37.776435</td>\n",
       "      <td>-122.426244</td>\n",
       "      <td>43</td>\n",
       "      <td>San Francisco Public Library (Grove St at Hyde...</td>\n",
       "      <td>37.778768</td>\n",
       "      <td>...</td>\n",
       "      <td>30</td>\n",
       "      <td>12</td>\n",
       "      <td>1</td>\n",
       "      <td>Winter</td>\n",
       "      <td>9.448761</td>\n",
       "      <td>16</td>\n",
       "      <td>15</td>\n",
       "      <td>1335.166667</td>\n",
       "      <td>31</td>\n",
       "      <td>01</td>\n",
       "    </tr>\n",
       "    <tr>\n",
       "      <th>1</th>\n",
       "      <td>78800</td>\n",
       "      <td>2017-12-31 15:56:34.842</td>\n",
       "      <td>2018-01-01 13:49:55.617</td>\n",
       "      <td>284</td>\n",
       "      <td>Yerba Buena Center for the Arts (Howard St at ...</td>\n",
       "      <td>37.784872</td>\n",
       "      <td>-122.400876</td>\n",
       "      <td>96</td>\n",
       "      <td>Dolores St at 15th St</td>\n",
       "      <td>37.766210</td>\n",
       "      <td>...</td>\n",
       "      <td>52</td>\n",
       "      <td>12</td>\n",
       "      <td>1</td>\n",
       "      <td>Winter</td>\n",
       "      <td>30.711442</td>\n",
       "      <td>15</td>\n",
       "      <td>13</td>\n",
       "      <td>1313.333333</td>\n",
       "      <td>31</td>\n",
       "      <td>01</td>\n",
       "    </tr>\n",
       "  </tbody>\n",
       "</table>\n",
       "<p>2 rows × 28 columns</p>\n",
       "</div>"
      ],
      "text/plain": [
       "   duration_sec              start_time                end_time  \\\n",
       "0         80110 2017-12-31 16:57:39.654 2018-01-01 15:12:50.245   \n",
       "1         78800 2017-12-31 15:56:34.842 2018-01-01 13:49:55.617   \n",
       "\n",
       "   start_station_id                                 start_station_name  \\\n",
       "0                74                              Laguna St at Hayes St   \n",
       "1               284  Yerba Buena Center for the Arts (Howard St at ...   \n",
       "\n",
       "   start_station_latitude  start_station_longitude  end_station_id  \\\n",
       "0               37.776435              -122.426244              43   \n",
       "1               37.784872              -122.400876              96   \n",
       "\n",
       "                                    end_station_name  end_station_latitude  \\\n",
       "0  San Francisco Public Library (Grove St at Hyde...             37.778768   \n",
       "1                              Dolores St at 15th St             37.766210   \n",
       "\n",
       "     ...     age  str_month_no end_month_no  season   distance start_hour  \\\n",
       "0    ...      30            12            1  Winter   9.448761         16   \n",
       "1    ...      52            12            1  Winter  30.711442         15   \n",
       "\n",
       "  end_hour duration_min  start_date  end_date  \n",
       "0       15  1335.166667          31        01  \n",
       "1       13  1313.333333          31        01  \n",
       "\n",
       "[2 rows x 28 columns]"
      ]
     },
     "execution_count": 22,
     "metadata": {},
     "output_type": "execute_result"
    }
   ],
   "source": [
    "df.head(2)"
   ]
  },
  {
   "cell_type": "code",
   "execution_count": 100,
   "metadata": {},
   "outputs": [
    {
     "name": "stdout",
     "output_type": "stream",
     "text": [
      "<class 'pandas.core.frame.DataFrame'>\n",
      "Int64Index: 1007069 entries, 0 to 179123\n",
      "Data columns (total 28 columns):\n",
      "duration_sec               1007069 non-null int64\n",
      "start_time                 1007069 non-null datetime64[ns]\n",
      "end_time                   1007069 non-null datetime64[ns]\n",
      "start_station_id           1007069 non-null int64\n",
      "start_station_name         1007069 non-null object\n",
      "start_station_latitude     1007069 non-null float64\n",
      "start_station_longitude    1007069 non-null float64\n",
      "end_station_id             1007069 non-null int64\n",
      "end_station_name           1007069 non-null object\n",
      "end_station_latitude       1007069 non-null float64\n",
      "end_station_longitude      1007069 non-null float64\n",
      "bike_id                    1007069 non-null int64\n",
      "user_type                  1007069 non-null object\n",
      "member_birth_year          1007069 non-null float64\n",
      "member_gender              1007069 non-null object\n",
      "Month-str                  1007069 non-null object\n",
      "day                        1007069 non-null object\n",
      "Weekday                    1007069 non-null object\n",
      "age                        1007069 non-null int32\n",
      "str_month_no               1007069 non-null int32\n",
      "end_month_no               1007069 non-null int32\n",
      "season                     1007069 non-null object\n",
      "distance                   1007069 non-null float64\n",
      "start_hour                 1007069 non-null object\n",
      "end_hour                   1007069 non-null object\n",
      "duration_min               1007069 non-null float64\n",
      "start_date                 1007069 non-null object\n",
      "end_date                   1007069 non-null object\n",
      "dtypes: datetime64[ns](2), float64(7), int32(3), int64(4), object(12)\n",
      "memory usage: 231.3+ MB\n"
     ]
    }
   ],
   "source": [
    "df['start_hour'] = df['start_hour'].astype(str)\n",
    "df['end_hour'] = df['end_hour'].astype(str)\n",
    "df.info()"
   ]
  },
  {
   "cell_type": "code",
   "execution_count": null,
   "metadata": {},
   "outputs": [],
   "source": []
  },
  {
   "cell_type": "markdown",
   "metadata": {},
   "source": [
    "### Time"
   ]
  },
  {
   "cell_type": "code",
   "execution_count": 23,
   "metadata": {},
   "outputs": [],
   "source": [
    "df_time = df.drop(['start_time','end_time', 'age', 'start_station_id', 'start_station_name', 'end_station_name', 'start_station_name','start_station_latitude', 'start_station_longitude', 'end_station_latitude', 'end_station_longitude','end_station_id','member_birth_year', 'duration_sec'], axis=1)"
   ]
  },
  {
   "cell_type": "code",
   "execution_count": 24,
   "metadata": {},
   "outputs": [
    {
     "data": {
      "text/html": [
       "<div>\n",
       "<style scoped>\n",
       "    .dataframe tbody tr th:only-of-type {\n",
       "        vertical-align: middle;\n",
       "    }\n",
       "\n",
       "    .dataframe tbody tr th {\n",
       "        vertical-align: top;\n",
       "    }\n",
       "\n",
       "    .dataframe thead th {\n",
       "        text-align: right;\n",
       "    }\n",
       "</style>\n",
       "<table border=\"1\" class=\"dataframe\">\n",
       "  <thead>\n",
       "    <tr style=\"text-align: right;\">\n",
       "      <th></th>\n",
       "      <th>bike_id</th>\n",
       "      <th>user_type</th>\n",
       "      <th>member_gender</th>\n",
       "      <th>Month-str</th>\n",
       "      <th>day</th>\n",
       "      <th>Weekday</th>\n",
       "      <th>str_month_no</th>\n",
       "      <th>end_month_no</th>\n",
       "      <th>season</th>\n",
       "      <th>distance</th>\n",
       "      <th>start_hour</th>\n",
       "      <th>end_hour</th>\n",
       "      <th>duration_min</th>\n",
       "      <th>start_date</th>\n",
       "      <th>end_date</th>\n",
       "    </tr>\n",
       "  </thead>\n",
       "  <tbody>\n",
       "    <tr>\n",
       "      <th>0</th>\n",
       "      <td>96</td>\n",
       "      <td>Customer</td>\n",
       "      <td>Male</td>\n",
       "      <td>Dec</td>\n",
       "      <td>Sun</td>\n",
       "      <td>Weekend</td>\n",
       "      <td>12</td>\n",
       "      <td>1</td>\n",
       "      <td>Winter</td>\n",
       "      <td>9.448761</td>\n",
       "      <td>16</td>\n",
       "      <td>15</td>\n",
       "      <td>1335.166667</td>\n",
       "      <td>31</td>\n",
       "      <td>01</td>\n",
       "    </tr>\n",
       "    <tr>\n",
       "      <th>1</th>\n",
       "      <td>88</td>\n",
       "      <td>Customer</td>\n",
       "      <td>Female</td>\n",
       "      <td>Dec</td>\n",
       "      <td>Sun</td>\n",
       "      <td>Weekend</td>\n",
       "      <td>12</td>\n",
       "      <td>1</td>\n",
       "      <td>Winter</td>\n",
       "      <td>30.711442</td>\n",
       "      <td>15</td>\n",
       "      <td>13</td>\n",
       "      <td>1313.333333</td>\n",
       "      <td>31</td>\n",
       "      <td>01</td>\n",
       "    </tr>\n",
       "    <tr>\n",
       "      <th>4</th>\n",
       "      <td>3167</td>\n",
       "      <td>Subscriber</td>\n",
       "      <td>Female</td>\n",
       "      <td>Dec</td>\n",
       "      <td>Sun</td>\n",
       "      <td>Weekend</td>\n",
       "      <td>12</td>\n",
       "      <td>1</td>\n",
       "      <td>Winter</td>\n",
       "      <td>6.377721</td>\n",
       "      <td>14</td>\n",
       "      <td>2</td>\n",
       "      <td>726.716667</td>\n",
       "      <td>31</td>\n",
       "      <td>01</td>\n",
       "    </tr>\n",
       "    <tr>\n",
       "      <th>12</th>\n",
       "      <td>2311</td>\n",
       "      <td>Subscriber</td>\n",
       "      <td>Male</td>\n",
       "      <td>Dec</td>\n",
       "      <td>Sun</td>\n",
       "      <td>Weekend</td>\n",
       "      <td>12</td>\n",
       "      <td>1</td>\n",
       "      <td>Winter</td>\n",
       "      <td>15.151413</td>\n",
       "      <td>23</td>\n",
       "      <td>0</td>\n",
       "      <td>36.383333</td>\n",
       "      <td>31</td>\n",
       "      <td>01</td>\n",
       "    </tr>\n",
       "    <tr>\n",
       "      <th>13</th>\n",
       "      <td>3717</td>\n",
       "      <td>Subscriber</td>\n",
       "      <td>Male</td>\n",
       "      <td>Dec</td>\n",
       "      <td>Sun</td>\n",
       "      <td>Weekend</td>\n",
       "      <td>12</td>\n",
       "      <td>1</td>\n",
       "      <td>Winter</td>\n",
       "      <td>15.151413</td>\n",
       "      <td>23</td>\n",
       "      <td>0</td>\n",
       "      <td>36.166667</td>\n",
       "      <td>31</td>\n",
       "      <td>01</td>\n",
       "    </tr>\n",
       "  </tbody>\n",
       "</table>\n",
       "</div>"
      ],
      "text/plain": [
       "    bike_id   user_type member_gender Month-str  day  Weekday  str_month_no  \\\n",
       "0        96    Customer          Male       Dec  Sun  Weekend            12   \n",
       "1        88    Customer        Female       Dec  Sun  Weekend            12   \n",
       "4      3167  Subscriber        Female       Dec  Sun  Weekend            12   \n",
       "12     2311  Subscriber          Male       Dec  Sun  Weekend            12   \n",
       "13     3717  Subscriber          Male       Dec  Sun  Weekend            12   \n",
       "\n",
       "    end_month_no  season   distance  start_hour  end_hour  duration_min  \\\n",
       "0              1  Winter   9.448761          16        15   1335.166667   \n",
       "1              1  Winter  30.711442          15        13   1313.333333   \n",
       "4              1  Winter   6.377721          14         2    726.716667   \n",
       "12             1  Winter  15.151413          23         0     36.383333   \n",
       "13             1  Winter  15.151413          23         0     36.166667   \n",
       "\n",
       "   start_date end_date  \n",
       "0          31       01  \n",
       "1          31       01  \n",
       "4          31       01  \n",
       "12         31       01  \n",
       "13         31       01  "
      ]
     },
     "execution_count": 24,
     "metadata": {},
     "output_type": "execute_result"
    }
   ],
   "source": [
    "df_time.head()"
   ]
  },
  {
   "cell_type": "code",
   "execution_count": 25,
   "metadata": {},
   "outputs": [],
   "source": [
    "#columns = list(df_time.columns)\n",
    "#df_time_2 = df_time[columns[0:3]+columns[6:7]+columns[5:6]+columns[12:13]+columns[2:5]+columns[13:]+columns[6:8]+columns[9:12]+columns[8:9]   ]\n",
    "#df_time_2.head()"
   ]
  },
  {
   "cell_type": "code",
   "execution_count": 54,
   "metadata": {},
   "outputs": [
    {
     "data": {
      "text/html": [
       "<div>\n",
       "<style scoped>\n",
       "    .dataframe tbody tr th:only-of-type {\n",
       "        vertical-align: middle;\n",
       "    }\n",
       "\n",
       "    .dataframe tbody tr th {\n",
       "        vertical-align: top;\n",
       "    }\n",
       "\n",
       "    .dataframe thead th {\n",
       "        text-align: right;\n",
       "    }\n",
       "</style>\n",
       "<table border=\"1\" class=\"dataframe\">\n",
       "  <thead>\n",
       "    <tr style=\"text-align: right;\">\n",
       "      <th></th>\n",
       "      <th>index</th>\n",
       "      <th>day</th>\n",
       "    </tr>\n",
       "  </thead>\n",
       "  <tbody>\n",
       "    <tr>\n",
       "      <th>0</th>\n",
       "      <td>Tue</td>\n",
       "      <td>182011</td>\n",
       "    </tr>\n",
       "    <tr>\n",
       "      <th>1</th>\n",
       "      <td>Wed</td>\n",
       "      <td>181538</td>\n",
       "    </tr>\n",
       "    <tr>\n",
       "      <th>2</th>\n",
       "      <td>Thu</td>\n",
       "      <td>176165</td>\n",
       "    </tr>\n",
       "    <tr>\n",
       "      <th>3</th>\n",
       "      <td>Mon</td>\n",
       "      <td>159211</td>\n",
       "    </tr>\n",
       "    <tr>\n",
       "      <th>4</th>\n",
       "      <td>Fri</td>\n",
       "      <td>156188</td>\n",
       "    </tr>\n",
       "    <tr>\n",
       "      <th>5</th>\n",
       "      <td>Sat</td>\n",
       "      <td>81331</td>\n",
       "    </tr>\n",
       "    <tr>\n",
       "      <th>6</th>\n",
       "      <td>Sun</td>\n",
       "      <td>70625</td>\n",
       "    </tr>\n",
       "  </tbody>\n",
       "</table>\n",
       "</div>"
      ],
      "text/plain": [
       "  index     day\n",
       "0   Tue  182011\n",
       "1   Wed  181538\n",
       "2   Thu  176165\n",
       "3   Mon  159211\n",
       "4   Fri  156188\n",
       "5   Sat   81331\n",
       "6   Sun   70625"
      ]
     },
     "execution_count": 54,
     "metadata": {},
     "output_type": "execute_result"
    }
   ],
   "source": [
    "df_day_count = df_time['day'].value_counts().reset_index()\n",
    "df_day_count"
   ]
  },
  {
   "cell_type": "code",
   "execution_count": 55,
   "metadata": {},
   "outputs": [
    {
     "data": {
      "image/png": "[encoded data removed]",
      "text/plain": [
       "<Figure size 864x576 with 1 Axes>"
      ]
     },
     "metadata": {},
     "output_type": "display_data"
    }
   ],
   "source": [
    "## Plot Proportion of journeys made per Day\n",
    "plt.figure(figsize = [12, 8])\n",
    "base_color = sns.color_palette()[1]\n",
    "n_points = df_time['day'].value_counts().sum()\n",
    "max_count = df_time['day'].value_counts().max()\n",
    "max_prop = max_count/ n_points\n",
    "\n",
    "# generate tick mark locations and names\n",
    "tick_props = np.arange(0, max_prop, 0.03)\n",
    "tick_names = ['{:0.2f}'.format(v) for v in tick_props]\n",
    "\n",
    "# create the plot\n",
    "base_color = sns.color_palette()[0]\n",
    "sns.countplot(data = df_time, x = df_time['day'], color = base_color, order = df_time['day'].value_counts().index )\n",
    "plt.yticks(tick_props * n_points, tick_names)\n",
    "plt.xlabel(\"Day of the Week \\n \",fontsize=15)\n",
    "plt.ylabel(\"Percentage of journeys made\",fontsize=15)\n",
    "plt.title('Figure-01: Proportion of journeys made per Day',fontsize=15)\n",
    "plt.rc('xtick',labelsize=16)\n",
    "plt.rc('ytick',labelsize=16)\n",
    "\n",
    "# add annotations\n",
    "cat_counts = df_time['day'].value_counts()\n",
    "locs, labels = plt.xticks() # get the current tick locations and labels\n",
    "\n",
    "# loop through each pair of locations and labels\n",
    "for loc, label in zip(locs, labels):\n",
    "\n",
    "    # get the text property for the label to get the correct count\n",
    "    count = cat_counts[label.get_text()]\n",
    "    pct_string = '{:0.1f}%'.format(100*count/n_points)\n",
    "    plt.text(loc, count+1, pct_string, ha = 'center', color = 'R', fontsize=16)"
   ]
  },
  {
   "cell_type": "code",
   "execution_count": 29,
   "metadata": {},
   "outputs": [
    {
     "data": {
      "text/plain": [
       "Weekday\n",
       "Weekday    16.354726\n",
       "Weekend    16.136144\n",
       "Name: distance, dtype: float64"
      ]
     },
     "execution_count": 29,
     "metadata": {},
     "output_type": "execute_result"
    }
   ],
   "source": [
    "df.groupby(['Weekday']).mean().distance"
   ]
  },
  {
   "cell_type": "code",
   "execution_count": 61,
   "metadata": {},
   "outputs": [
    {
     "data": {
      "text/plain": [
       "Weekday\n",
       "Weekday    11.978987\n",
       "Weekend    16.206515\n",
       "Name: duration_min, dtype: float64"
      ]
     },
     "execution_count": 61,
     "metadata": {},
     "output_type": "execute_result"
    }
   ],
   "source": [
    "df.groupby(['Weekday']).mean().duration_min"
   ]
  },
  {
   "cell_type": "code",
   "execution_count": 146,
   "metadata": {},
   "outputs": [
    {
     "data": {
      "image/png": "[encoded data removed]",
      "text/plain": [
       "<Figure size 1152x720 with 1 Axes>"
      ]
     },
     "metadata": {},
     "output_type": "display_data"
    }
   ],
   "source": [
    "plt.figure(figsize = [16, 10])\n",
    "sns.color_palette()\n",
    "base_color = sns.color_palette()[0]\n",
    "\n",
    "df_weekday_summer = df.query('Weekday == \"Weekday\" & season == \"Summer\"').groupby(['start_hour']).count().start_time.reset_index()\n",
    "df_weekend_summer = df.query('Weekday != \"Weekday\" & season == \"Summer\"').groupby(['start_hour']).count().start_time.reset_index()\n",
    "\n",
    "x_1=df_weekday_summer['start_hour']\n",
    "y_1=df_weekday_summer['start_time']\n",
    "\n",
    "x_2 =df_weekend_summer['start_hour']\n",
    "y_2 =df_weekend_summer['start_time']\n",
    "\n",
    "\n",
    "\n",
    "plt.plot(x_1, y_1, x_2, y_2)\n",
    "plt.show()\n"
   ]
  },
  {
   "cell_type": "markdown",
   "metadata": {},
   "source": [
    "**Note:**\n",
    "\n",
    "**1. Most Journeys are made during the middle of the week Tuesday- Thursday and the least during the weekend.**\n",
    "\n",
    "**2. Average Distance covered during the weekend is almost similar to the weekdays although the number journeys are much higher during the weekdays.**\n",
    "\n",
    "**2. Average durations of the journyes during the weekend is higher than the journys during the weekdays.**\n"
   ]
  },
  {
   "cell_type": "code",
   "execution_count": 59,
   "metadata": {},
   "outputs": [
    {
     "data": {
      "text/plain": [
       "Spring    381683\n",
       "Autumn    261355\n",
       "Winter    258932\n",
       "Summer    105099\n",
       "Name: season, dtype: int64"
      ]
     },
     "execution_count": 59,
     "metadata": {},
     "output_type": "execute_result"
    }
   ],
   "source": [
    "df_time['season'].value_counts()"
   ]
  },
  {
   "cell_type": "code",
   "execution_count": 58,
   "metadata": {},
   "outputs": [
    {
     "data": {
      "image/png": "[encoded data removed]",
      "text/plain": [
       "<Figure size 720x576 with 1 Axes>"
      ]
     },
     "metadata": {},
     "output_type": "display_data"
    }
   ],
   "source": [
    "## Plot the percentage of movie released per quarter\n",
    "plt.figure(figsize = [10, 8])\n",
    "base_color = sns.color_palette()[1]\n",
    "n_points = df_time['season'].value_counts().sum()\n",
    "max_count = df_time['season'].value_counts().max()\n",
    "max_prop = max_count/ n_points\n",
    "\n",
    "# generate tick mark locations and names\n",
    "tick_props = np.arange(0, max_prop, 0.08)\n",
    "tick_names = ['{:0.2f}'.format(v) for v in tick_props]\n",
    "\n",
    "# create the plot\n",
    "base_color = sns.color_palette()[0]\n",
    "sns.countplot(data = df_time, x = df_time['season'], color = base_color, order = df_time['season'].value_counts().index )\n",
    "plt.yticks(tick_props * n_points, tick_names)\n",
    "plt.xlabel(\"Season of the Year \\n\",fontsize=15)\n",
    "plt.ylabel(\"Proportion of journeys made\",fontsize=15)\n",
    "plt.title('Figure-02: Proportion of journeys made per Season of the year \\n',fontsize=15)\n",
    "plt.rc('xtick',labelsize=16)\n",
    "plt.rc('ytick',labelsize=16)\n",
    "\n",
    "# add annotations\n",
    "cat_counts = df_time['season'].value_counts()\n",
    "locs, labels = plt.xticks() # get the current tick locations and labels\n",
    "\n",
    "# loop through each pair of locations and labels\n",
    "for loc, label in zip(locs, labels):\n",
    "\n",
    "    # get the text property for the label to get the correct count\n",
    "    count = cat_counts[label.get_text()]\n",
    "    pct_string = '{:0.1f}%'.format(100*count/n_points)\n",
    "    plt.text(loc, count+1, pct_string, ha = 'center', color = 'R', fontsize=16)"
   ]
  },
  {
   "cell_type": "code",
   "execution_count": 30,
   "metadata": {},
   "outputs": [
    {
     "data": {
      "text/plain": [
       "Weekday\n",
       "Weekday    11.978987\n",
       "Weekend    16.206515\n",
       "Name: duration_min, dtype: float64"
      ]
     },
     "execution_count": 30,
     "metadata": {},
     "output_type": "execute_result"
    }
   ],
   "source": [
    "df.groupby(['Weekday']).mean().duration_min"
   ]
  },
  {
   "cell_type": "code",
   "execution_count": 31,
   "metadata": {},
   "outputs": [
    {
     "data": {
      "text/html": [
       "<div>\n",
       "<style scoped>\n",
       "    .dataframe tbody tr th:only-of-type {\n",
       "        vertical-align: middle;\n",
       "    }\n",
       "\n",
       "    .dataframe tbody tr th {\n",
       "        vertical-align: top;\n",
       "    }\n",
       "\n",
       "    .dataframe thead th {\n",
       "        text-align: right;\n",
       "    }\n",
       "</style>\n",
       "<table border=\"1\" class=\"dataframe\">\n",
       "  <thead>\n",
       "    <tr style=\"text-align: right;\">\n",
       "      <th></th>\n",
       "      <th>member_gender</th>\n",
       "      <th>Weekday</th>\n",
       "      <th>distance</th>\n",
       "      <th>duration_min</th>\n",
       "    </tr>\n",
       "  </thead>\n",
       "  <tbody>\n",
       "    <tr>\n",
       "      <th>0</th>\n",
       "      <td>Female</td>\n",
       "      <td>Weekday</td>\n",
       "      <td>17.192246</td>\n",
       "      <td>13.978821</td>\n",
       "    </tr>\n",
       "    <tr>\n",
       "      <th>1</th>\n",
       "      <td>Female</td>\n",
       "      <td>Weekend</td>\n",
       "      <td>16.921841</td>\n",
       "      <td>19.578270</td>\n",
       "    </tr>\n",
       "    <tr>\n",
       "      <th>2</th>\n",
       "      <td>Male</td>\n",
       "      <td>Weekday</td>\n",
       "      <td>16.083816</td>\n",
       "      <td>11.338306</td>\n",
       "    </tr>\n",
       "    <tr>\n",
       "      <th>3</th>\n",
       "      <td>Male</td>\n",
       "      <td>Weekend</td>\n",
       "      <td>15.816395</td>\n",
       "      <td>14.911957</td>\n",
       "    </tr>\n",
       "    <tr>\n",
       "      <th>4</th>\n",
       "      <td>Other</td>\n",
       "      <td>Weekday</td>\n",
       "      <td>17.604907</td>\n",
       "      <td>14.609518</td>\n",
       "    </tr>\n",
       "    <tr>\n",
       "      <th>5</th>\n",
       "      <td>Other</td>\n",
       "      <td>Weekend</td>\n",
       "      <td>17.063700</td>\n",
       "      <td>17.214776</td>\n",
       "    </tr>\n",
       "  </tbody>\n",
       "</table>\n",
       "</div>"
      ],
      "text/plain": [
       "  member_gender  Weekday   distance  duration_min\n",
       "0        Female  Weekday  17.192246     13.978821\n",
       "1        Female  Weekend  16.921841     19.578270\n",
       "2          Male  Weekday  16.083816     11.338306\n",
       "3          Male  Weekend  15.816395     14.911957\n",
       "4         Other  Weekday  17.604907     14.609518\n",
       "5         Other  Weekend  17.063700     17.214776"
      ]
     },
     "execution_count": 31,
     "metadata": {},
     "output_type": "execute_result"
    }
   ],
   "source": [
    "df_gender_duration = df.groupby(['member_gender', 'Weekday']).mean().duration_min.reset_index()\n",
    "df_weekday_distance = df.groupby(['member_gender','Weekday']).mean().distance.reset_index()\n",
    "df_gender_journey = pd.merge(df_weekday_distance, df_gender_duration)\n",
    "df_gender_journey"
   ]
  },
  {
   "cell_type": "code",
   "execution_count": 32,
   "metadata": {},
   "outputs": [
    {
     "data": {
      "image/png": "[encoded data removed]",
      "text/plain": [
       "<Figure size 432x288 with 1 Axes>"
      ]
     },
     "metadata": {},
     "output_type": "display_data"
    }
   ],
   "source": [
    "ax = sns.pointplot(data = df_gender_journey, x = 'member_gender', y = 'duration_min', hue = 'Weekday',\n",
    "                  dodge = 0.3, linestyles = \"\")\n"
   ]
  },
  {
   "cell_type": "code",
   "execution_count": 47,
   "metadata": {},
   "outputs": [
    {
     "data": {
      "text/plain": [
       "<matplotlib.legend.Legend at 0xbfd5e10>"
      ]
     },
     "execution_count": 47,
     "metadata": {},
     "output_type": "execute_result"
    },
    {
     "data": {
      "image/png": "[encoded data removed]",
      "text/plain": [
       "<Figure size 432x288 with 1 Axes>"
      ]
     },
     "metadata": {},
     "output_type": "display_data"
    }
   ],
   "source": [
    "ax = sns.barplot( data = df_gender_journey, x = 'member_gender', y = 'distance', hue = 'Weekday')\n",
    "ax.legend(loc = 3, ncol = 2, framealpha = 1, title = 'distance')"
   ]
  },
  {
   "cell_type": "code",
   "execution_count": null,
   "metadata": {},
   "outputs": [],
   "source": [
    "df_season_duration = df.groupby(['season', 'Weekday']).mean().duration_min.reset_index()\n",
    "df_season_duration"
   ]
  },
  {
   "cell_type": "code",
   "execution_count": null,
   "metadata": {},
   "outputs": [],
   "source": [
    "ax = sns.pointplot(data = df_season_duration, x = 'season', y = 'duration_min', hue = 'Weekday',\n",
    "                  dodge = 0.3, linestyles = \"\")"
   ]
  },
  {
   "cell_type": "code",
   "execution_count": null,
   "metadata": {},
   "outputs": [],
   "source": [
    "plt.plot(season, pop_pakistan, color='g')"
   ]
  },
  {
   "cell_type": "code",
   "execution_count": null,
   "metadata": {},
   "outputs": [],
   "source": []
  },
  {
   "cell_type": "code",
   "execution_count": null,
   "metadata": {},
   "outputs": [],
   "source": []
  },
  {
   "cell_type": "code",
   "execution_count": null,
   "metadata": {},
   "outputs": [],
   "source": []
  }
 ],
 "metadata": {
  "kernelspec": {
   "display_name": "Python 3",
   "language": "python",
   "name": "python3"
  },
  "language_info": {
   "codemirror_mode": {
    "name": "ipython",
    "version": 3
   },
   "file_extension": ".py",
   "mimetype": "text/x-python",
   "name": "python",
   "nbconvert_exporter": "python",
   "pygments_lexer": "ipython3",
   "version": "3.6.5"
  }
 },
 "nbformat": 4,
 "nbformat_minor": 2
}
