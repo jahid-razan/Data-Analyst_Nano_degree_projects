{
 "cells": [
  {
   "cell_type": "markdown",
   "metadata": {},
   "source": [
    "\n",
    "# Project: Investigate TMDb movie data- Part 3\n",
    "\n",
    "## Table of Contents\n",
    "<ul>\n",
    "<li><a href=\"#intro\">I) Introduction</a></li>\n",
    "<li><a href=\"#wrangling\">II) Data Wrangling</a></li>\n",
    "<li><a href=\"#eda\">III) Exploratory Data Analysis & Relevant Conclusions</a></li>\n",
    "</ul>"
   ]
  },
  {
   "cell_type": "markdown",
   "metadata": {},
   "source": [
    "## <a id='intro'></a>\n",
    "## I) Introduction\n",
    "\n",
    "> This is the part-3 of the report analyzing the TMDB 500 movies dataset. Questions related to the producer, production company, the cast will be analyzed in this part. Also, the top 500 movies with the highest vote and a summary conclusion will be made with the observations after each section.            \n",
    "           "
   ]
  },
  {
   "cell_type": "markdown",
   "metadata": {},
   "source": [
    "### Questions:\n",
    "\n",
    "\n",
    "           \n",
    "### 6. Producer, Production House and Actor\n",
    "                        \n",
    "  \n",
    "**A) Who are the 10 most frequent Casts?**\n",
    "\n",
    "**B) What is the most frequent Genre?**\n",
    "\n",
    "**C) Which Production company released the highest amount of movies?**\n",
    "             \n",
    "**D) What is the largest number of the movie by a single producer?**\n",
    "\n",
    "**E) What is the highest amount of profit made by a movie?**"
   ]
  },
  {
   "cell_type": "markdown",
   "metadata": {},
   "source": [
    "### 7. Top 500 Movies based on Vote Average:\n",
    "               \n",
    "\n",
    "**A) Among the top 500 movies, what is the most frequent genre and what is the vote_average  for that genre?**\n",
    "\n",
    "**B) In which quarter of the year most of the top 500 movies were released?**\n",
    "\n",
    "**C) Which decade has most movies among the top 500 movies were released?**\n",
    "\n",
    "**D) Which cast appears the largest number of times in most of the top 500 movies were released?**\n",
    "\n",
    "**E) Of the top 500 movies who has produced the largest number of movies?**\n",
    "\n",
    "**F) Of the top 500 movies, which single month of a particular decade has the highest amount of movie released?**\n",
    "\n",
    "          "
   ]
  },
  {
   "cell_type": "markdown",
   "metadata": {},
   "source": [
    "<a id='wrangling'></a>\n",
    "## II) Data Wrangling\n",
    "\n"
   ]
  },
  {
   "cell_type": "code",
   "execution_count": 1,
   "metadata": {},
   "outputs": [],
   "source": [
    "# Importing packages and reading the CSV file\n",
    "\n",
    "import pandas as pd\n",
    "import numpy as np\n",
    "import matplotlib.pyplot as plt\n",
    "import seaborn as sns\n",
    "\n",
    "import datetime as dt\n",
    "\n",
    "%matplotlib inline\n",
    "\n",
    "df_movies = pd.read_csv('C:\\\\Users\\\\raz37388\\\\Desktop\\\\Udacity_assignment\\\\Assignment 2\\\\tmdb-movies.csv') \n"
   ]
  },
  {
   "cell_type": "markdown",
   "metadata": {},
   "source": [
    "### Data properties"
   ]
  },
  {
   "cell_type": "code",
   "execution_count": 2,
   "metadata": {},
   "outputs": [
    {
     "data": {
      "text/plain": [
       "(10866, 21)"
      ]
     },
     "execution_count": 2,
     "metadata": {},
     "output_type": "execute_result"
    }
   ],
   "source": [
    "# view dimensions of dataset\n",
    "df_movies.shape"
   ]
  },
  {
   "cell_type": "markdown",
   "metadata": {},
   "source": [
    "### Drop Extraneous Columns\n"
   ]
  },
  {
   "cell_type": "code",
   "execution_count": 3,
   "metadata": {},
   "outputs": [
    {
     "data": {
      "text/html": [
       "<div>\n",
       "<style scoped>\n",
       "    .dataframe tbody tr th:only-of-type {\n",
       "        vertical-align: middle;\n",
       "    }\n",
       "\n",
       "    .dataframe tbody tr th {\n",
       "        vertical-align: top;\n",
       "    }\n",
       "\n",
       "    .dataframe thead th {\n",
       "        text-align: right;\n",
       "    }\n",
       "</style>\n",
       "<table border=\"1\" class=\"dataframe\">\n",
       "  <thead>\n",
       "    <tr style=\"text-align: right;\">\n",
       "      <th></th>\n",
       "      <th>id</th>\n",
       "      <th>imdb_id</th>\n",
       "      <th>popularity</th>\n",
       "      <th>budget</th>\n",
       "      <th>revenue</th>\n",
       "      <th>original_title</th>\n",
       "      <th>cast</th>\n",
       "      <th>homepage</th>\n",
       "      <th>director</th>\n",
       "      <th>tagline</th>\n",
       "      <th>...</th>\n",
       "      <th>overview</th>\n",
       "      <th>runtime</th>\n",
       "      <th>genres</th>\n",
       "      <th>production_companies</th>\n",
       "      <th>release_date</th>\n",
       "      <th>vote_count</th>\n",
       "      <th>vote_average</th>\n",
       "      <th>release_year</th>\n",
       "      <th>budget_adj</th>\n",
       "      <th>revenue_adj</th>\n",
       "    </tr>\n",
       "  </thead>\n",
       "  <tbody>\n",
       "    <tr>\n",
       "      <th>0</th>\n",
       "      <td>135397</td>\n",
       "      <td>tt0369610</td>\n",
       "      <td>32.985763</td>\n",
       "      <td>150000000</td>\n",
       "      <td>1513528810</td>\n",
       "      <td>Jurassic World</td>\n",
       "      <td>Chris Pratt|Bryce Dallas Howard|Irrfan Khan|Vi...</td>\n",
       "      <td>http://www.jurassicworld.com/</td>\n",
       "      <td>Colin Trevorrow</td>\n",
       "      <td>The park is open.</td>\n",
       "      <td>...</td>\n",
       "      <td>Twenty-two years after the events of Jurassic ...</td>\n",
       "      <td>124</td>\n",
       "      <td>Action|Adventure|Science Fiction|Thriller</td>\n",
       "      <td>Universal Studios|Amblin Entertainment|Legenda...</td>\n",
       "      <td>6/9/2015</td>\n",
       "      <td>5562</td>\n",
       "      <td>6.5</td>\n",
       "      <td>2015</td>\n",
       "      <td>137999939.3</td>\n",
       "      <td>1.392446e+09</td>\n",
       "    </tr>\n",
       "    <tr>\n",
       "      <th>1</th>\n",
       "      <td>76341</td>\n",
       "      <td>tt1392190</td>\n",
       "      <td>28.419936</td>\n",
       "      <td>150000000</td>\n",
       "      <td>378436354</td>\n",
       "      <td>Mad Max: Fury Road</td>\n",
       "      <td>Tom Hardy|Charlize Theron|Hugh Keays-Byrne|Nic...</td>\n",
       "      <td>http://www.madmaxmovie.com/</td>\n",
       "      <td>George Miller</td>\n",
       "      <td>What a Lovely Day.</td>\n",
       "      <td>...</td>\n",
       "      <td>An apocalyptic story set in the furthest reach...</td>\n",
       "      <td>120</td>\n",
       "      <td>Action|Adventure|Science Fiction|Thriller</td>\n",
       "      <td>Village Roadshow Pictures|Kennedy Miller Produ...</td>\n",
       "      <td>5/13/2015</td>\n",
       "      <td>6185</td>\n",
       "      <td>7.1</td>\n",
       "      <td>2015</td>\n",
       "      <td>137999939.3</td>\n",
       "      <td>3.481613e+08</td>\n",
       "    </tr>\n",
       "    <tr>\n",
       "      <th>2</th>\n",
       "      <td>262500</td>\n",
       "      <td>tt2908446</td>\n",
       "      <td>13.112507</td>\n",
       "      <td>110000000</td>\n",
       "      <td>295238201</td>\n",
       "      <td>Insurgent</td>\n",
       "      <td>Shailene Woodley|Theo James|Kate Winslet|Ansel...</td>\n",
       "      <td>http://www.thedivergentseries.movie/#insurgent</td>\n",
       "      <td>Robert Schwentke</td>\n",
       "      <td>One Choice Can Destroy You</td>\n",
       "      <td>...</td>\n",
       "      <td>Beatrice Prior must confront her inner demons ...</td>\n",
       "      <td>119</td>\n",
       "      <td>Adventure|Science Fiction|Thriller</td>\n",
       "      <td>Summit Entertainment|Mandeville Films|Red Wago...</td>\n",
       "      <td>3/18/2015</td>\n",
       "      <td>2480</td>\n",
       "      <td>6.3</td>\n",
       "      <td>2015</td>\n",
       "      <td>101199955.5</td>\n",
       "      <td>2.716190e+08</td>\n",
       "    </tr>\n",
       "  </tbody>\n",
       "</table>\n",
       "<p>3 rows × 21 columns</p>\n",
       "</div>"
      ],
      "text/plain": [
       "       id    imdb_id  popularity     budget     revenue      original_title  \\\n",
       "0  135397  tt0369610   32.985763  150000000  1513528810      Jurassic World   \n",
       "1   76341  tt1392190   28.419936  150000000   378436354  Mad Max: Fury Road   \n",
       "2  262500  tt2908446   13.112507  110000000   295238201           Insurgent   \n",
       "\n",
       "                                                cast  \\\n",
       "0  Chris Pratt|Bryce Dallas Howard|Irrfan Khan|Vi...   \n",
       "1  Tom Hardy|Charlize Theron|Hugh Keays-Byrne|Nic...   \n",
       "2  Shailene Woodley|Theo James|Kate Winslet|Ansel...   \n",
       "\n",
       "                                         homepage          director  \\\n",
       "0                   http://www.jurassicworld.com/   Colin Trevorrow   \n",
       "1                     http://www.madmaxmovie.com/     George Miller   \n",
       "2  http://www.thedivergentseries.movie/#insurgent  Robert Schwentke   \n",
       "\n",
       "                      tagline      ...       \\\n",
       "0           The park is open.      ...        \n",
       "1          What a Lovely Day.      ...        \n",
       "2  One Choice Can Destroy You      ...        \n",
       "\n",
       "                                            overview runtime  \\\n",
       "0  Twenty-two years after the events of Jurassic ...     124   \n",
       "1  An apocalyptic story set in the furthest reach...     120   \n",
       "2  Beatrice Prior must confront her inner demons ...     119   \n",
       "\n",
       "                                      genres  \\\n",
       "0  Action|Adventure|Science Fiction|Thriller   \n",
       "1  Action|Adventure|Science Fiction|Thriller   \n",
       "2         Adventure|Science Fiction|Thriller   \n",
       "\n",
       "                                production_companies release_date vote_count  \\\n",
       "0  Universal Studios|Amblin Entertainment|Legenda...     6/9/2015       5562   \n",
       "1  Village Roadshow Pictures|Kennedy Miller Produ...    5/13/2015       6185   \n",
       "2  Summit Entertainment|Mandeville Films|Red Wago...    3/18/2015       2480   \n",
       "\n",
       "   vote_average  release_year   budget_adj   revenue_adj  \n",
       "0           6.5          2015  137999939.3  1.392446e+09  \n",
       "1           7.1          2015  137999939.3  3.481613e+08  \n",
       "2           6.3          2015  101199955.5  2.716190e+08  \n",
       "\n",
       "[3 rows x 21 columns]"
      ]
     },
     "execution_count": 3,
     "metadata": {},
     "output_type": "execute_result"
    }
   ],
   "source": [
    "# check column names\n",
    "df_movies.head(3)"
   ]
  },
  {
   "cell_type": "code",
   "execution_count": 4,
   "metadata": {},
   "outputs": [],
   "source": [
    "# drop columns from the dataset that will not be used during the analysis\n",
    "df_movies.drop(['id', 'imdb_id', 'popularity', 'homepage', 'tagline', 'overview',  'vote_count',  'budget_adj', 'revenue_adj'], axis = 1, inplace= True)"
   ]
  },
  {
   "cell_type": "code",
   "execution_count": 5,
   "metadata": {},
   "outputs": [
    {
     "data": {
      "text/html": [
       "<div>\n",
       "<style scoped>\n",
       "    .dataframe tbody tr th:only-of-type {\n",
       "        vertical-align: middle;\n",
       "    }\n",
       "\n",
       "    .dataframe tbody tr th {\n",
       "        vertical-align: top;\n",
       "    }\n",
       "\n",
       "    .dataframe thead th {\n",
       "        text-align: right;\n",
       "    }\n",
       "</style>\n",
       "<table border=\"1\" class=\"dataframe\">\n",
       "  <thead>\n",
       "    <tr style=\"text-align: right;\">\n",
       "      <th></th>\n",
       "      <th>budget</th>\n",
       "      <th>revenue</th>\n",
       "      <th>original_title</th>\n",
       "      <th>cast</th>\n",
       "      <th>director</th>\n",
       "      <th>keywords</th>\n",
       "      <th>runtime</th>\n",
       "      <th>genres</th>\n",
       "      <th>production_companies</th>\n",
       "      <th>release_date</th>\n",
       "      <th>vote_average</th>\n",
       "      <th>release_year</th>\n",
       "    </tr>\n",
       "  </thead>\n",
       "  <tbody>\n",
       "    <tr>\n",
       "      <th>0</th>\n",
       "      <td>150000000</td>\n",
       "      <td>1513528810</td>\n",
       "      <td>Jurassic World</td>\n",
       "      <td>Chris Pratt|Bryce Dallas Howard|Irrfan Khan|Vi...</td>\n",
       "      <td>Colin Trevorrow</td>\n",
       "      <td>monster|dna|tyrannosaurus rex|velociraptor|island</td>\n",
       "      <td>124</td>\n",
       "      <td>Action|Adventure|Science Fiction|Thriller</td>\n",
       "      <td>Universal Studios|Amblin Entertainment|Legenda...</td>\n",
       "      <td>6/9/2015</td>\n",
       "      <td>6.5</td>\n",
       "      <td>2015</td>\n",
       "    </tr>\n",
       "  </tbody>\n",
       "</table>\n",
       "</div>"
      ],
      "text/plain": [
       "      budget     revenue  original_title  \\\n",
       "0  150000000  1513528810  Jurassic World   \n",
       "\n",
       "                                                cast         director  \\\n",
       "0  Chris Pratt|Bryce Dallas Howard|Irrfan Khan|Vi...  Colin Trevorrow   \n",
       "\n",
       "                                            keywords  runtime  \\\n",
       "0  monster|dna|tyrannosaurus rex|velociraptor|island      124   \n",
       "\n",
       "                                      genres  \\\n",
       "0  Action|Adventure|Science Fiction|Thriller   \n",
       "\n",
       "                                production_companies release_date  \\\n",
       "0  Universal Studios|Amblin Entertainment|Legenda...     6/9/2015   \n",
       "\n",
       "   vote_average  release_year  \n",
       "0           6.5          2015  "
      ]
     },
     "execution_count": 5,
     "metadata": {},
     "output_type": "execute_result"
    }
   ],
   "source": [
    "# confirm changes- the dropped columns will not appear\n",
    "df_movies.head(1)"
   ]
  },
  {
   "cell_type": "code",
   "execution_count": 6,
   "metadata": {},
   "outputs": [
    {
     "data": {
      "text/plain": [
       "(10866, 12)"
      ]
     },
     "execution_count": 6,
     "metadata": {},
     "output_type": "execute_result"
    }
   ],
   "source": [
    "# confirm changes- should return the remaining columns\n",
    "df_movies.shape"
   ]
  },
  {
   "cell_type": "code",
   "execution_count": 7,
   "metadata": {},
   "outputs": [
    {
     "data": {
      "text/plain": [
       "budget                     0\n",
       "revenue                    0\n",
       "original_title             0\n",
       "cast                      76\n",
       "director                  44\n",
       "keywords                1493\n",
       "runtime                    0\n",
       "genres                    23\n",
       "production_companies    1030\n",
       "release_date               0\n",
       "vote_average               0\n",
       "release_year               0\n",
       "dtype: int64"
      ]
     },
     "execution_count": 7,
     "metadata": {},
     "output_type": "execute_result"
    }
   ],
   "source": [
    "# view missing value count for each feature of the dataset\n",
    "df_movies.isnull().sum()"
   ]
  },
  {
   "cell_type": "code",
   "execution_count": 8,
   "metadata": {},
   "outputs": [
    {
     "data": {
      "text/html": [
       "<div>\n",
       "<style scoped>\n",
       "    .dataframe tbody tr th:only-of-type {\n",
       "        vertical-align: middle;\n",
       "    }\n",
       "\n",
       "    .dataframe tbody tr th {\n",
       "        vertical-align: top;\n",
       "    }\n",
       "\n",
       "    .dataframe thead th {\n",
       "        text-align: right;\n",
       "    }\n",
       "</style>\n",
       "<table border=\"1\" class=\"dataframe\">\n",
       "  <thead>\n",
       "    <tr style=\"text-align: right;\">\n",
       "      <th></th>\n",
       "      <th>budget</th>\n",
       "      <th>revenue</th>\n",
       "      <th>original_title</th>\n",
       "      <th>cast</th>\n",
       "      <th>director</th>\n",
       "      <th>keywords</th>\n",
       "      <th>runtime</th>\n",
       "      <th>genres</th>\n",
       "      <th>production_companies</th>\n",
       "      <th>release_date</th>\n",
       "      <th>vote_average</th>\n",
       "      <th>release_year</th>\n",
       "    </tr>\n",
       "  </thead>\n",
       "  <tbody>\n",
       "    <tr>\n",
       "      <th>2090</th>\n",
       "      <td>30000000</td>\n",
       "      <td>967000</td>\n",
       "      <td>TEKKEN</td>\n",
       "      <td>Jon Foo|Kelly Overton|Cary-Hiroyuki Tagawa|Ian...</td>\n",
       "      <td>Dwight H. Little</td>\n",
       "      <td>martial arts|dystopia|based on video game|mart...</td>\n",
       "      <td>92</td>\n",
       "      <td>Crime|Drama|Action|Thriller|Science Fiction</td>\n",
       "      <td>Namco|Light Song Films</td>\n",
       "      <td>3/20/2010</td>\n",
       "      <td>5.0</td>\n",
       "      <td>2010</td>\n",
       "    </tr>\n",
       "  </tbody>\n",
       "</table>\n",
       "</div>"
      ],
      "text/plain": [
       "        budget  revenue original_title  \\\n",
       "2090  30000000   967000         TEKKEN   \n",
       "\n",
       "                                                   cast          director  \\\n",
       "2090  Jon Foo|Kelly Overton|Cary-Hiroyuki Tagawa|Ian...  Dwight H. Little   \n",
       "\n",
       "                                               keywords  runtime  \\\n",
       "2090  martial arts|dystopia|based on video game|mart...       92   \n",
       "\n",
       "                                           genres    production_companies  \\\n",
       "2090  Crime|Drama|Action|Thriller|Science Fiction  Namco|Light Song Films   \n",
       "\n",
       "     release_date  vote_average  release_year  \n",
       "2090    3/20/2010           5.0          2010  "
      ]
     },
     "execution_count": 8,
     "metadata": {},
     "output_type": "execute_result"
    }
   ],
   "source": [
    "# find duplicate \n",
    "df_movies[df_movies.duplicated()]"
   ]
  },
  {
   "cell_type": "code",
   "execution_count": 9,
   "metadata": {},
   "outputs": [],
   "source": [
    "#dropping the duplicate \n",
    "df_movies.drop_duplicates(inplace=True)"
   ]
  },
  {
   "cell_type": "code",
   "execution_count": 10,
   "metadata": {},
   "outputs": [
    {
     "data": {
      "text/plain": [
       "False"
      ]
     },
     "execution_count": 10,
     "metadata": {},
     "output_type": "execute_result"
    }
   ],
   "source": [
    "# CHecking for the duplicate- should return False \n",
    "df_movies.duplicated().any()"
   ]
  },
  {
   "cell_type": "code",
   "execution_count": 11,
   "metadata": {},
   "outputs": [
    {
     "name": "stdout",
     "output_type": "stream",
     "text": [
      "<class 'pandas.core.frame.DataFrame'>\n",
      "Int64Index: 10865 entries, 0 to 10865\n",
      "Data columns (total 12 columns):\n",
      "budget                  10865 non-null int64\n",
      "revenue                 10865 non-null int64\n",
      "original_title          10865 non-null object\n",
      "cast                    10789 non-null object\n",
      "director                10821 non-null object\n",
      "keywords                9372 non-null object\n",
      "runtime                 10865 non-null int64\n",
      "genres                  10842 non-null object\n",
      "production_companies    9835 non-null object\n",
      "release_date            10865 non-null object\n",
      "vote_average            10865 non-null float64\n",
      "release_year            10865 non-null int64\n",
      "dtypes: float64(1), int64(4), object(7)\n",
      "memory usage: 1.1+ MB\n"
     ]
    }
   ],
   "source": [
    "# See the summary of the data \n",
    "df_movies.info()"
   ]
  },
  {
   "cell_type": "markdown",
   "metadata": {},
   "source": [
    "### III) Exploratiory Data Analysis and Relevant Conclusion"
   ]
  },
  {
   "cell_type": "markdown",
   "metadata": {},
   "source": [
    "### 6- A) Who are the 10 most frequent Casts?\n",
    "                "
   ]
  },
  {
   "cell_type": "code",
   "execution_count": 12,
   "metadata": {},
   "outputs": [],
   "source": [
    "# counts  the number of elements in a list and and returns the most frequent 10\n",
    "def list_counter(x):\n",
    "    from collections import Counter\n",
    "    return Counter(x).most_common(10)"
   ]
  },
  {
   "cell_type": "code",
   "execution_count": 13,
   "metadata": {},
   "outputs": [],
   "source": [
    "def frequent_names(df_column):\n",
    "    ### input: take a dataframe column as input\n",
    "    ### concatnate all the elements and then split it into a list of strings\n",
    "    ### count the top 10 strings with list counter function\n",
    "    ### output: a list with the top 10 elements\n",
    "    \n",
    "    str_list = df_column.str.cat(sep='|').split('|')\n",
    "    return list_counter(str_list)"
   ]
  },
  {
   "cell_type": "code",
   "execution_count": 14,
   "metadata": {},
   "outputs": [],
   "source": [
    "# finding the top 10 cast\n",
    "frequent_10_cast = frequent_names(df_movies['cast'])"
   ]
  },
  {
   "cell_type": "code",
   "execution_count": 15,
   "metadata": {},
   "outputs": [
    {
     "data": {
      "text/plain": [
       "[('Robert De Niro', 72),\n",
       " ('Samuel L. Jackson', 71),\n",
       " ('Bruce Willis', 62),\n",
       " ('Nicolas Cage', 61),\n",
       " ('Michael Caine', 53),\n",
       " ('Robin Williams', 51),\n",
       " ('John Cusack', 50),\n",
       " ('John Goodman', 49),\n",
       " ('Morgan Freeman', 49),\n",
       " ('Liam Neeson', 48)]"
      ]
     },
     "execution_count": 15,
     "metadata": {},
     "output_type": "execute_result"
    }
   ],
   "source": [
    "# finding the top 10 cast with their number of movies\n",
    "frequent_10_cast"
   ]
  },
  {
   "cell_type": "code",
   "execution_count": 16,
   "metadata": {},
   "outputs": [
    {
     "data": {
      "text/plain": [
       "72"
      ]
     },
     "execution_count": 16,
     "metadata": {},
     "output_type": "execute_result"
    }
   ],
   "source": [
    "#counting the numner of original titles  \n",
    "df_movies[df_movies['cast'].str.contains(\"Robert De Niro\")==True].original_title.count()"
   ]
  },
  {
   "cell_type": "markdown",
   "metadata": {},
   "source": [
    "### 6-B)  What is the most frequent Genre?\n",
    "               "
   ]
  },
  {
   "cell_type": "code",
   "execution_count": 17,
   "metadata": {},
   "outputs": [],
   "source": [
    "# frquent 10 movie genres\n",
    "frequent_10_genres = frequent_names(df_movies['genres'])"
   ]
  },
  {
   "cell_type": "code",
   "execution_count": 18,
   "metadata": {},
   "outputs": [
    {
     "data": {
      "text/plain": [
       "[('Drama', 4760),\n",
       " ('Comedy', 3793),\n",
       " ('Thriller', 2907),\n",
       " ('Action', 2384),\n",
       " ('Romance', 1712),\n",
       " ('Horror', 1637),\n",
       " ('Adventure', 1471),\n",
       " ('Crime', 1354),\n",
       " ('Family', 1231),\n",
       " ('Science Fiction', 1229)]"
      ]
     },
     "execution_count": 18,
     "metadata": {},
     "output_type": "execute_result"
    }
   ],
   "source": [
    "# values of frquent 10 movie genres\n",
    "frequent_10_genres"
   ]
  },
  {
   "cell_type": "code",
   "execution_count": 19,
   "metadata": {},
   "outputs": [],
   "source": [
    "#converting the frequent 10 genres into a dataframe\n",
    "df_frequent_genres =  pd.DataFrame(frequent_10_genres,columns = ['genres', 'no_of_movies'])"
   ]
  },
  {
   "cell_type": "code",
   "execution_count": 20,
   "metadata": {},
   "outputs": [
    {
     "data": {
      "text/html": [
       "<div>\n",
       "<style scoped>\n",
       "    .dataframe tbody tr th:only-of-type {\n",
       "        vertical-align: middle;\n",
       "    }\n",
       "\n",
       "    .dataframe tbody tr th {\n",
       "        vertical-align: top;\n",
       "    }\n",
       "\n",
       "    .dataframe thead th {\n",
       "        text-align: right;\n",
       "    }\n",
       "</style>\n",
       "<table border=\"1\" class=\"dataframe\">\n",
       "  <thead>\n",
       "    <tr style=\"text-align: right;\">\n",
       "      <th></th>\n",
       "      <th>genres</th>\n",
       "      <th>no_of_movies</th>\n",
       "    </tr>\n",
       "  </thead>\n",
       "  <tbody>\n",
       "    <tr>\n",
       "      <th>0</th>\n",
       "      <td>Drama</td>\n",
       "      <td>4760</td>\n",
       "    </tr>\n",
       "    <tr>\n",
       "      <th>1</th>\n",
       "      <td>Comedy</td>\n",
       "      <td>3793</td>\n",
       "    </tr>\n",
       "    <tr>\n",
       "      <th>2</th>\n",
       "      <td>Thriller</td>\n",
       "      <td>2907</td>\n",
       "    </tr>\n",
       "    <tr>\n",
       "      <th>3</th>\n",
       "      <td>Action</td>\n",
       "      <td>2384</td>\n",
       "    </tr>\n",
       "    <tr>\n",
       "      <th>4</th>\n",
       "      <td>Romance</td>\n",
       "      <td>1712</td>\n",
       "    </tr>\n",
       "    <tr>\n",
       "      <th>5</th>\n",
       "      <td>Horror</td>\n",
       "      <td>1637</td>\n",
       "    </tr>\n",
       "    <tr>\n",
       "      <th>6</th>\n",
       "      <td>Adventure</td>\n",
       "      <td>1471</td>\n",
       "    </tr>\n",
       "    <tr>\n",
       "      <th>7</th>\n",
       "      <td>Crime</td>\n",
       "      <td>1354</td>\n",
       "    </tr>\n",
       "    <tr>\n",
       "      <th>8</th>\n",
       "      <td>Family</td>\n",
       "      <td>1231</td>\n",
       "    </tr>\n",
       "    <tr>\n",
       "      <th>9</th>\n",
       "      <td>Science Fiction</td>\n",
       "      <td>1229</td>\n",
       "    </tr>\n",
       "  </tbody>\n",
       "</table>\n",
       "</div>"
      ],
      "text/plain": [
       "            genres  no_of_movies\n",
       "0            Drama          4760\n",
       "1           Comedy          3793\n",
       "2         Thriller          2907\n",
       "3           Action          2384\n",
       "4          Romance          1712\n",
       "5           Horror          1637\n",
       "6        Adventure          1471\n",
       "7            Crime          1354\n",
       "8           Family          1231\n",
       "9  Science Fiction          1229"
      ]
     },
     "execution_count": 20,
     "metadata": {},
     "output_type": "execute_result"
    }
   ],
   "source": [
    "# frequent 10 genres dataframe\n",
    "df_frequent_genres"
   ]
  },
  {
   "cell_type": "code",
   "execution_count": 21,
   "metadata": {},
   "outputs": [
    {
     "data": {
      "text/plain": [
       "10865"
      ]
     },
     "execution_count": 21,
     "metadata": {},
     "output_type": "execute_result"
    }
   ],
   "source": [
    "df_movies.shape[0]"
   ]
  },
  {
   "cell_type": "code",
   "execution_count": 22,
   "metadata": {},
   "outputs": [],
   "source": [
    "# Percante of frequent Genres:\n",
    "df_frequent_genres['percentage'] =  df_frequent_genres['no_of_movies']/df_movies.shape[0]*100"
   ]
  },
  {
   "cell_type": "code",
   "execution_count": 23,
   "metadata": {},
   "outputs": [
    {
     "data": {
      "text/html": [
       "<div>\n",
       "<style scoped>\n",
       "    .dataframe tbody tr th:only-of-type {\n",
       "        vertical-align: middle;\n",
       "    }\n",
       "\n",
       "    .dataframe tbody tr th {\n",
       "        vertical-align: top;\n",
       "    }\n",
       "\n",
       "    .dataframe thead th {\n",
       "        text-align: right;\n",
       "    }\n",
       "</style>\n",
       "<table border=\"1\" class=\"dataframe\">\n",
       "  <thead>\n",
       "    <tr style=\"text-align: right;\">\n",
       "      <th></th>\n",
       "      <th>genres</th>\n",
       "      <th>no_of_movies</th>\n",
       "      <th>percentage</th>\n",
       "    </tr>\n",
       "  </thead>\n",
       "  <tbody>\n",
       "    <tr>\n",
       "      <th>0</th>\n",
       "      <td>Drama</td>\n",
       "      <td>4760</td>\n",
       "      <td>43.810400</td>\n",
       "    </tr>\n",
       "    <tr>\n",
       "      <th>1</th>\n",
       "      <td>Comedy</td>\n",
       "      <td>3793</td>\n",
       "      <td>34.910262</td>\n",
       "    </tr>\n",
       "    <tr>\n",
       "      <th>2</th>\n",
       "      <td>Thriller</td>\n",
       "      <td>2907</td>\n",
       "      <td>26.755637</td>\n",
       "    </tr>\n",
       "    <tr>\n",
       "      <th>3</th>\n",
       "      <td>Action</td>\n",
       "      <td>2384</td>\n",
       "      <td>21.942016</td>\n",
       "    </tr>\n",
       "    <tr>\n",
       "      <th>4</th>\n",
       "      <td>Romance</td>\n",
       "      <td>1712</td>\n",
       "      <td>15.757018</td>\n",
       "    </tr>\n",
       "    <tr>\n",
       "      <th>5</th>\n",
       "      <td>Horror</td>\n",
       "      <td>1637</td>\n",
       "      <td>15.066728</td>\n",
       "    </tr>\n",
       "    <tr>\n",
       "      <th>6</th>\n",
       "      <td>Adventure</td>\n",
       "      <td>1471</td>\n",
       "      <td>13.538886</td>\n",
       "    </tr>\n",
       "    <tr>\n",
       "      <th>7</th>\n",
       "      <td>Crime</td>\n",
       "      <td>1354</td>\n",
       "      <td>12.462034</td>\n",
       "    </tr>\n",
       "    <tr>\n",
       "      <th>8</th>\n",
       "      <td>Family</td>\n",
       "      <td>1231</td>\n",
       "      <td>11.329959</td>\n",
       "    </tr>\n",
       "    <tr>\n",
       "      <th>9</th>\n",
       "      <td>Science Fiction</td>\n",
       "      <td>1229</td>\n",
       "      <td>11.311551</td>\n",
       "    </tr>\n",
       "  </tbody>\n",
       "</table>\n",
       "</div>"
      ],
      "text/plain": [
       "            genres  no_of_movies  percentage\n",
       "0            Drama          4760   43.810400\n",
       "1           Comedy          3793   34.910262\n",
       "2         Thriller          2907   26.755637\n",
       "3           Action          2384   21.942016\n",
       "4          Romance          1712   15.757018\n",
       "5           Horror          1637   15.066728\n",
       "6        Adventure          1471   13.538886\n",
       "7            Crime          1354   12.462034\n",
       "8           Family          1231   11.329959\n",
       "9  Science Fiction          1229   11.311551"
      ]
     },
     "execution_count": 23,
     "metadata": {},
     "output_type": "execute_result"
    }
   ],
   "source": [
    "# Percante of frequent Genres:\n",
    "df_frequent_genres"
   ]
  },
  {
   "cell_type": "markdown",
   "metadata": {},
   "source": [
    "### Note: \n",
    "\n",
    "**1. It is important to note that, one movie can be categorized as a combination of multiple genres. Hence, the addition of no_of_movies (and the percentage) supercedes the total number of movies.** \n",
    "\n",
    "**2. The percentage here indicates how many percentages of the total movies have a particular genre mentioned as a part of the genre description.**"
   ]
  },
  {
   "cell_type": "markdown",
   "metadata": {},
   "source": [
    "###  6-C) Which Production company released the highest amount of movies?\n",
    "                "
   ]
  },
  {
   "cell_type": "code",
   "execution_count": 24,
   "metadata": {},
   "outputs": [],
   "source": [
    "# top 10 production companies\n",
    "top10_production_companies = frequent_names(df_movies['production_companies'])"
   ]
  },
  {
   "cell_type": "code",
   "execution_count": 25,
   "metadata": {},
   "outputs": [
    {
     "data": {
      "text/plain": [
       "[('Universal Pictures', 522),\n",
       " ('Warner Bros.', 509),\n",
       " ('Paramount Pictures', 431),\n",
       " ('Twentieth Century Fox Film Corporation', 282),\n",
       " ('Columbia Pictures', 272),\n",
       " ('New Line Cinema', 219),\n",
       " ('Metro-Goldwyn-Mayer (MGM)', 218),\n",
       " ('Walt Disney Pictures', 214),\n",
       " ('Touchstone Pictures', 178),\n",
       " ('Columbia Pictures Corporation', 160)]"
      ]
     },
     "execution_count": 25,
     "metadata": {},
     "output_type": "execute_result"
    }
   ],
   "source": [
    "# top 10 production companies\n",
    "top10_production_companies"
   ]
  },
  {
   "cell_type": "code",
   "execution_count": 26,
   "metadata": {},
   "outputs": [],
   "source": [
    "#converting the top 10 production companies into a dataframe\n",
    "df_top10_production_companies =  pd.DataFrame(top10_production_companies,columns = ['production_company', 'no_of_movies'])"
   ]
  },
  {
   "cell_type": "code",
   "execution_count": 27,
   "metadata": {},
   "outputs": [
    {
     "data": {
      "text/html": [
       "<div>\n",
       "<style scoped>\n",
       "    .dataframe tbody tr th:only-of-type {\n",
       "        vertical-align: middle;\n",
       "    }\n",
       "\n",
       "    .dataframe tbody tr th {\n",
       "        vertical-align: top;\n",
       "    }\n",
       "\n",
       "    .dataframe thead th {\n",
       "        text-align: right;\n",
       "    }\n",
       "</style>\n",
       "<table border=\"1\" class=\"dataframe\">\n",
       "  <thead>\n",
       "    <tr style=\"text-align: right;\">\n",
       "      <th></th>\n",
       "      <th>production_company</th>\n",
       "      <th>no_of_movies</th>\n",
       "    </tr>\n",
       "  </thead>\n",
       "  <tbody>\n",
       "    <tr>\n",
       "      <th>0</th>\n",
       "      <td>Universal Pictures</td>\n",
       "      <td>522</td>\n",
       "    </tr>\n",
       "    <tr>\n",
       "      <th>1</th>\n",
       "      <td>Warner Bros.</td>\n",
       "      <td>509</td>\n",
       "    </tr>\n",
       "    <tr>\n",
       "      <th>2</th>\n",
       "      <td>Paramount Pictures</td>\n",
       "      <td>431</td>\n",
       "    </tr>\n",
       "    <tr>\n",
       "      <th>3</th>\n",
       "      <td>Twentieth Century Fox Film Corporation</td>\n",
       "      <td>282</td>\n",
       "    </tr>\n",
       "    <tr>\n",
       "      <th>4</th>\n",
       "      <td>Columbia Pictures</td>\n",
       "      <td>272</td>\n",
       "    </tr>\n",
       "    <tr>\n",
       "      <th>5</th>\n",
       "      <td>New Line Cinema</td>\n",
       "      <td>219</td>\n",
       "    </tr>\n",
       "    <tr>\n",
       "      <th>6</th>\n",
       "      <td>Metro-Goldwyn-Mayer (MGM)</td>\n",
       "      <td>218</td>\n",
       "    </tr>\n",
       "    <tr>\n",
       "      <th>7</th>\n",
       "      <td>Walt Disney Pictures</td>\n",
       "      <td>214</td>\n",
       "    </tr>\n",
       "    <tr>\n",
       "      <th>8</th>\n",
       "      <td>Touchstone Pictures</td>\n",
       "      <td>178</td>\n",
       "    </tr>\n",
       "    <tr>\n",
       "      <th>9</th>\n",
       "      <td>Columbia Pictures Corporation</td>\n",
       "      <td>160</td>\n",
       "    </tr>\n",
       "  </tbody>\n",
       "</table>\n",
       "</div>"
      ],
      "text/plain": [
       "                       production_company  no_of_movies\n",
       "0                      Universal Pictures           522\n",
       "1                            Warner Bros.           509\n",
       "2                      Paramount Pictures           431\n",
       "3  Twentieth Century Fox Film Corporation           282\n",
       "4                       Columbia Pictures           272\n",
       "5                         New Line Cinema           219\n",
       "6               Metro-Goldwyn-Mayer (MGM)           218\n",
       "7                    Walt Disney Pictures           214\n",
       "8                     Touchstone Pictures           178\n",
       "9           Columbia Pictures Corporation           160"
      ]
     },
     "execution_count": 27,
     "metadata": {},
     "output_type": "execute_result"
    }
   ],
   "source": [
    "#Top 10 production company\n",
    "df_top10_production_companies"
   ]
  },
  {
   "cell_type": "markdown",
   "metadata": {},
   "source": [
    "### 6-D) What is the largest number of the movie by a single producer?\n",
    " "
   ]
  },
  {
   "cell_type": "code",
   "execution_count": 28,
   "metadata": {},
   "outputs": [],
   "source": [
    "# top 10 production companies\n",
    "top10_producers = frequent_names(df_movies['director'])"
   ]
  },
  {
   "cell_type": "code",
   "execution_count": 29,
   "metadata": {},
   "outputs": [
    {
     "data": {
      "text/plain": [
       "[('Woody Allen', 46),\n",
       " ('Clint Eastwood', 34),\n",
       " ('Martin Scorsese', 31),\n",
       " ('Steven Spielberg', 30),\n",
       " ('Ridley Scott', 23),\n",
       " ('Steven Soderbergh', 23),\n",
       " ('Ron Howard', 22),\n",
       " ('Joel Schumacher', 21),\n",
       " ('Tim Burton', 20),\n",
       " ('Brian De Palma', 20)]"
      ]
     },
     "execution_count": 29,
     "metadata": {},
     "output_type": "execute_result"
    }
   ],
   "source": [
    "# 10 most frequent producers\n",
    "top10_producers"
   ]
  },
  {
   "cell_type": "code",
   "execution_count": 30,
   "metadata": {},
   "outputs": [
    {
     "data": {
      "text/plain": [
       "6.430434782608694"
      ]
     },
     "execution_count": 30,
     "metadata": {},
     "output_type": "execute_result"
    }
   ],
   "source": [
    "# average rating for the Woody Allen movies\n",
    "df_movies[df_movies['director'].str.contains(\"Woody Allen\")==True].vote_average.mean()\n"
   ]
  },
  {
   "cell_type": "code",
   "execution_count": 31,
   "metadata": {},
   "outputs": [
    {
     "data": {
      "text/plain": [
       "7.7"
      ]
     },
     "execution_count": 31,
     "metadata": {},
     "output_type": "execute_result"
    }
   ],
   "source": [
    "# Max average rating for the Woody Allen movies\n",
    "df_movies[df_movies['director'].str.contains(\"Woody Allen\")==True].vote_average.max()"
   ]
  },
  {
   "cell_type": "code",
   "execution_count": 32,
   "metadata": {},
   "outputs": [
    {
     "data": {
      "text/plain": [
       "5.4"
      ]
     },
     "execution_count": 32,
     "metadata": {},
     "output_type": "execute_result"
    }
   ],
   "source": [
    "# Minimum average rating for the Woody Allen movies\n",
    "df_movies[df_movies['director'].str.contains(\"Woody Allen\")==True].vote_average.min()"
   ]
  },
  {
   "cell_type": "markdown",
   "metadata": {},
   "source": [
    "### 6-E) What is the highest amount of profit made by a movie?\n",
    "                \n",
    "                "
   ]
  },
  {
   "cell_type": "code",
   "execution_count": 33,
   "metadata": {},
   "outputs": [],
   "source": [
    "# Converting the budget and revenue in million USD\n",
    "df_movies['budget']= df_movies['budget']/10**6\n",
    "df_movies['revenue']= df_movies['revenue']/10**6"
   ]
  },
  {
   "cell_type": "code",
   "execution_count": 34,
   "metadata": {},
   "outputs": [],
   "source": [
    "#Calcuating profit by subtucting budget from revenue\n",
    "df_movies['profit'] = df_movies['revenue']- df_movies['budget']"
   ]
  },
  {
   "cell_type": "code",
   "execution_count": 35,
   "metadata": {},
   "outputs": [
    {
     "data": {
      "text/html": [
       "<div>\n",
       "<style scoped>\n",
       "    .dataframe tbody tr th:only-of-type {\n",
       "        vertical-align: middle;\n",
       "    }\n",
       "\n",
       "    .dataframe tbody tr th {\n",
       "        vertical-align: top;\n",
       "    }\n",
       "\n",
       "    .dataframe thead th {\n",
       "        text-align: right;\n",
       "    }\n",
       "</style>\n",
       "<table border=\"1\" class=\"dataframe\">\n",
       "  <thead>\n",
       "    <tr style=\"text-align: right;\">\n",
       "      <th></th>\n",
       "      <th>budget</th>\n",
       "      <th>revenue</th>\n",
       "      <th>original_title</th>\n",
       "      <th>cast</th>\n",
       "      <th>director</th>\n",
       "      <th>keywords</th>\n",
       "      <th>runtime</th>\n",
       "      <th>genres</th>\n",
       "      <th>production_companies</th>\n",
       "      <th>release_date</th>\n",
       "      <th>vote_average</th>\n",
       "      <th>release_year</th>\n",
       "      <th>profit</th>\n",
       "    </tr>\n",
       "  </thead>\n",
       "  <tbody>\n",
       "    <tr>\n",
       "      <th>1386</th>\n",
       "      <td>237.0</td>\n",
       "      <td>2781.505847</td>\n",
       "      <td>Avatar</td>\n",
       "      <td>Sam Worthington|Zoe Saldana|Sigourney Weaver|S...</td>\n",
       "      <td>James Cameron</td>\n",
       "      <td>culture clash|future|space war|space colony|so...</td>\n",
       "      <td>162</td>\n",
       "      <td>Action|Adventure|Fantasy|Science Fiction</td>\n",
       "      <td>Ingenious Film Partners|Twentieth Century Fox ...</td>\n",
       "      <td>12/10/2009</td>\n",
       "      <td>7.1</td>\n",
       "      <td>2009</td>\n",
       "      <td>2544.505847</td>\n",
       "    </tr>\n",
       "    <tr>\n",
       "      <th>3</th>\n",
       "      <td>200.0</td>\n",
       "      <td>2068.178225</td>\n",
       "      <td>Star Wars: The Force Awakens</td>\n",
       "      <td>Harrison Ford|Mark Hamill|Carrie Fisher|Adam D...</td>\n",
       "      <td>J.J. Abrams</td>\n",
       "      <td>android|spaceship|jedi|space opera|3d</td>\n",
       "      <td>136</td>\n",
       "      <td>Action|Adventure|Science Fiction|Fantasy</td>\n",
       "      <td>Lucasfilm|Truenorth Productions|Bad Robot</td>\n",
       "      <td>12/15/2015</td>\n",
       "      <td>7.5</td>\n",
       "      <td>2015</td>\n",
       "      <td>1868.178225</td>\n",
       "    </tr>\n",
       "    <tr>\n",
       "      <th>5231</th>\n",
       "      <td>200.0</td>\n",
       "      <td>1845.034188</td>\n",
       "      <td>Titanic</td>\n",
       "      <td>Kate Winslet|Leonardo DiCaprio|Frances Fisher|...</td>\n",
       "      <td>James Cameron</td>\n",
       "      <td>shipwreck|iceberg|ship|panic|titanic</td>\n",
       "      <td>194</td>\n",
       "      <td>Drama|Romance|Thriller</td>\n",
       "      <td>Paramount Pictures|Twentieth Century Fox Film ...</td>\n",
       "      <td>11/18/1997</td>\n",
       "      <td>7.3</td>\n",
       "      <td>1997</td>\n",
       "      <td>1645.034188</td>\n",
       "    </tr>\n",
       "  </tbody>\n",
       "</table>\n",
       "</div>"
      ],
      "text/plain": [
       "      budget      revenue                original_title  \\\n",
       "1386   237.0  2781.505847                        Avatar   \n",
       "3      200.0  2068.178225  Star Wars: The Force Awakens   \n",
       "5231   200.0  1845.034188                       Titanic   \n",
       "\n",
       "                                                   cast       director  \\\n",
       "1386  Sam Worthington|Zoe Saldana|Sigourney Weaver|S...  James Cameron   \n",
       "3     Harrison Ford|Mark Hamill|Carrie Fisher|Adam D...    J.J. Abrams   \n",
       "5231  Kate Winslet|Leonardo DiCaprio|Frances Fisher|...  James Cameron   \n",
       "\n",
       "                                               keywords  runtime  \\\n",
       "1386  culture clash|future|space war|space colony|so...      162   \n",
       "3                 android|spaceship|jedi|space opera|3d      136   \n",
       "5231               shipwreck|iceberg|ship|panic|titanic      194   \n",
       "\n",
       "                                        genres  \\\n",
       "1386  Action|Adventure|Fantasy|Science Fiction   \n",
       "3     Action|Adventure|Science Fiction|Fantasy   \n",
       "5231                    Drama|Romance|Thriller   \n",
       "\n",
       "                                   production_companies release_date  \\\n",
       "1386  Ingenious Film Partners|Twentieth Century Fox ...   12/10/2009   \n",
       "3             Lucasfilm|Truenorth Productions|Bad Robot   12/15/2015   \n",
       "5231  Paramount Pictures|Twentieth Century Fox Film ...   11/18/1997   \n",
       "\n",
       "      vote_average  release_year       profit  \n",
       "1386           7.1          2009  2544.505847  \n",
       "3              7.5          2015  1868.178225  \n",
       "5231           7.3          1997  1645.034188  "
      ]
     },
     "execution_count": 35,
     "metadata": {},
     "output_type": "execute_result"
    }
   ],
   "source": [
    "# Top 3 movies with largest amount of profit\n",
    "df_movies.nlargest(3,'profit')"
   ]
  },
  {
   "cell_type": "markdown",
   "metadata": {},
   "source": [
    "### 6. Conclusions\n",
    "\n",
    "**A) Robert De Niro is the most frequent cast and he has appeared for 72 movies.** \n",
    "\n",
    "**B) Comedy and the Drama are the most common genre description of the movies.**\n",
    "\n",
    "**C) Universal Picture has released the largest number of movies - a total of 522.**\n",
    "\n",
    "**D) Woody Allen has produced the highest number of 46 movies, and the average vote rating for his movies is 6.43. Maximum vote_average of his movie is 7.7 and the minimum is 5.4.**\n",
    "\n",
    "**E) 'Avatar' by James Cameron made the largest amount of profit- and as mentioned by the wiki-\"Avatar\" is also the world's highest-grossing film of all time (Source Ref-1).**\n"
   ]
  },
  {
   "cell_type": "markdown",
   "metadata": {},
   "source": [
    "###  7. Top 500 Movies with highest Vote Average\n",
    "\n",
    "For this part of the project, we will foucs on the top 500 movies with the highest vote average. \n",
    "               \n",
    "               \n",
    "\n"
   ]
  },
  {
   "cell_type": "code",
   "execution_count": 36,
   "metadata": {},
   "outputs": [],
   "source": [
    "#top 500 movies with highest vote_average\n",
    "df_top500 = df_movies.nlargest(500, 'vote_average')"
   ]
  },
  {
   "cell_type": "code",
   "execution_count": 37,
   "metadata": {},
   "outputs": [
    {
     "data": {
      "text/html": [
       "<div>\n",
       "<style scoped>\n",
       "    .dataframe tbody tr th:only-of-type {\n",
       "        vertical-align: middle;\n",
       "    }\n",
       "\n",
       "    .dataframe tbody tr th {\n",
       "        vertical-align: top;\n",
       "    }\n",
       "\n",
       "    .dataframe thead th {\n",
       "        text-align: right;\n",
       "    }\n",
       "</style>\n",
       "<table border=\"1\" class=\"dataframe\">\n",
       "  <thead>\n",
       "    <tr style=\"text-align: right;\">\n",
       "      <th></th>\n",
       "      <th>budget</th>\n",
       "      <th>revenue</th>\n",
       "      <th>original_title</th>\n",
       "      <th>cast</th>\n",
       "      <th>director</th>\n",
       "      <th>keywords</th>\n",
       "      <th>runtime</th>\n",
       "      <th>genres</th>\n",
       "      <th>production_companies</th>\n",
       "      <th>release_date</th>\n",
       "      <th>vote_average</th>\n",
       "      <th>release_year</th>\n",
       "      <th>profit</th>\n",
       "    </tr>\n",
       "  </thead>\n",
       "  <tbody>\n",
       "    <tr>\n",
       "      <th>3894</th>\n",
       "      <td>0.0</td>\n",
       "      <td>0.0</td>\n",
       "      <td>The Story of Film: An Odyssey</td>\n",
       "      <td>Mark Cousins|Jean-Michel Frodon|Cari Beauchamp...</td>\n",
       "      <td>Mark Cousins</td>\n",
       "      <td>cinema|nouvelle vague|hindi cinema|cinema novo...</td>\n",
       "      <td>900</td>\n",
       "      <td>Documentary</td>\n",
       "      <td>NaN</td>\n",
       "      <td>9/3/2011</td>\n",
       "      <td>9.2</td>\n",
       "      <td>2011</td>\n",
       "      <td>0.0</td>\n",
       "    </tr>\n",
       "    <tr>\n",
       "      <th>538</th>\n",
       "      <td>0.0</td>\n",
       "      <td>0.0</td>\n",
       "      <td>The Mask You Live In</td>\n",
       "      <td>NaN</td>\n",
       "      <td>Jennifer Siebel Newsom</td>\n",
       "      <td>feminism|sexism|young boy|gender roles|misogyny</td>\n",
       "      <td>88</td>\n",
       "      <td>Documentary</td>\n",
       "      <td>NaN</td>\n",
       "      <td>1/1/2015</td>\n",
       "      <td>8.9</td>\n",
       "      <td>2015</td>\n",
       "      <td>0.0</td>\n",
       "    </tr>\n",
       "  </tbody>\n",
       "</table>\n",
       "</div>"
      ],
      "text/plain": [
       "      budget  revenue                 original_title  \\\n",
       "3894     0.0      0.0  The Story of Film: An Odyssey   \n",
       "538      0.0      0.0           The Mask You Live In   \n",
       "\n",
       "                                                   cast  \\\n",
       "3894  Mark Cousins|Jean-Michel Frodon|Cari Beauchamp...   \n",
       "538                                                 NaN   \n",
       "\n",
       "                    director  \\\n",
       "3894            Mark Cousins   \n",
       "538   Jennifer Siebel Newsom   \n",
       "\n",
       "                                               keywords  runtime       genres  \\\n",
       "3894  cinema|nouvelle vague|hindi cinema|cinema novo...      900  Documentary   \n",
       "538     feminism|sexism|young boy|gender roles|misogyny       88  Documentary   \n",
       "\n",
       "     production_companies release_date  vote_average  release_year  profit  \n",
       "3894                  NaN     9/3/2011           9.2          2011     0.0  \n",
       "538                   NaN     1/1/2015           8.9          2015     0.0  "
      ]
     },
     "execution_count": 37,
     "metadata": {},
     "output_type": "execute_result"
    }
   ],
   "source": [
    "#View the top 500 movies with highest vote_average\n",
    "df_top500.head(2)"
   ]
  },
  {
   "cell_type": "code",
   "execution_count": 38,
   "metadata": {},
   "outputs": [],
   "source": [
    "# Creates bin edges for each decade\n",
    "bin_edges = [1959, 1969, 1979, 1989, 1999, 2009, 2019 ]"
   ]
  },
  {
   "cell_type": "code",
   "execution_count": 39,
   "metadata": {},
   "outputs": [],
   "source": [
    "# Creates bin names based on the decades\n",
    "bin_names = ['1960s', '1970s', '1980s', '1990s', '2000s', '2010s' ]"
   ]
  },
  {
   "cell_type": "code",
   "execution_count": 40,
   "metadata": {},
   "outputs": [],
   "source": [
    "# Creates decade_levels column based on the year of release\n",
    "df_top500['decade'] = pd.cut(df_movies['release_year'], bin_edges, labels = bin_names)"
   ]
  },
  {
   "cell_type": "code",
   "execution_count": 41,
   "metadata": {},
   "outputs": [
    {
     "data": {
      "text/html": [
       "<div>\n",
       "<style scoped>\n",
       "    .dataframe tbody tr th:only-of-type {\n",
       "        vertical-align: middle;\n",
       "    }\n",
       "\n",
       "    .dataframe tbody tr th {\n",
       "        vertical-align: top;\n",
       "    }\n",
       "\n",
       "    .dataframe thead th {\n",
       "        text-align: right;\n",
       "    }\n",
       "</style>\n",
       "<table border=\"1\" class=\"dataframe\">\n",
       "  <thead>\n",
       "    <tr style=\"text-align: right;\">\n",
       "      <th></th>\n",
       "      <th>budget</th>\n",
       "      <th>revenue</th>\n",
       "      <th>original_title</th>\n",
       "      <th>cast</th>\n",
       "      <th>director</th>\n",
       "      <th>keywords</th>\n",
       "      <th>runtime</th>\n",
       "      <th>genres</th>\n",
       "      <th>production_companies</th>\n",
       "      <th>release_date</th>\n",
       "      <th>vote_average</th>\n",
       "      <th>release_year</th>\n",
       "      <th>profit</th>\n",
       "      <th>decade</th>\n",
       "    </tr>\n",
       "  </thead>\n",
       "  <tbody>\n",
       "    <tr>\n",
       "      <th>3894</th>\n",
       "      <td>0.0</td>\n",
       "      <td>0.0</td>\n",
       "      <td>The Story of Film: An Odyssey</td>\n",
       "      <td>Mark Cousins|Jean-Michel Frodon|Cari Beauchamp...</td>\n",
       "      <td>Mark Cousins</td>\n",
       "      <td>cinema|nouvelle vague|hindi cinema|cinema novo...</td>\n",
       "      <td>900</td>\n",
       "      <td>Documentary</td>\n",
       "      <td>NaN</td>\n",
       "      <td>9/3/2011</td>\n",
       "      <td>9.2</td>\n",
       "      <td>2011</td>\n",
       "      <td>0.0</td>\n",
       "      <td>2010s</td>\n",
       "    </tr>\n",
       "    <tr>\n",
       "      <th>538</th>\n",
       "      <td>0.0</td>\n",
       "      <td>0.0</td>\n",
       "      <td>The Mask You Live In</td>\n",
       "      <td>NaN</td>\n",
       "      <td>Jennifer Siebel Newsom</td>\n",
       "      <td>feminism|sexism|young boy|gender roles|misogyny</td>\n",
       "      <td>88</td>\n",
       "      <td>Documentary</td>\n",
       "      <td>NaN</td>\n",
       "      <td>1/1/2015</td>\n",
       "      <td>8.9</td>\n",
       "      <td>2015</td>\n",
       "      <td>0.0</td>\n",
       "      <td>2010s</td>\n",
       "    </tr>\n",
       "  </tbody>\n",
       "</table>\n",
       "</div>"
      ],
      "text/plain": [
       "      budget  revenue                 original_title  \\\n",
       "3894     0.0      0.0  The Story of Film: An Odyssey   \n",
       "538      0.0      0.0           The Mask You Live In   \n",
       "\n",
       "                                                   cast  \\\n",
       "3894  Mark Cousins|Jean-Michel Frodon|Cari Beauchamp...   \n",
       "538                                                 NaN   \n",
       "\n",
       "                    director  \\\n",
       "3894            Mark Cousins   \n",
       "538   Jennifer Siebel Newsom   \n",
       "\n",
       "                                               keywords  runtime       genres  \\\n",
       "3894  cinema|nouvelle vague|hindi cinema|cinema novo...      900  Documentary   \n",
       "538     feminism|sexism|young boy|gender roles|misogyny       88  Documentary   \n",
       "\n",
       "     production_companies release_date  vote_average  release_year  profit  \\\n",
       "3894                  NaN     9/3/2011           9.2          2011     0.0   \n",
       "538                   NaN     1/1/2015           8.9          2015     0.0   \n",
       "\n",
       "     decade  \n",
       "3894  2010s  \n",
       "538   2010s  "
      ]
     },
     "execution_count": 41,
     "metadata": {},
     "output_type": "execute_result"
    }
   ],
   "source": [
    "#View the top 500 movies with decade column\n",
    "df_top500.head(2)"
   ]
  },
  {
   "cell_type": "code",
   "execution_count": 42,
   "metadata": {},
   "outputs": [
    {
     "name": "stdout",
     "output_type": "stream",
     "text": [
      "<class 'pandas.core.frame.DataFrame'>\n",
      "Int64Index: 500 entries, 3894 to 1926\n",
      "Data columns (total 14 columns):\n",
      "budget                  500 non-null float64\n",
      "revenue                 500 non-null float64\n",
      "original_title          500 non-null object\n",
      "cast                    479 non-null object\n",
      "director                486 non-null object\n",
      "keywords                421 non-null object\n",
      "runtime                 500 non-null int64\n",
      "genres                  495 non-null object\n",
      "production_companies    409 non-null object\n",
      "release_date            500 non-null object\n",
      "vote_average            500 non-null float64\n",
      "release_year            500 non-null int64\n",
      "profit                  500 non-null float64\n",
      "decade                  500 non-null category\n",
      "dtypes: category(1), float64(4), int64(2), object(7)\n",
      "memory usage: 55.4+ KB\n"
     ]
    }
   ],
   "source": [
    "#Overview of the data \n",
    "df_top500.info()"
   ]
  },
  {
   "cell_type": "code",
   "execution_count": 43,
   "metadata": {},
   "outputs": [
    {
     "data": {
      "text/html": [
       "<div>\n",
       "<style scoped>\n",
       "    .dataframe tbody tr th:only-of-type {\n",
       "        vertical-align: middle;\n",
       "    }\n",
       "\n",
       "    .dataframe tbody tr th {\n",
       "        vertical-align: top;\n",
       "    }\n",
       "\n",
       "    .dataframe thead th {\n",
       "        text-align: right;\n",
       "    }\n",
       "</style>\n",
       "<table border=\"1\" class=\"dataframe\">\n",
       "  <thead>\n",
       "    <tr style=\"text-align: right;\">\n",
       "      <th></th>\n",
       "      <th>budget</th>\n",
       "      <th>revenue</th>\n",
       "      <th>runtime</th>\n",
       "      <th>vote_average</th>\n",
       "      <th>release_year</th>\n",
       "      <th>profit</th>\n",
       "    </tr>\n",
       "  </thead>\n",
       "  <tbody>\n",
       "    <tr>\n",
       "      <th>count</th>\n",
       "      <td>500.000000</td>\n",
       "      <td>500.000000</td>\n",
       "      <td>500.000000</td>\n",
       "      <td>500.000000</td>\n",
       "      <td>500.000000</td>\n",
       "      <td>500.000000</td>\n",
       "    </tr>\n",
       "    <tr>\n",
       "      <th>mean</th>\n",
       "      <td>17.632674</td>\n",
       "      <td>94.220306</td>\n",
       "      <td>110.916000</td>\n",
       "      <td>7.737200</td>\n",
       "      <td>2003.512000</td>\n",
       "      <td>76.587631</td>\n",
       "    </tr>\n",
       "    <tr>\n",
       "      <th>std</th>\n",
       "      <td>42.698861</td>\n",
       "      <td>234.407522</td>\n",
       "      <td>73.272961</td>\n",
       "      <td>0.275259</td>\n",
       "      <td>13.437671</td>\n",
       "      <td>199.268617</td>\n",
       "    </tr>\n",
       "    <tr>\n",
       "      <th>min</th>\n",
       "      <td>0.000000</td>\n",
       "      <td>0.000000</td>\n",
       "      <td>0.000000</td>\n",
       "      <td>7.400000</td>\n",
       "      <td>1960.000000</td>\n",
       "      <td>-120.000000</td>\n",
       "    </tr>\n",
       "    <tr>\n",
       "      <th>25%</th>\n",
       "      <td>0.000000</td>\n",
       "      <td>0.000000</td>\n",
       "      <td>88.000000</td>\n",
       "      <td>7.500000</td>\n",
       "      <td>1998.000000</td>\n",
       "      <td>0.000000</td>\n",
       "    </tr>\n",
       "    <tr>\n",
       "      <th>50%</th>\n",
       "      <td>0.000000</td>\n",
       "      <td>0.000000</td>\n",
       "      <td>104.000000</td>\n",
       "      <td>7.700000</td>\n",
       "      <td>2009.000000</td>\n",
       "      <td>0.000000</td>\n",
       "    </tr>\n",
       "    <tr>\n",
       "      <th>75%</th>\n",
       "      <td>13.625000</td>\n",
       "      <td>47.399149</td>\n",
       "      <td>130.000000</td>\n",
       "      <td>7.900000</td>\n",
       "      <td>2013.000000</td>\n",
       "      <td>35.106527</td>\n",
       "    </tr>\n",
       "    <tr>\n",
       "      <th>max</th>\n",
       "      <td>280.000000</td>\n",
       "      <td>2068.178225</td>\n",
       "      <td>900.000000</td>\n",
       "      <td>9.200000</td>\n",
       "      <td>2015.000000</td>\n",
       "      <td>1868.178225</td>\n",
       "    </tr>\n",
       "  </tbody>\n",
       "</table>\n",
       "</div>"
      ],
      "text/plain": [
       "           budget      revenue     runtime  vote_average  release_year  \\\n",
       "count  500.000000   500.000000  500.000000    500.000000    500.000000   \n",
       "mean    17.632674    94.220306  110.916000      7.737200   2003.512000   \n",
       "std     42.698861   234.407522   73.272961      0.275259     13.437671   \n",
       "min      0.000000     0.000000    0.000000      7.400000   1960.000000   \n",
       "25%      0.000000     0.000000   88.000000      7.500000   1998.000000   \n",
       "50%      0.000000     0.000000  104.000000      7.700000   2009.000000   \n",
       "75%     13.625000    47.399149  130.000000      7.900000   2013.000000   \n",
       "max    280.000000  2068.178225  900.000000      9.200000   2015.000000   \n",
       "\n",
       "            profit  \n",
       "count   500.000000  \n",
       "mean     76.587631  \n",
       "std     199.268617  \n",
       "min    -120.000000  \n",
       "25%       0.000000  \n",
       "50%       0.000000  \n",
       "75%      35.106527  \n",
       "max    1868.178225  "
      ]
     },
     "execution_count": 43,
     "metadata": {},
     "output_type": "execute_result"
    }
   ],
   "source": [
    "#Summary the top 500 movie data \n",
    "df_top500.describe()"
   ]
  },
  {
   "cell_type": "markdown",
   "metadata": {},
   "source": [
    "### 7- A) Among the top 500 movies, what is the most frequent genre and what is the vote_average  for that genre?\n",
    "              "
   ]
  },
  {
   "cell_type": "code",
   "execution_count": 44,
   "metadata": {},
   "outputs": [],
   "source": [
    "# frquent 10 movie genres\n",
    "top10_gen = frequent_names(df_top500['genres'])"
   ]
  },
  {
   "cell_type": "code",
   "execution_count": 45,
   "metadata": {},
   "outputs": [
    {
     "data": {
      "text/plain": [
       "[('Drama', 211),\n",
       " ('Documentary', 131),\n",
       " ('Comedy', 105),\n",
       " ('Action', 66),\n",
       " ('Adventure', 61),\n",
       " ('Animation', 61),\n",
       " ('Thriller', 57),\n",
       " ('Crime', 56),\n",
       " ('Science Fiction', 51),\n",
       " ('Music', 51)]"
      ]
     },
     "execution_count": 45,
     "metadata": {},
     "output_type": "execute_result"
    }
   ],
   "source": [
    "# Most frequent 10 genres\n",
    "top10_gen"
   ]
  },
  {
   "cell_type": "code",
   "execution_count": 46,
   "metadata": {},
   "outputs": [
    {
     "data": {
      "text/plain": [
       "7.6976303317535635"
      ]
     },
     "execution_count": 46,
     "metadata": {},
     "output_type": "execute_result"
    }
   ],
   "source": [
    "# Average rating for the Drama genre among the topc 500 movies \n",
    "df_top500[df_top500['genres'].str.contains(\"Drama\")==True].vote_average.mean()"
   ]
  },
  {
   "cell_type": "code",
   "execution_count": 47,
   "metadata": {},
   "outputs": [
    {
     "data": {
      "text/plain": [
       "7.801526717557256"
      ]
     },
     "execution_count": 47,
     "metadata": {},
     "output_type": "execute_result"
    }
   ],
   "source": [
    "# Average rating for the Drama among the topc 500 movies \n",
    "df_top500[df_top500['genres'].str.contains(\"Documentary\")==True].vote_average.mean()"
   ]
  },
  {
   "cell_type": "code",
   "execution_count": 48,
   "metadata": {},
   "outputs": [
    {
     "data": {
      "text/plain": [
       "7.697142857142861"
      ]
     },
     "execution_count": 48,
     "metadata": {},
     "output_type": "execute_result"
    }
   ],
   "source": [
    "# Average rating for the Comedy genre among the topc 500 movies \n",
    "df_top500[df_top500['genres'].str.contains(\"Comedy\")==True].vote_average.mean()"
   ]
  },
  {
   "cell_type": "code",
   "execution_count": 49,
   "metadata": {},
   "outputs": [
    {
     "data": {
      "text/plain": [
       "7.643939393939392"
      ]
     },
     "execution_count": 49,
     "metadata": {},
     "output_type": "execute_result"
    }
   ],
   "source": [
    "# Average rating for the Action genre among the topc 500 movies \n",
    "df_top500[df_top500['genres'].str.contains(\"Action\")==True].vote_average.mean()"
   ]
  },
  {
   "cell_type": "markdown",
   "metadata": {},
   "source": [
    "### Conclucion 7-A)\n",
    "\n",
    "**Like the total movie dataset, the drama is also the most frequent genres mentioned in the genre description of the top 500 movies with a voter average of 7.69. Documentary ranks second, but the documentaries have a higher vote_average rating of 7.8.**"
   ]
  },
  {
   "cell_type": "markdown",
   "metadata": {},
   "source": [
    "### 7- B) In which quarter of the year most of the top 500 movies were released?\n",
    "                \n",
    "               "
   ]
  },
  {
   "cell_type": "code",
   "execution_count": 50,
   "metadata": {},
   "outputs": [
    {
     "data": {
      "text/html": [
       "<div>\n",
       "<style scoped>\n",
       "    .dataframe tbody tr th:only-of-type {\n",
       "        vertical-align: middle;\n",
       "    }\n",
       "\n",
       "    .dataframe tbody tr th {\n",
       "        vertical-align: top;\n",
       "    }\n",
       "\n",
       "    .dataframe thead th {\n",
       "        text-align: right;\n",
       "    }\n",
       "</style>\n",
       "<table border=\"1\" class=\"dataframe\">\n",
       "  <thead>\n",
       "    <tr style=\"text-align: right;\">\n",
       "      <th></th>\n",
       "      <th>budget</th>\n",
       "      <th>revenue</th>\n",
       "      <th>original_title</th>\n",
       "      <th>cast</th>\n",
       "      <th>director</th>\n",
       "      <th>keywords</th>\n",
       "      <th>runtime</th>\n",
       "      <th>genres</th>\n",
       "      <th>production_companies</th>\n",
       "      <th>release_date</th>\n",
       "      <th>vote_average</th>\n",
       "      <th>release_year</th>\n",
       "      <th>profit</th>\n",
       "      <th>decade</th>\n",
       "    </tr>\n",
       "  </thead>\n",
       "  <tbody>\n",
       "    <tr>\n",
       "      <th>3894</th>\n",
       "      <td>0.0</td>\n",
       "      <td>0.0</td>\n",
       "      <td>The Story of Film: An Odyssey</td>\n",
       "      <td>Mark Cousins|Jean-Michel Frodon|Cari Beauchamp...</td>\n",
       "      <td>Mark Cousins</td>\n",
       "      <td>cinema|nouvelle vague|hindi cinema|cinema novo...</td>\n",
       "      <td>900</td>\n",
       "      <td>Documentary</td>\n",
       "      <td>NaN</td>\n",
       "      <td>9/3/2011</td>\n",
       "      <td>9.2</td>\n",
       "      <td>2011</td>\n",
       "      <td>0.0</td>\n",
       "      <td>2010s</td>\n",
       "    </tr>\n",
       "    <tr>\n",
       "      <th>538</th>\n",
       "      <td>0.0</td>\n",
       "      <td>0.0</td>\n",
       "      <td>The Mask You Live In</td>\n",
       "      <td>NaN</td>\n",
       "      <td>Jennifer Siebel Newsom</td>\n",
       "      <td>feminism|sexism|young boy|gender roles|misogyny</td>\n",
       "      <td>88</td>\n",
       "      <td>Documentary</td>\n",
       "      <td>NaN</td>\n",
       "      <td>1/1/2015</td>\n",
       "      <td>8.9</td>\n",
       "      <td>2015</td>\n",
       "      <td>0.0</td>\n",
       "      <td>2010s</td>\n",
       "    </tr>\n",
       "    <tr>\n",
       "      <th>1200</th>\n",
       "      <td>0.0</td>\n",
       "      <td>0.0</td>\n",
       "      <td>Black Mirror: White Christmas</td>\n",
       "      <td>Jon Hamm|Rafe Spall|Oona Chaplin|Natalia Tena|...</td>\n",
       "      <td>Carl Tibbetts</td>\n",
       "      <td>artificial intelligence|confession|technology|...</td>\n",
       "      <td>74</td>\n",
       "      <td>Drama|Horror|Mystery|Science Fiction|Thriller</td>\n",
       "      <td>NaN</td>\n",
       "      <td>12/16/2014</td>\n",
       "      <td>8.8</td>\n",
       "      <td>2014</td>\n",
       "      <td>0.0</td>\n",
       "      <td>2010s</td>\n",
       "    </tr>\n",
       "  </tbody>\n",
       "</table>\n",
       "</div>"
      ],
      "text/plain": [
       "      budget  revenue                 original_title  \\\n",
       "3894     0.0      0.0  The Story of Film: An Odyssey   \n",
       "538      0.0      0.0           The Mask You Live In   \n",
       "1200     0.0      0.0  Black Mirror: White Christmas   \n",
       "\n",
       "                                                   cast  \\\n",
       "3894  Mark Cousins|Jean-Michel Frodon|Cari Beauchamp...   \n",
       "538                                                 NaN   \n",
       "1200  Jon Hamm|Rafe Spall|Oona Chaplin|Natalia Tena|...   \n",
       "\n",
       "                    director  \\\n",
       "3894            Mark Cousins   \n",
       "538   Jennifer Siebel Newsom   \n",
       "1200           Carl Tibbetts   \n",
       "\n",
       "                                               keywords  runtime  \\\n",
       "3894  cinema|nouvelle vague|hindi cinema|cinema novo...      900   \n",
       "538     feminism|sexism|young boy|gender roles|misogyny       88   \n",
       "1200  artificial intelligence|confession|technology|...       74   \n",
       "\n",
       "                                             genres production_companies  \\\n",
       "3894                                    Documentary                  NaN   \n",
       "538                                     Documentary                  NaN   \n",
       "1200  Drama|Horror|Mystery|Science Fiction|Thriller                  NaN   \n",
       "\n",
       "     release_date  vote_average  release_year  profit decade  \n",
       "3894     9/3/2011           9.2          2011     0.0  2010s  \n",
       "538      1/1/2015           8.9          2015     0.0  2010s  \n",
       "1200   12/16/2014           8.8          2014     0.0  2010s  "
      ]
     },
     "execution_count": 50,
     "metadata": {},
     "output_type": "execute_result"
    }
   ],
   "source": [
    "df_top500.head(3)"
   ]
  },
  {
   "cell_type": "code",
   "execution_count": 51,
   "metadata": {},
   "outputs": [],
   "source": [
    "#Converting release_date into datetime format\n",
    "df_top500['release_date']= pd.to_datetime(df_top500.release_date)"
   ]
  },
  {
   "cell_type": "code",
   "execution_count": 52,
   "metadata": {},
   "outputs": [
    {
     "data": {
      "text/html": [
       "<div>\n",
       "<style scoped>\n",
       "    .dataframe tbody tr th:only-of-type {\n",
       "        vertical-align: middle;\n",
       "    }\n",
       "\n",
       "    .dataframe tbody tr th {\n",
       "        vertical-align: top;\n",
       "    }\n",
       "\n",
       "    .dataframe thead th {\n",
       "        text-align: right;\n",
       "    }\n",
       "</style>\n",
       "<table border=\"1\" class=\"dataframe\">\n",
       "  <thead>\n",
       "    <tr style=\"text-align: right;\">\n",
       "      <th></th>\n",
       "      <th>budget</th>\n",
       "      <th>revenue</th>\n",
       "      <th>original_title</th>\n",
       "      <th>cast</th>\n",
       "      <th>director</th>\n",
       "      <th>keywords</th>\n",
       "      <th>runtime</th>\n",
       "      <th>genres</th>\n",
       "      <th>production_companies</th>\n",
       "      <th>release_date</th>\n",
       "      <th>vote_average</th>\n",
       "      <th>release_year</th>\n",
       "      <th>profit</th>\n",
       "      <th>decade</th>\n",
       "    </tr>\n",
       "  </thead>\n",
       "  <tbody>\n",
       "    <tr>\n",
       "      <th>3894</th>\n",
       "      <td>0.0</td>\n",
       "      <td>0.0</td>\n",
       "      <td>The Story of Film: An Odyssey</td>\n",
       "      <td>Mark Cousins|Jean-Michel Frodon|Cari Beauchamp...</td>\n",
       "      <td>Mark Cousins</td>\n",
       "      <td>cinema|nouvelle vague|hindi cinema|cinema novo...</td>\n",
       "      <td>900</td>\n",
       "      <td>Documentary</td>\n",
       "      <td>NaN</td>\n",
       "      <td>2011-09-03</td>\n",
       "      <td>9.2</td>\n",
       "      <td>2011</td>\n",
       "      <td>0.0</td>\n",
       "      <td>2010s</td>\n",
       "    </tr>\n",
       "    <tr>\n",
       "      <th>538</th>\n",
       "      <td>0.0</td>\n",
       "      <td>0.0</td>\n",
       "      <td>The Mask You Live In</td>\n",
       "      <td>NaN</td>\n",
       "      <td>Jennifer Siebel Newsom</td>\n",
       "      <td>feminism|sexism|young boy|gender roles|misogyny</td>\n",
       "      <td>88</td>\n",
       "      <td>Documentary</td>\n",
       "      <td>NaN</td>\n",
       "      <td>2015-01-01</td>\n",
       "      <td>8.9</td>\n",
       "      <td>2015</td>\n",
       "      <td>0.0</td>\n",
       "      <td>2010s</td>\n",
       "    </tr>\n",
       "    <tr>\n",
       "      <th>1200</th>\n",
       "      <td>0.0</td>\n",
       "      <td>0.0</td>\n",
       "      <td>Black Mirror: White Christmas</td>\n",
       "      <td>Jon Hamm|Rafe Spall|Oona Chaplin|Natalia Tena|...</td>\n",
       "      <td>Carl Tibbetts</td>\n",
       "      <td>artificial intelligence|confession|technology|...</td>\n",
       "      <td>74</td>\n",
       "      <td>Drama|Horror|Mystery|Science Fiction|Thriller</td>\n",
       "      <td>NaN</td>\n",
       "      <td>2014-12-16</td>\n",
       "      <td>8.8</td>\n",
       "      <td>2014</td>\n",
       "      <td>0.0</td>\n",
       "      <td>2010s</td>\n",
       "    </tr>\n",
       "    <tr>\n",
       "      <th>2269</th>\n",
       "      <td>0.0</td>\n",
       "      <td>0.0</td>\n",
       "      <td>Life Cycles</td>\n",
       "      <td>NaN</td>\n",
       "      <td>Derek Frankowski</td>\n",
       "      <td>sport|cycling</td>\n",
       "      <td>47</td>\n",
       "      <td>Documentary</td>\n",
       "      <td>NaN</td>\n",
       "      <td>2010-10-02</td>\n",
       "      <td>8.8</td>\n",
       "      <td>2010</td>\n",
       "      <td>0.0</td>\n",
       "      <td>2010s</td>\n",
       "    </tr>\n",
       "    <tr>\n",
       "      <th>6911</th>\n",
       "      <td>0.0</td>\n",
       "      <td>0.0</td>\n",
       "      <td>Pink Floyd: Pulse</td>\n",
       "      <td>David Gilmour|Nick Mason|Richard Wright|Sam Br...</td>\n",
       "      <td>David Mallet</td>\n",
       "      <td>live concert</td>\n",
       "      <td>145</td>\n",
       "      <td>Music</td>\n",
       "      <td>SMV Enterprises|Columbia Music Video|EMI</td>\n",
       "      <td>2006-07-09</td>\n",
       "      <td>8.7</td>\n",
       "      <td>2006</td>\n",
       "      <td>0.0</td>\n",
       "      <td>2000s</td>\n",
       "    </tr>\n",
       "  </tbody>\n",
       "</table>\n",
       "</div>"
      ],
      "text/plain": [
       "      budget  revenue                 original_title  \\\n",
       "3894     0.0      0.0  The Story of Film: An Odyssey   \n",
       "538      0.0      0.0           The Mask You Live In   \n",
       "1200     0.0      0.0  Black Mirror: White Christmas   \n",
       "2269     0.0      0.0                    Life Cycles   \n",
       "6911     0.0      0.0              Pink Floyd: Pulse   \n",
       "\n",
       "                                                   cast  \\\n",
       "3894  Mark Cousins|Jean-Michel Frodon|Cari Beauchamp...   \n",
       "538                                                 NaN   \n",
       "1200  Jon Hamm|Rafe Spall|Oona Chaplin|Natalia Tena|...   \n",
       "2269                                                NaN   \n",
       "6911  David Gilmour|Nick Mason|Richard Wright|Sam Br...   \n",
       "\n",
       "                    director  \\\n",
       "3894            Mark Cousins   \n",
       "538   Jennifer Siebel Newsom   \n",
       "1200           Carl Tibbetts   \n",
       "2269        Derek Frankowski   \n",
       "6911            David Mallet   \n",
       "\n",
       "                                               keywords  runtime  \\\n",
       "3894  cinema|nouvelle vague|hindi cinema|cinema novo...      900   \n",
       "538     feminism|sexism|young boy|gender roles|misogyny       88   \n",
       "1200  artificial intelligence|confession|technology|...       74   \n",
       "2269                                      sport|cycling       47   \n",
       "6911                                       live concert      145   \n",
       "\n",
       "                                             genres  \\\n",
       "3894                                    Documentary   \n",
       "538                                     Documentary   \n",
       "1200  Drama|Horror|Mystery|Science Fiction|Thriller   \n",
       "2269                                    Documentary   \n",
       "6911                                          Music   \n",
       "\n",
       "                          production_companies release_date  vote_average  \\\n",
       "3894                                       NaN   2011-09-03           9.2   \n",
       "538                                        NaN   2015-01-01           8.9   \n",
       "1200                                       NaN   2014-12-16           8.8   \n",
       "2269                                       NaN   2010-10-02           8.8   \n",
       "6911  SMV Enterprises|Columbia Music Video|EMI   2006-07-09           8.7   \n",
       "\n",
       "      release_year  profit decade  \n",
       "3894          2011     0.0  2010s  \n",
       "538           2015     0.0  2010s  \n",
       "1200          2014     0.0  2010s  \n",
       "2269          2010     0.0  2010s  \n",
       "6911          2006     0.0  2000s  "
      ]
     },
     "execution_count": 52,
     "metadata": {},
     "output_type": "execute_result"
    }
   ],
   "source": [
    "#Checking the release_date conversion into datetime format\n",
    "df_top500.head(5)"
   ]
  },
  {
   "cell_type": "code",
   "execution_count": 53,
   "metadata": {},
   "outputs": [],
   "source": [
    "#Extracting the Month from the release_date \n",
    "df_top500['Month'] = df_top500['release_date'].dt.month"
   ]
  },
  {
   "cell_type": "code",
   "execution_count": 54,
   "metadata": {},
   "outputs": [],
   "source": [
    "# Calculating the number of movie release per month\n",
    "df_top500_per_month = df_top500['Month'].value_counts()"
   ]
  },
  {
   "cell_type": "code",
   "execution_count": 55,
   "metadata": {},
   "outputs": [
    {
     "data": {
      "text/plain": [
       "12    72\n",
       "9     66\n",
       "10    60\n",
       "6     48\n",
       "1     48\n",
       "11    39\n",
       "7     34\n",
       "8     31\n",
       "5     30\n",
       "3     28\n",
       "2     25\n",
       "4     19\n",
       "Name: Month, dtype: int64"
      ]
     },
     "execution_count": 55,
     "metadata": {},
     "output_type": "execute_result"
    }
   ],
   "source": [
    "# The number of movie release per month\n",
    "df_top500_per_month"
   ]
  },
  {
   "cell_type": "code",
   "execution_count": 56,
   "metadata": {},
   "outputs": [
    {
     "data": {
      "text/plain": [
       "500"
      ]
     },
     "execution_count": 56,
     "metadata": {},
     "output_type": "execute_result"
    }
   ],
   "source": [
    "# Total number of movies- should release 500 as all the top 500 movies has release date\n",
    "df_top500_per_month.sum()"
   ]
  },
  {
   "cell_type": "code",
   "execution_count": 57,
   "metadata": {},
   "outputs": [],
   "source": [
    "# Creating the Month-name category \n",
    "df_top500['Month-str'] = df_top500['release_date'].dt.strftime('%b')"
   ]
  },
  {
   "cell_type": "code",
   "execution_count": 58,
   "metadata": {},
   "outputs": [
    {
     "data": {
      "text/html": [
       "<div>\n",
       "<style scoped>\n",
       "    .dataframe tbody tr th:only-of-type {\n",
       "        vertical-align: middle;\n",
       "    }\n",
       "\n",
       "    .dataframe tbody tr th {\n",
       "        vertical-align: top;\n",
       "    }\n",
       "\n",
       "    .dataframe thead th {\n",
       "        text-align: right;\n",
       "    }\n",
       "</style>\n",
       "<table border=\"1\" class=\"dataframe\">\n",
       "  <thead>\n",
       "    <tr style=\"text-align: right;\">\n",
       "      <th></th>\n",
       "      <th>budget</th>\n",
       "      <th>revenue</th>\n",
       "      <th>original_title</th>\n",
       "      <th>cast</th>\n",
       "      <th>director</th>\n",
       "      <th>keywords</th>\n",
       "      <th>runtime</th>\n",
       "      <th>genres</th>\n",
       "      <th>production_companies</th>\n",
       "      <th>release_date</th>\n",
       "      <th>vote_average</th>\n",
       "      <th>release_year</th>\n",
       "      <th>profit</th>\n",
       "      <th>decade</th>\n",
       "      <th>Month</th>\n",
       "      <th>Month-str</th>\n",
       "    </tr>\n",
       "  </thead>\n",
       "  <tbody>\n",
       "    <tr>\n",
       "      <th>3894</th>\n",
       "      <td>0.0</td>\n",
       "      <td>0.0</td>\n",
       "      <td>The Story of Film: An Odyssey</td>\n",
       "      <td>Mark Cousins|Jean-Michel Frodon|Cari Beauchamp...</td>\n",
       "      <td>Mark Cousins</td>\n",
       "      <td>cinema|nouvelle vague|hindi cinema|cinema novo...</td>\n",
       "      <td>900</td>\n",
       "      <td>Documentary</td>\n",
       "      <td>NaN</td>\n",
       "      <td>2011-09-03</td>\n",
       "      <td>9.2</td>\n",
       "      <td>2011</td>\n",
       "      <td>0.0</td>\n",
       "      <td>2010s</td>\n",
       "      <td>9</td>\n",
       "      <td>Sep</td>\n",
       "    </tr>\n",
       "    <tr>\n",
       "      <th>538</th>\n",
       "      <td>0.0</td>\n",
       "      <td>0.0</td>\n",
       "      <td>The Mask You Live In</td>\n",
       "      <td>NaN</td>\n",
       "      <td>Jennifer Siebel Newsom</td>\n",
       "      <td>feminism|sexism|young boy|gender roles|misogyny</td>\n",
       "      <td>88</td>\n",
       "      <td>Documentary</td>\n",
       "      <td>NaN</td>\n",
       "      <td>2015-01-01</td>\n",
       "      <td>8.9</td>\n",
       "      <td>2015</td>\n",
       "      <td>0.0</td>\n",
       "      <td>2010s</td>\n",
       "      <td>1</td>\n",
       "      <td>Jan</td>\n",
       "    </tr>\n",
       "  </tbody>\n",
       "</table>\n",
       "</div>"
      ],
      "text/plain": [
       "      budget  revenue                 original_title  \\\n",
       "3894     0.0      0.0  The Story of Film: An Odyssey   \n",
       "538      0.0      0.0           The Mask You Live In   \n",
       "\n",
       "                                                   cast  \\\n",
       "3894  Mark Cousins|Jean-Michel Frodon|Cari Beauchamp...   \n",
       "538                                                 NaN   \n",
       "\n",
       "                    director  \\\n",
       "3894            Mark Cousins   \n",
       "538   Jennifer Siebel Newsom   \n",
       "\n",
       "                                               keywords  runtime       genres  \\\n",
       "3894  cinema|nouvelle vague|hindi cinema|cinema novo...      900  Documentary   \n",
       "538     feminism|sexism|young boy|gender roles|misogyny       88  Documentary   \n",
       "\n",
       "     production_companies release_date  vote_average  release_year  profit  \\\n",
       "3894                  NaN   2011-09-03           9.2          2011     0.0   \n",
       "538                   NaN   2015-01-01           8.9          2015     0.0   \n",
       "\n",
       "     decade  Month Month-str  \n",
       "3894  2010s      9       Sep  \n",
       "538   2010s      1       Jan  "
      ]
     },
     "execution_count": 58,
     "metadata": {},
     "output_type": "execute_result"
    }
   ],
   "source": [
    "# Observe the Month-name category \n",
    "df_top500.head(2)"
   ]
  },
  {
   "cell_type": "code",
   "execution_count": 59,
   "metadata": {},
   "outputs": [],
   "source": [
    "df_top500_year_count = df_top500['release_year'].value_counts()"
   ]
  },
  {
   "cell_type": "code",
   "execution_count": 60,
   "metadata": {},
   "outputs": [],
   "source": [
    "#Counting the number of movies per month\n",
    "df_top500_month_count = df_top500['Month-str'].value_counts()"
   ]
  },
  {
   "cell_type": "code",
   "execution_count": 61,
   "metadata": {},
   "outputs": [
    {
     "data": {
      "text/plain": [
       "Dec    72\n",
       "Sep    66\n",
       "Oct    60\n",
       "Jan    48\n",
       "Jun    48\n",
       "Nov    39\n",
       "Jul    34\n",
       "Aug    31\n",
       "May    30\n",
       "Mar    28\n",
       "Feb    25\n",
       "Apr    19\n",
       "Name: Month-str, dtype: int64"
      ]
     },
     "execution_count": 61,
     "metadata": {},
     "output_type": "execute_result"
    }
   ],
   "source": [
    "# Nmber of movies per month\n",
    "df_top500_month_count"
   ]
  },
  {
   "cell_type": "code",
   "execution_count": 62,
   "metadata": {},
   "outputs": [
    {
     "data": {
      "text/plain": [
       "500"
      ]
     },
     "execution_count": 62,
     "metadata": {},
     "output_type": "execute_result"
    }
   ],
   "source": [
    "# Counting the total number- should be 500\n",
    "df_top500_month_count.sum()"
   ]
  },
  {
   "cell_type": "code",
   "execution_count": 63,
   "metadata": {},
   "outputs": [
    {
     "data": {
      "text/plain": [
       "Dec    14.4\n",
       "Sep    13.2\n",
       "Oct    12.0\n",
       "Jan     9.6\n",
       "Jun     9.6\n",
       "Nov     7.8\n",
       "Jul     6.8\n",
       "Aug     6.2\n",
       "May     6.0\n",
       "Mar     5.6\n",
       "Feb     5.0\n",
       "Apr     3.8\n",
       "Name: Month-str, dtype: float64"
      ]
     },
     "execution_count": 63,
     "metadata": {},
     "output_type": "execute_result"
    }
   ],
   "source": [
    "# percentage of top 500 movies released per month\n",
    "df_top500_month_count/ df_top500_month_count.sum()*100"
   ]
  },
  {
   "cell_type": "code",
   "execution_count": 64,
   "metadata": {},
   "outputs": [],
   "source": [
    "# Creates bin edges for claculating quarter of the year\n",
    "bin_edges = [0, 3, 6, 9, 12]"
   ]
  },
  {
   "cell_type": "code",
   "execution_count": 65,
   "metadata": {},
   "outputs": [],
   "source": [
    "# Creates bin names based on the runtime\n",
    "bin_names = ['First', 'Second', 'Third', 'Fourth' ]"
   ]
  },
  {
   "cell_type": "code",
   "execution_count": 66,
   "metadata": {},
   "outputs": [],
   "source": [
    "# Creates decade_levels column based on the year of release\n",
    "df_top500['quarter'] = pd.cut(df_top500['Month'], bin_edges, labels = bin_names)"
   ]
  },
  {
   "cell_type": "code",
   "execution_count": 67,
   "metadata": {},
   "outputs": [
    {
     "data": {
      "text/html": [
       "<div>\n",
       "<style scoped>\n",
       "    .dataframe tbody tr th:only-of-type {\n",
       "        vertical-align: middle;\n",
       "    }\n",
       "\n",
       "    .dataframe tbody tr th {\n",
       "        vertical-align: top;\n",
       "    }\n",
       "\n",
       "    .dataframe thead th {\n",
       "        text-align: right;\n",
       "    }\n",
       "</style>\n",
       "<table border=\"1\" class=\"dataframe\">\n",
       "  <thead>\n",
       "    <tr style=\"text-align: right;\">\n",
       "      <th></th>\n",
       "      <th>budget</th>\n",
       "      <th>revenue</th>\n",
       "      <th>original_title</th>\n",
       "      <th>cast</th>\n",
       "      <th>director</th>\n",
       "      <th>keywords</th>\n",
       "      <th>runtime</th>\n",
       "      <th>genres</th>\n",
       "      <th>production_companies</th>\n",
       "      <th>release_date</th>\n",
       "      <th>vote_average</th>\n",
       "      <th>release_year</th>\n",
       "      <th>profit</th>\n",
       "      <th>decade</th>\n",
       "      <th>Month</th>\n",
       "      <th>Month-str</th>\n",
       "      <th>quarter</th>\n",
       "    </tr>\n",
       "  </thead>\n",
       "  <tbody>\n",
       "    <tr>\n",
       "      <th>3894</th>\n",
       "      <td>0.0</td>\n",
       "      <td>0.0</td>\n",
       "      <td>The Story of Film: An Odyssey</td>\n",
       "      <td>Mark Cousins|Jean-Michel Frodon|Cari Beauchamp...</td>\n",
       "      <td>Mark Cousins</td>\n",
       "      <td>cinema|nouvelle vague|hindi cinema|cinema novo...</td>\n",
       "      <td>900</td>\n",
       "      <td>Documentary</td>\n",
       "      <td>NaN</td>\n",
       "      <td>2011-09-03</td>\n",
       "      <td>9.2</td>\n",
       "      <td>2011</td>\n",
       "      <td>0.0</td>\n",
       "      <td>2010s</td>\n",
       "      <td>9</td>\n",
       "      <td>Sep</td>\n",
       "      <td>Third</td>\n",
       "    </tr>\n",
       "    <tr>\n",
       "      <th>538</th>\n",
       "      <td>0.0</td>\n",
       "      <td>0.0</td>\n",
       "      <td>The Mask You Live In</td>\n",
       "      <td>NaN</td>\n",
       "      <td>Jennifer Siebel Newsom</td>\n",
       "      <td>feminism|sexism|young boy|gender roles|misogyny</td>\n",
       "      <td>88</td>\n",
       "      <td>Documentary</td>\n",
       "      <td>NaN</td>\n",
       "      <td>2015-01-01</td>\n",
       "      <td>8.9</td>\n",
       "      <td>2015</td>\n",
       "      <td>0.0</td>\n",
       "      <td>2010s</td>\n",
       "      <td>1</td>\n",
       "      <td>Jan</td>\n",
       "      <td>First</td>\n",
       "    </tr>\n",
       "  </tbody>\n",
       "</table>\n",
       "</div>"
      ],
      "text/plain": [
       "      budget  revenue                 original_title  \\\n",
       "3894     0.0      0.0  The Story of Film: An Odyssey   \n",
       "538      0.0      0.0           The Mask You Live In   \n",
       "\n",
       "                                                   cast  \\\n",
       "3894  Mark Cousins|Jean-Michel Frodon|Cari Beauchamp...   \n",
       "538                                                 NaN   \n",
       "\n",
       "                    director  \\\n",
       "3894            Mark Cousins   \n",
       "538   Jennifer Siebel Newsom   \n",
       "\n",
       "                                               keywords  runtime       genres  \\\n",
       "3894  cinema|nouvelle vague|hindi cinema|cinema novo...      900  Documentary   \n",
       "538     feminism|sexism|young boy|gender roles|misogyny       88  Documentary   \n",
       "\n",
       "     production_companies release_date  vote_average  release_year  profit  \\\n",
       "3894                  NaN   2011-09-03           9.2          2011     0.0   \n",
       "538                   NaN   2015-01-01           8.9          2015     0.0   \n",
       "\n",
       "     decade  Month Month-str quarter  \n",
       "3894  2010s      9       Sep   Third  \n",
       "538   2010s      1       Jan   First  "
      ]
     },
     "execution_count": 67,
     "metadata": {},
     "output_type": "execute_result"
    }
   ],
   "source": [
    "df_top500.head(2)"
   ]
  },
  {
   "cell_type": "code",
   "execution_count": 68,
   "metadata": {},
   "outputs": [],
   "source": [
    "#Count the number of movies per quarter\n",
    "df_top500_perquarter = df_top500.quarter.value_counts()"
   ]
  },
  {
   "cell_type": "code",
   "execution_count": 69,
   "metadata": {},
   "outputs": [
    {
     "data": {
      "text/plain": [
       "500"
      ]
     },
     "execution_count": 69,
     "metadata": {},
     "output_type": "execute_result"
    }
   ],
   "source": [
    "#Total number of movies- should return 500\n",
    "df_top500_perquarter.sum()"
   ]
  },
  {
   "cell_type": "code",
   "execution_count": 70,
   "metadata": {},
   "outputs": [],
   "source": [
    "# Calculating the percentage of movies per quarter\n",
    "df_top500_quarter_percentage =  df_top500_perquarter/ df_top500_perquarter.sum()*100"
   ]
  },
  {
   "cell_type": "code",
   "execution_count": 71,
   "metadata": {},
   "outputs": [
    {
     "data": {
      "text/plain": [
       "Fourth    34.2\n",
       "Third     26.2\n",
       "First     20.2\n",
       "Second    19.4\n",
       "Name: quarter, dtype: float64"
      ]
     },
     "execution_count": 71,
     "metadata": {},
     "output_type": "execute_result"
    }
   ],
   "source": [
    "# Percentage of movies per quarter\n",
    "df_top500_quarter_percentage"
   ]
  },
  {
   "cell_type": "code",
   "execution_count": 72,
   "metadata": {},
   "outputs": [
    {
     "data": {
      "image/png": "[encoded data removed]",
      "text/plain": [
       "<Figure size 1152x1008 with 1 Axes>"
      ]
     },
     "metadata": {},
     "output_type": "display_data"
    }
   ],
   "source": [
    "## Plot the percentage of movie released per quarter\n",
    "plt.figure(figsize = [16, 14])\n",
    "base_color = sns.color_palette()[0]\n",
    "n_points =  df_top500.quarter.value_counts().sum()\n",
    "max_count = df_top500.quarter.value_counts().max()\n",
    "max_prop = max_count/ n_points\n",
    "\n",
    "# generate tick mark locations and names\n",
    "tick_props = np.arange(0, max_prop, 0.08)\n",
    "tick_names = ['{:0.2f}'.format(v) for v in tick_props]\n",
    "\n",
    "# create the plot\n",
    "base_color = sns.color_palette()[0]\n",
    "sns.countplot(data = df_top500, x = 'quarter', color = base_color, order = df_top500_quarter_percentage.index )\n",
    "plt.yticks(tick_props * n_points, tick_names)\n",
    "plt.xlabel(\"Quarter of the Year\",fontsize=15)\n",
    "plt.ylabel(\"Percentage movies released\",fontsize=15)\n",
    "plt.title('Figure-20: Proportion of top 500 Movies release per Quarter',fontsize=15)\n",
    "plt.rc('xtick',labelsize=16)\n",
    "plt.rc('ytick',labelsize=16)\n",
    "\n",
    "# add annotations\n",
    "cat_counts = df_top500['quarter'].value_counts()\n",
    "locs, labels = plt.xticks() # get the current tick locations and labels\n",
    "\n",
    "# loop through each pair of locations and labels\n",
    "for loc, label in zip(locs, labels):\n",
    "\n",
    "    # get the text property for the label to get the correct count\n",
    "    count = cat_counts[label.get_text()]\n",
    "    pct_string = '{:0.1f}%'.format(100*count/n_points)\n",
    "    plt.text(loc, count+1, pct_string, ha = 'center', color = 'R', fontsize=16)"
   ]
  },
  {
   "cell_type": "markdown",
   "metadata": {},
   "source": [
    "### Conclusion 7-B) \n",
    "\n",
    "**In contrast to the total movie dataset, the month of December has the highest percentage of movies combining all the years, which is 14.4% of the top 500 movies. Also, when it comes to the number of movies release per quarter, quarter-4 (from Oct-Dec) has the largest amount of movie released  (Figure-20).**\n",
    "\n",
    "\n"
   ]
  },
  {
   "cell_type": "markdown",
   "metadata": {},
   "source": [
    "### 7-C) Which decade has most movies among the top 500 movies were released?\n",
    "               "
   ]
  },
  {
   "cell_type": "markdown",
   "metadata": {},
   "source": [
    "### Note: Like previous instance, the  top 500 movies will now be divided into categories based on the release date :\n",
    "\n",
    "1. 1960-1969: 60s\n",
    "\n",
    "2. 1970-1979: 70s\n",
    "\n",
    "3. 1980-1989: 80s\n",
    "\n",
    "4. 1990-1999: 90s\n",
    "\n",
    "5. 2000-2009: 2010s\n",
    "\n",
    "6. 2010-2019: 2020s"
   ]
  },
  {
   "cell_type": "code",
   "execution_count": 73,
   "metadata": {},
   "outputs": [],
   "source": [
    "# Creates bin edges for each decade\n",
    "bin_edges = [1959, 1969, 1979, 1989, 1999, 2009, 2019 ]"
   ]
  },
  {
   "cell_type": "code",
   "execution_count": 74,
   "metadata": {},
   "outputs": [],
   "source": [
    "# Creates bin names based on the year of release\n",
    "bin_names = ['60s', '70s', '80s', '90s', '2000s', '2010s' ]"
   ]
  },
  {
   "cell_type": "code",
   "execution_count": 75,
   "metadata": {},
   "outputs": [],
   "source": [
    "# Creates decade_levels column based on the year of release\n",
    "df_top500['decade'] = pd.cut(df_movies['release_year'], bin_edges, labels = bin_names)"
   ]
  },
  {
   "cell_type": "code",
   "execution_count": 76,
   "metadata": {},
   "outputs": [
    {
     "data": {
      "text/html": [
       "<div>\n",
       "<style scoped>\n",
       "    .dataframe tbody tr th:only-of-type {\n",
       "        vertical-align: middle;\n",
       "    }\n",
       "\n",
       "    .dataframe tbody tr th {\n",
       "        vertical-align: top;\n",
       "    }\n",
       "\n",
       "    .dataframe thead th {\n",
       "        text-align: right;\n",
       "    }\n",
       "</style>\n",
       "<table border=\"1\" class=\"dataframe\">\n",
       "  <thead>\n",
       "    <tr style=\"text-align: right;\">\n",
       "      <th></th>\n",
       "      <th>budget</th>\n",
       "      <th>revenue</th>\n",
       "      <th>original_title</th>\n",
       "      <th>cast</th>\n",
       "      <th>director</th>\n",
       "      <th>keywords</th>\n",
       "      <th>runtime</th>\n",
       "      <th>genres</th>\n",
       "      <th>production_companies</th>\n",
       "      <th>release_date</th>\n",
       "      <th>vote_average</th>\n",
       "      <th>release_year</th>\n",
       "      <th>profit</th>\n",
       "      <th>decade</th>\n",
       "      <th>Month</th>\n",
       "      <th>Month-str</th>\n",
       "      <th>quarter</th>\n",
       "    </tr>\n",
       "  </thead>\n",
       "  <tbody>\n",
       "    <tr>\n",
       "      <th>3894</th>\n",
       "      <td>0.0</td>\n",
       "      <td>0.0</td>\n",
       "      <td>The Story of Film: An Odyssey</td>\n",
       "      <td>Mark Cousins|Jean-Michel Frodon|Cari Beauchamp...</td>\n",
       "      <td>Mark Cousins</td>\n",
       "      <td>cinema|nouvelle vague|hindi cinema|cinema novo...</td>\n",
       "      <td>900</td>\n",
       "      <td>Documentary</td>\n",
       "      <td>NaN</td>\n",
       "      <td>2011-09-03</td>\n",
       "      <td>9.2</td>\n",
       "      <td>2011</td>\n",
       "      <td>0.0</td>\n",
       "      <td>2010s</td>\n",
       "      <td>9</td>\n",
       "      <td>Sep</td>\n",
       "      <td>Third</td>\n",
       "    </tr>\n",
       "    <tr>\n",
       "      <th>538</th>\n",
       "      <td>0.0</td>\n",
       "      <td>0.0</td>\n",
       "      <td>The Mask You Live In</td>\n",
       "      <td>NaN</td>\n",
       "      <td>Jennifer Siebel Newsom</td>\n",
       "      <td>feminism|sexism|young boy|gender roles|misogyny</td>\n",
       "      <td>88</td>\n",
       "      <td>Documentary</td>\n",
       "      <td>NaN</td>\n",
       "      <td>2015-01-01</td>\n",
       "      <td>8.9</td>\n",
       "      <td>2015</td>\n",
       "      <td>0.0</td>\n",
       "      <td>2010s</td>\n",
       "      <td>1</td>\n",
       "      <td>Jan</td>\n",
       "      <td>First</td>\n",
       "    </tr>\n",
       "    <tr>\n",
       "      <th>1200</th>\n",
       "      <td>0.0</td>\n",
       "      <td>0.0</td>\n",
       "      <td>Black Mirror: White Christmas</td>\n",
       "      <td>Jon Hamm|Rafe Spall|Oona Chaplin|Natalia Tena|...</td>\n",
       "      <td>Carl Tibbetts</td>\n",
       "      <td>artificial intelligence|confession|technology|...</td>\n",
       "      <td>74</td>\n",
       "      <td>Drama|Horror|Mystery|Science Fiction|Thriller</td>\n",
       "      <td>NaN</td>\n",
       "      <td>2014-12-16</td>\n",
       "      <td>8.8</td>\n",
       "      <td>2014</td>\n",
       "      <td>0.0</td>\n",
       "      <td>2010s</td>\n",
       "      <td>12</td>\n",
       "      <td>Dec</td>\n",
       "      <td>Fourth</td>\n",
       "    </tr>\n",
       "  </tbody>\n",
       "</table>\n",
       "</div>"
      ],
      "text/plain": [
       "      budget  revenue                 original_title  \\\n",
       "3894     0.0      0.0  The Story of Film: An Odyssey   \n",
       "538      0.0      0.0           The Mask You Live In   \n",
       "1200     0.0      0.0  Black Mirror: White Christmas   \n",
       "\n",
       "                                                   cast  \\\n",
       "3894  Mark Cousins|Jean-Michel Frodon|Cari Beauchamp...   \n",
       "538                                                 NaN   \n",
       "1200  Jon Hamm|Rafe Spall|Oona Chaplin|Natalia Tena|...   \n",
       "\n",
       "                    director  \\\n",
       "3894            Mark Cousins   \n",
       "538   Jennifer Siebel Newsom   \n",
       "1200           Carl Tibbetts   \n",
       "\n",
       "                                               keywords  runtime  \\\n",
       "3894  cinema|nouvelle vague|hindi cinema|cinema novo...      900   \n",
       "538     feminism|sexism|young boy|gender roles|misogyny       88   \n",
       "1200  artificial intelligence|confession|technology|...       74   \n",
       "\n",
       "                                             genres production_companies  \\\n",
       "3894                                    Documentary                  NaN   \n",
       "538                                     Documentary                  NaN   \n",
       "1200  Drama|Horror|Mystery|Science Fiction|Thriller                  NaN   \n",
       "\n",
       "     release_date  vote_average  release_year  profit decade  Month Month-str  \\\n",
       "3894   2011-09-03           9.2          2011     0.0  2010s      9       Sep   \n",
       "538    2015-01-01           8.9          2015     0.0  2010s      1       Jan   \n",
       "1200   2014-12-16           8.8          2014     0.0  2010s     12       Dec   \n",
       "\n",
       "     quarter  \n",
       "3894   Third  \n",
       "538    First  \n",
       "1200  Fourth  "
      ]
     },
     "execution_count": 76,
     "metadata": {},
     "output_type": "execute_result"
    }
   ],
   "source": [
    "# view to check if the decade level has appeared\n",
    "df_top500.head(3)"
   ]
  },
  {
   "cell_type": "code",
   "execution_count": 77,
   "metadata": {},
   "outputs": [
    {
     "data": {
      "text/html": [
       "<div>\n",
       "<style scoped>\n",
       "    .dataframe tbody tr th:only-of-type {\n",
       "        vertical-align: middle;\n",
       "    }\n",
       "\n",
       "    .dataframe tbody tr th {\n",
       "        vertical-align: top;\n",
       "    }\n",
       "\n",
       "    .dataframe thead th {\n",
       "        text-align: right;\n",
       "    }\n",
       "</style>\n",
       "<table border=\"1\" class=\"dataframe\">\n",
       "  <thead>\n",
       "    <tr style=\"text-align: right;\">\n",
       "      <th></th>\n",
       "      <th>budget</th>\n",
       "      <th>revenue</th>\n",
       "      <th>original_title</th>\n",
       "      <th>cast</th>\n",
       "      <th>director</th>\n",
       "      <th>keywords</th>\n",
       "      <th>runtime</th>\n",
       "      <th>genres</th>\n",
       "      <th>production_companies</th>\n",
       "      <th>release_date</th>\n",
       "      <th>vote_average</th>\n",
       "      <th>release_year</th>\n",
       "      <th>profit</th>\n",
       "      <th>decade</th>\n",
       "      <th>Month</th>\n",
       "      <th>Month-str</th>\n",
       "      <th>quarter</th>\n",
       "    </tr>\n",
       "  </thead>\n",
       "  <tbody>\n",
       "    <tr>\n",
       "      <th>1806</th>\n",
       "      <td>0.0</td>\n",
       "      <td>1.896244</td>\n",
       "      <td>It Might Get Loud</td>\n",
       "      <td>Jimmy Page|The Edge|Jack White|Link Wray</td>\n",
       "      <td>Davis Guggenheim</td>\n",
       "      <td>claim in title|rock documentary|soda bottle|st...</td>\n",
       "      <td>97</td>\n",
       "      <td>Documentary|Music</td>\n",
       "      <td>NaN</td>\n",
       "      <td>2009-08-14</td>\n",
       "      <td>7.4</td>\n",
       "      <td>2009</td>\n",
       "      <td>1.896244</td>\n",
       "      <td>2000s</td>\n",
       "      <td>8</td>\n",
       "      <td>Aug</td>\n",
       "      <td>Third</td>\n",
       "    </tr>\n",
       "    <tr>\n",
       "      <th>1923</th>\n",
       "      <td>250.0</td>\n",
       "      <td>954.305868</td>\n",
       "      <td>Harry Potter and the Deathly Hallows: Part 1</td>\n",
       "      <td>Daniel Radcliffe|Emma Watson|Rupert Grint|Ralp...</td>\n",
       "      <td>David Yates</td>\n",
       "      <td>corruption|isolation|radio|magic|teleportation</td>\n",
       "      <td>146</td>\n",
       "      <td>Adventure|Fantasy|Family</td>\n",
       "      <td>Warner Bros.|Heyday Films</td>\n",
       "      <td>2010-10-17</td>\n",
       "      <td>7.4</td>\n",
       "      <td>2010</td>\n",
       "      <td>704.305868</td>\n",
       "      <td>2010s</td>\n",
       "      <td>10</td>\n",
       "      <td>Oct</td>\n",
       "      <td>Fourth</td>\n",
       "    </tr>\n",
       "    <tr>\n",
       "      <th>1926</th>\n",
       "      <td>165.0</td>\n",
       "      <td>494.878759</td>\n",
       "      <td>How to Train Your Dragon</td>\n",
       "      <td>Jay Baruchel|Gerard Butler|Craig Ferguson|Amer...</td>\n",
       "      <td>Dean DeBlois|Chris Sanders</td>\n",
       "      <td>flying|blacksmith|arena|island|night</td>\n",
       "      <td>98</td>\n",
       "      <td>Fantasy|Adventure|Animation|Family</td>\n",
       "      <td>DreamWorks Animation|Vertigo Entertainment|Mad...</td>\n",
       "      <td>2010-03-05</td>\n",
       "      <td>7.4</td>\n",
       "      <td>2010</td>\n",
       "      <td>329.878759</td>\n",
       "      <td>2010s</td>\n",
       "      <td>3</td>\n",
       "      <td>Mar</td>\n",
       "      <td>First</td>\n",
       "    </tr>\n",
       "  </tbody>\n",
       "</table>\n",
       "</div>"
      ],
      "text/plain": [
       "      budget     revenue                                original_title  \\\n",
       "1806     0.0    1.896244                             It Might Get Loud   \n",
       "1923   250.0  954.305868  Harry Potter and the Deathly Hallows: Part 1   \n",
       "1926   165.0  494.878759                      How to Train Your Dragon   \n",
       "\n",
       "                                                   cast  \\\n",
       "1806           Jimmy Page|The Edge|Jack White|Link Wray   \n",
       "1923  Daniel Radcliffe|Emma Watson|Rupert Grint|Ralp...   \n",
       "1926  Jay Baruchel|Gerard Butler|Craig Ferguson|Amer...   \n",
       "\n",
       "                        director  \\\n",
       "1806            Davis Guggenheim   \n",
       "1923                 David Yates   \n",
       "1926  Dean DeBlois|Chris Sanders   \n",
       "\n",
       "                                               keywords  runtime  \\\n",
       "1806  claim in title|rock documentary|soda bottle|st...       97   \n",
       "1923     corruption|isolation|radio|magic|teleportation      146   \n",
       "1926               flying|blacksmith|arena|island|night       98   \n",
       "\n",
       "                                  genres  \\\n",
       "1806                   Documentary|Music   \n",
       "1923            Adventure|Fantasy|Family   \n",
       "1926  Fantasy|Adventure|Animation|Family   \n",
       "\n",
       "                                   production_companies release_date  \\\n",
       "1806                                                NaN   2009-08-14   \n",
       "1923                          Warner Bros.|Heyday Films   2010-10-17   \n",
       "1926  DreamWorks Animation|Vertigo Entertainment|Mad...   2010-03-05   \n",
       "\n",
       "      vote_average  release_year      profit decade  Month Month-str quarter  \n",
       "1806           7.4          2009    1.896244  2000s      8       Aug   Third  \n",
       "1923           7.4          2010  704.305868  2010s     10       Oct  Fourth  \n",
       "1926           7.4          2010  329.878759  2010s      3       Mar   First  "
      ]
     },
     "execution_count": 77,
     "metadata": {},
     "output_type": "execute_result"
    }
   ],
   "source": [
    "# view to check if the decade level has appeared\n",
    "df_top500.tail(3)"
   ]
  },
  {
   "cell_type": "code",
   "execution_count": 78,
   "metadata": {},
   "outputs": [
    {
     "data": {
      "text/plain": [
       "2010s    246\n",
       "2000s    116\n",
       "90s       58\n",
       "80s       34\n",
       "70s       31\n",
       "60s       15\n",
       "Name: decade, dtype: int64"
      ]
     },
     "execution_count": 78,
     "metadata": {},
     "output_type": "execute_result"
    }
   ],
   "source": [
    "# Count the total number of movies \n",
    "df_top500['decade'].value_counts()"
   ]
  },
  {
   "cell_type": "code",
   "execution_count": 79,
   "metadata": {},
   "outputs": [
    {
     "data": {
      "text/plain": [
       "500"
      ]
     },
     "execution_count": 79,
     "metadata": {},
     "output_type": "execute_result"
    }
   ],
   "source": [
    "# Count the total number of movies- should return 500\n",
    "df_top500['decade'].value_counts().sum()"
   ]
  },
  {
   "cell_type": "code",
   "execution_count": 80,
   "metadata": {},
   "outputs": [],
   "source": [
    "# Percentage of movies released per decade\n",
    "df_top500_percentage_decade = df_top500['decade'].value_counts()/df_top500['decade'].value_counts().sum()*100"
   ]
  },
  {
   "cell_type": "code",
   "execution_count": 81,
   "metadata": {},
   "outputs": [
    {
     "data": {
      "image/png": "[encoded data removed]",
      "text/plain": [
       "<Figure size 1152x1008 with 1 Axes>"
      ]
     },
     "metadata": {},
     "output_type": "display_data"
    }
   ],
   "source": [
    "# Plot the percentage of released each decade\n",
    "plt.figure(figsize = [16, 14])\n",
    "n_points =  df_top500['decade'].value_counts().sum()\n",
    "max_count = df_top500['decade'].value_counts().max()\n",
    "max_prop = max_count/ n_points\n",
    "\n",
    "# generate tick mark locations and names\n",
    "tick_props = np.arange(0, max_prop, 0.05)\n",
    "tick_names = ['{:0.2f}'.format(v) for v in tick_props]\n",
    "\n",
    "# create the plot\n",
    "base_color = sns.color_palette()[0]\n",
    "sns.countplot(data = df_top500, x = 'decade', color = base_color, order= df_top500['decade'].value_counts().index )\n",
    "plt.yticks(tick_props * n_points, tick_names)\n",
    "plt.ylabel('Proportion of movies', fontsize=15)\n",
    "plt.xlabel('Rating Category', fontsize=15)\n",
    "plt.title('Figure-21: Proportion of movies Vs Rating Catgory',fontsize=15)\n",
    "\n",
    "# add annotations\n",
    "cat_counts = df_top500['decade'].value_counts()\n",
    "locs, labels = plt.xticks() # get the current tick locations and labels\n",
    "\n",
    "# loop through each pair of locations and labels\n",
    "for loc, label in zip(locs, labels):\n",
    "\n",
    "    # get the text property for the label to get the correct count\n",
    "    count = cat_counts[label.get_text()]\n",
    "    pct_string = '{:0.2f}%'.format(100*count/n_points)\n",
    "    plt.text(loc, count+1, pct_string, ha = 'center', color = 'R', fontsize=16)\n",
    "plt.rc('xtick',labelsize=14)\n",
    "plt.rc('ytick',labelsize=14)"
   ]
  },
  {
   "cell_type": "markdown",
   "metadata": {},
   "source": [
    "### Conclusion 7-C)\n",
    "\n",
    "**From Figure-21 it can be seen that the 2010s has the largest perentage of top 500 movies released which is almost half of the top 500 movies.**"
   ]
  },
  {
   "cell_type": "markdown",
   "metadata": {},
   "source": [
    "### 7-D) Which cast appears the largest number of times in most of the top 500 movies were released?\n",
    "              "
   ]
  },
  {
   "cell_type": "code",
   "execution_count": 82,
   "metadata": {},
   "outputs": [],
   "source": [
    "# frquent 10 movie cast\n",
    "top10_cast = frequent_names(df_top500['cast'])"
   ]
  },
  {
   "cell_type": "code",
   "execution_count": 83,
   "metadata": {},
   "outputs": [
    {
     "data": {
      "text/plain": [
       "[('Tom Hanks', 9),\n",
       " ('Robert De Niro', 7),\n",
       " ('Brad Pitt', 6),\n",
       " ('Michael Caine', 6),\n",
       " ('Samuel L. Jackson', 6),\n",
       " ('John Hurt', 6),\n",
       " ('Mark Hamill', 6),\n",
       " ('Harrison Ford', 6),\n",
       " ('Leonardo DiCaprio', 6),\n",
       " ('Ian McKellen', 6)]"
      ]
     },
     "execution_count": 83,
     "metadata": {},
     "output_type": "execute_result"
    }
   ],
   "source": [
    "top10_cast "
   ]
  },
  {
   "cell_type": "code",
   "execution_count": 84,
   "metadata": {},
   "outputs": [
    {
     "data": {
      "text/plain": [
       "46"
      ]
     },
     "execution_count": 84,
     "metadata": {},
     "output_type": "execute_result"
    }
   ],
   "source": [
    "#Find Louis Tom Hanks movies\n",
    "df_movies[df_movies['cast'].str.contains(\"Tom Hanks\")==True].original_title.count()"
   ]
  },
  {
   "cell_type": "code",
   "execution_count": 85,
   "metadata": {},
   "outputs": [
    {
     "data": {
      "text/plain": [
       "4179            Forrest Gump\n",
       "2414          The Green Mile\n",
       "5487        Captain Phillips\n",
       "8974     Saving Private Ryan\n",
       "3918     Catch Me If You Can\n",
       "1930             Toy Story 3\n",
       "4605         Partysaurus Rex\n",
       "8068               Toy Story\n",
       "10228           Philadelphia\n",
       "Name: original_title, dtype: object"
      ]
     },
     "execution_count": 85,
     "metadata": {},
     "output_type": "execute_result"
    }
   ],
   "source": [
    "#Find Louis Tom Hanks in top 500 movies\n",
    "df_top500[df_top500['cast'].str.contains(\"Tom Hanks\")==True].original_title"
   ]
  },
  {
   "cell_type": "code",
   "execution_count": 86,
   "metadata": {},
   "outputs": [
    {
     "data": {
      "text/plain": [
       "6.5826086956521745"
      ]
     },
     "execution_count": 86,
     "metadata": {},
     "output_type": "execute_result"
    }
   ],
   "source": [
    "# Mean of the Tom Hanks movies\n",
    "df_movies[df_movies['cast'].str.contains(\"Tom Hanks\")==True].vote_average.mean()"
   ]
  },
  {
   "cell_type": "code",
   "execution_count": 87,
   "metadata": {},
   "outputs": [
    {
     "data": {
      "text/plain": [
       "6.330555555555555"
      ]
     },
     "execution_count": 87,
     "metadata": {},
     "output_type": "execute_result"
    }
   ],
   "source": [
    "# Mean of the Robert De Niro movies\n",
    "df_movies[df_movies['cast'].str.contains(\"Robert De Niro\")==True].vote_average.mean()"
   ]
  },
  {
   "cell_type": "markdown",
   "metadata": {},
   "source": [
    "### Conclusion 7-D) \n",
    "\n",
    "**1) Out of the 46 movies of Tom Hanks in the dataset, 09 are in the top 500 are in the top 500 list. Tom Hanks's movies have average rarting of 6.58.**\n",
    "\n",
    "**2) Out of the 72 movies of Robert De Niro, 7 made it to the top 500 list. Robert De Niro's movies has an vote_average of 6.33.**"
   ]
  },
  {
   "cell_type": "markdown",
   "metadata": {},
   "source": [
    "### 7- E) Of the top 500 movies who has produced the largest number of movies?\n",
    "             "
   ]
  },
  {
   "cell_type": "code",
   "execution_count": 88,
   "metadata": {},
   "outputs": [],
   "source": [
    "# 5 most frequent producers for top 500 movies\n",
    "top10_producers = frequent_names(df_top500['director'])"
   ]
  },
  {
   "cell_type": "code",
   "execution_count": 89,
   "metadata": {},
   "outputs": [
    {
     "data": {
      "text/plain": [
       "[('Martin Scorsese', 9),\n",
       " ('Quentin Tarantino', 8),\n",
       " ('Christopher Nolan', 6),\n",
       " ('Steven Spielberg', 5),\n",
       " ('Shannon Hartman', 5),\n",
       " ('Louis C.K.', 5),\n",
       " ('Stanley Kubrick', 5),\n",
       " ('Wes Anderson', 4),\n",
       " ('Peter Jackson', 4),\n",
       " ('Ridley Scott', 4)]"
      ]
     },
     "execution_count": 89,
     "metadata": {},
     "output_type": "execute_result"
    }
   ],
   "source": [
    "# 10 most frequent producers for top 500 movies\n",
    "top10_producers "
   ]
  },
  {
   "cell_type": "code",
   "execution_count": 90,
   "metadata": {},
   "outputs": [],
   "source": [
    "df_top10_producers = pd.DataFrame(top10_producers,columns = ['director', 'no_of_movies_in_top500'])"
   ]
  },
  {
   "cell_type": "code",
   "execution_count": 91,
   "metadata": {},
   "outputs": [
    {
     "data": {
      "text/html": [
       "<div>\n",
       "<style scoped>\n",
       "    .dataframe tbody tr th:only-of-type {\n",
       "        vertical-align: middle;\n",
       "    }\n",
       "\n",
       "    .dataframe tbody tr th {\n",
       "        vertical-align: top;\n",
       "    }\n",
       "\n",
       "    .dataframe thead th {\n",
       "        text-align: right;\n",
       "    }\n",
       "</style>\n",
       "<table border=\"1\" class=\"dataframe\">\n",
       "  <thead>\n",
       "    <tr style=\"text-align: right;\">\n",
       "      <th></th>\n",
       "      <th>director</th>\n",
       "      <th>no_of_movies_in_top500</th>\n",
       "    </tr>\n",
       "  </thead>\n",
       "  <tbody>\n",
       "    <tr>\n",
       "      <th>0</th>\n",
       "      <td>Martin Scorsese</td>\n",
       "      <td>9</td>\n",
       "    </tr>\n",
       "    <tr>\n",
       "      <th>1</th>\n",
       "      <td>Quentin Tarantino</td>\n",
       "      <td>8</td>\n",
       "    </tr>\n",
       "    <tr>\n",
       "      <th>2</th>\n",
       "      <td>Christopher Nolan</td>\n",
       "      <td>6</td>\n",
       "    </tr>\n",
       "    <tr>\n",
       "      <th>3</th>\n",
       "      <td>Steven Spielberg</td>\n",
       "      <td>5</td>\n",
       "    </tr>\n",
       "    <tr>\n",
       "      <th>4</th>\n",
       "      <td>Shannon Hartman</td>\n",
       "      <td>5</td>\n",
       "    </tr>\n",
       "    <tr>\n",
       "      <th>5</th>\n",
       "      <td>Louis C.K.</td>\n",
       "      <td>5</td>\n",
       "    </tr>\n",
       "    <tr>\n",
       "      <th>6</th>\n",
       "      <td>Stanley Kubrick</td>\n",
       "      <td>5</td>\n",
       "    </tr>\n",
       "    <tr>\n",
       "      <th>7</th>\n",
       "      <td>Wes Anderson</td>\n",
       "      <td>4</td>\n",
       "    </tr>\n",
       "    <tr>\n",
       "      <th>8</th>\n",
       "      <td>Peter Jackson</td>\n",
       "      <td>4</td>\n",
       "    </tr>\n",
       "    <tr>\n",
       "      <th>9</th>\n",
       "      <td>Ridley Scott</td>\n",
       "      <td>4</td>\n",
       "    </tr>\n",
       "  </tbody>\n",
       "</table>\n",
       "</div>"
      ],
      "text/plain": [
       "            director  no_of_movies_in_top500\n",
       "0    Martin Scorsese                       9\n",
       "1  Quentin Tarantino                       8\n",
       "2  Christopher Nolan                       6\n",
       "3   Steven Spielberg                       5\n",
       "4    Shannon Hartman                       5\n",
       "5         Louis C.K.                       5\n",
       "6    Stanley Kubrick                       5\n",
       "7       Wes Anderson                       4\n",
       "8      Peter Jackson                       4\n",
       "9       Ridley Scott                       4"
      ]
     },
     "execution_count": 91,
     "metadata": {},
     "output_type": "execute_result"
    }
   ],
   "source": [
    "df_top10_producers "
   ]
  },
  {
   "cell_type": "code",
   "execution_count": 92,
   "metadata": {},
   "outputs": [
    {
     "data": {
      "text/plain": [
       "8221     A Personal Journey with Martin Scorsese Throug...\n",
       "3835         George Harrison: Living in the Material World\n",
       "9979                                            Goodfellas\n",
       "10817                                       The Last Waltz\n",
       "5428                               The Wolf of Wall Street\n",
       "10173                                          Taxi Driver\n",
       "6563                                          The Departed\n",
       "1927                                        Shutter Island\n",
       "8083                                                Casino\n",
       "Name: original_title, dtype: object"
      ]
     },
     "execution_count": 92,
     "metadata": {},
     "output_type": "execute_result"
    }
   ],
   "source": [
    "# Martin Scorsese's movies\n",
    "df_top500[df_top500['director'].str.contains(\"Martin Scorsese\")==True].original_title"
   ]
  },
  {
   "cell_type": "code",
   "execution_count": 93,
   "metadata": {},
   "outputs": [
    {
     "data": {
      "text/plain": [
       "31"
      ]
     },
     "execution_count": 93,
     "metadata": {},
     "output_type": "execute_result"
    }
   ],
   "source": [
    "# Total number of movies by Martin Scorsese\n",
    "df_movies[df_movies['director'].str.contains(\"Martin Scorsese\")==True].original_title.count()"
   ]
  },
  {
   "cell_type": "code",
   "execution_count": 94,
   "metadata": {},
   "outputs": [
    {
     "data": {
      "text/plain": [
       "6.970967741935484"
      ]
     },
     "execution_count": 94,
     "metadata": {},
     "output_type": "execute_result"
    }
   ],
   "source": [
    "# Average rating for the Martin Scorsese's movies\n",
    "df_movies[df_movies['director'].str.contains(\"Martin Scorsese\")==True].vote_average.mean()"
   ]
  },
  {
   "cell_type": "code",
   "execution_count": 95,
   "metadata": {},
   "outputs": [
    {
     "data": {
      "text/plain": [
       "7.207142857142858"
      ]
     },
     "execution_count": 95,
     "metadata": {},
     "output_type": "execute_result"
    }
   ],
   "source": [
    "# Min rating for the Quentin Tarantino movies\n",
    "df_movies[df_movies['director'].str.contains(\"Quentin Tarantino\")==True].vote_average.mean()"
   ]
  },
  {
   "cell_type": "code",
   "execution_count": 96,
   "metadata": {},
   "outputs": [
    {
     "data": {
      "text/plain": [
       "8.5"
      ]
     },
     "execution_count": 96,
     "metadata": {},
     "output_type": "execute_result"
    }
   ],
   "source": [
    "# Max rating for the Martin Scorsese's movies\n",
    "df_movies[df_movies['director'].str.contains(\"Martin Scorsese\")==True].vote_average.max()"
   ]
  },
  {
   "cell_type": "code",
   "execution_count": 97,
   "metadata": {},
   "outputs": [
    {
     "data": {
      "text/plain": [
       "8.1"
      ]
     },
     "execution_count": 97,
     "metadata": {},
     "output_type": "execute_result"
    }
   ],
   "source": [
    "# Max Average rating for the Quentin Tarantino movies\n",
    "df_movies[df_movies['director'].str.contains(\"Quentin Tarantino\")==True].vote_average.max()"
   ]
  },
  {
   "cell_type": "code",
   "execution_count": 98,
   "metadata": {},
   "outputs": [
    {
     "data": {
      "text/plain": [
       "5.3"
      ]
     },
     "execution_count": 98,
     "metadata": {},
     "output_type": "execute_result"
    }
   ],
   "source": [
    "# Min Average rating for the Martin Scorsese movies\n",
    "df_movies[df_movies['director'].str.contains(\"Martin Scorsese\")==True].vote_average.min()"
   ]
  },
  {
   "cell_type": "code",
   "execution_count": 99,
   "metadata": {},
   "outputs": [
    {
     "data": {
      "text/plain": [
       "5.1"
      ]
     },
     "execution_count": 99,
     "metadata": {},
     "output_type": "execute_result"
    }
   ],
   "source": [
    "# Min Average rating for the Quentin Tarantino movies\n",
    "df_movies[df_movies['director'].str.contains(\"Quentin Tarantino\")==True].vote_average.min()"
   ]
  },
  {
   "cell_type": "markdown",
   "metadata": {},
   "source": [
    "### Conclusion 7-E)\n",
    "\n",
    "**1) Martin Scorsese has produced a total of 31 movies of which 9 made it to the top 500 which is  the largest number of movies- closely followed by Quentin Tarantino with 8 movies in the top 500 list.**\n",
    "\n",
    "**2) Martin Scorsese's average rating is 6.97,  maximum rating is 8.5, and minimum is 5.1.**"
   ]
  },
  {
   "cell_type": "markdown",
   "metadata": {},
   "source": [
    "### 7- F) Of the top 500 movies, which single month of a particular decade has the highest amount of movie released?"
   ]
  },
  {
   "cell_type": "code",
   "execution_count": 100,
   "metadata": {},
   "outputs": [
    {
     "data": {
      "text/html": [
       "<div>\n",
       "<style scoped>\n",
       "    .dataframe tbody tr th:only-of-type {\n",
       "        vertical-align: middle;\n",
       "    }\n",
       "\n",
       "    .dataframe tbody tr th {\n",
       "        vertical-align: top;\n",
       "    }\n",
       "\n",
       "    .dataframe thead th {\n",
       "        text-align: right;\n",
       "    }\n",
       "</style>\n",
       "<table border=\"1\" class=\"dataframe\">\n",
       "  <thead>\n",
       "    <tr style=\"text-align: right;\">\n",
       "      <th></th>\n",
       "      <th>budget</th>\n",
       "      <th>revenue</th>\n",
       "      <th>original_title</th>\n",
       "      <th>cast</th>\n",
       "      <th>director</th>\n",
       "      <th>keywords</th>\n",
       "      <th>runtime</th>\n",
       "      <th>genres</th>\n",
       "      <th>production_companies</th>\n",
       "      <th>release_date</th>\n",
       "      <th>vote_average</th>\n",
       "      <th>release_year</th>\n",
       "      <th>profit</th>\n",
       "      <th>decade</th>\n",
       "      <th>Month</th>\n",
       "      <th>Month-str</th>\n",
       "      <th>quarter</th>\n",
       "    </tr>\n",
       "  </thead>\n",
       "  <tbody>\n",
       "    <tr>\n",
       "      <th>3894</th>\n",
       "      <td>0.0</td>\n",
       "      <td>0.0</td>\n",
       "      <td>The Story of Film: An Odyssey</td>\n",
       "      <td>Mark Cousins|Jean-Michel Frodon|Cari Beauchamp...</td>\n",
       "      <td>Mark Cousins</td>\n",
       "      <td>cinema|nouvelle vague|hindi cinema|cinema novo...</td>\n",
       "      <td>900</td>\n",
       "      <td>Documentary</td>\n",
       "      <td>NaN</td>\n",
       "      <td>2011-09-03</td>\n",
       "      <td>9.2</td>\n",
       "      <td>2011</td>\n",
       "      <td>0.0</td>\n",
       "      <td>2010s</td>\n",
       "      <td>9</td>\n",
       "      <td>Sep</td>\n",
       "      <td>Third</td>\n",
       "    </tr>\n",
       "  </tbody>\n",
       "</table>\n",
       "</div>"
      ],
      "text/plain": [
       "      budget  revenue                 original_title  \\\n",
       "3894     0.0      0.0  The Story of Film: An Odyssey   \n",
       "\n",
       "                                                   cast      director  \\\n",
       "3894  Mark Cousins|Jean-Michel Frodon|Cari Beauchamp...  Mark Cousins   \n",
       "\n",
       "                                               keywords  runtime       genres  \\\n",
       "3894  cinema|nouvelle vague|hindi cinema|cinema novo...      900  Documentary   \n",
       "\n",
       "     production_companies release_date  vote_average  release_year  profit  \\\n",
       "3894                  NaN   2011-09-03           9.2          2011     0.0   \n",
       "\n",
       "     decade  Month Month-str quarter  \n",
       "3894  2010s      9       Sep   Third  "
      ]
     },
     "execution_count": 100,
     "metadata": {},
     "output_type": "execute_result"
    }
   ],
   "source": [
    "df_top500.query('runtime==900')"
   ]
  },
  {
   "cell_type": "code",
   "execution_count": 101,
   "metadata": {},
   "outputs": [
    {
     "data": {
      "text/plain": [
       "<matplotlib.legend.Legend at 0xb4b3ba8>"
      ]
     },
     "execution_count": 101,
     "metadata": {},
     "output_type": "execute_result"
    },
    {
     "data": {
      "image/png": "[encoded data removed]",
      "text/plain": [
       "<Figure size 1152x936 with 1 Axes>"
      ]
     },
     "metadata": {},
     "output_type": "display_data"
    }
   ],
   "source": [
    "# TOp 500 movie data: Highest Number of movie released in a month\n",
    "plt.figure(figsize = [16, 13])\n",
    "sns.countplot(data = df_top500, x = 'Month', hue = 'decade')\n",
    "plt.xlabel(\"Month of the Year\",fontsize=15)\n",
    "plt.ylabel(\"Number of movies released\",fontsize=15)\n",
    "plt.title(\"Figure-22: Number of top 500 movies released per month in all the decades\",fontsize=15)\n",
    "plt.rc('xtick',labelsize=14)\n",
    "plt.rc('ytick',labelsize=14)\n",
    "plt.legend(loc=2,prop={'size':15})"
   ]
  },
  {
   "cell_type": "code",
   "execution_count": 102,
   "metadata": {},
   "outputs": [
    {
     "name": "stdout",
     "output_type": "stream",
     "text": [
      "From top 500 the number of movies released in Sep 2010s is: 33\n",
      "From top 500 the number of movies released in Sep 2000s is: 18 \n",
      "From top 500 the number of movies released in Sep 1990s is: 0 \n",
      "From top 500 the number of movies released in Sep 1980s is: 0 \n",
      "From top 500 the number of movies released in Sep 1970s is: 0 \n",
      "From top 500 the number of movies released in Sep 1960s is: 0 \n"
     ]
    }
   ],
   "source": [
    "df_total_Sep_2010s = df_top500.query('Month == 9').query('decade == \"2010s\"').count().original_title\n",
    "print(\"From top 500 the number of movies released in Sep 2010s is: {}\".format(df_total_Sep_2010s))\n",
    "\n",
    "df_total_Sep_2000s = df_top500.query('Month == 9').query('decade == \"2000s\"').count().original_title\n",
    "print(\"From top 500 the number of movies released in Sep 2000s is: {} \".format(df_total_Sep_2000s))\n",
    "\n",
    "\n",
    "df_total_Sep_1990s = df_top500.query('Month == 9').query('decade == \"1990s\"').count().original_title\n",
    "print(\"From top 500 the number of movies released in Sep 1990s is: {} \".format(df_total_Sep_1990s))\n",
    "\n",
    "\n",
    "df_total_Sep_1980s = df_top500.query('Month == 9').query('decade == \"1980s\"').count().original_title\n",
    "print(\"From top 500 the number of movies released in Sep 1980s is: {} \".format(df_total_Sep_1980s))\n",
    "\n",
    "df_total_Sep_1970s = df_top500.query('Month == 9').query('decade == \"1970s\"').count().original_title\n",
    "print(\"From top 500 the number of movies released in Sep 1970s is: {} \".format(df_total_Sep_1970s))\n",
    "\n",
    "df_total_Sep_1960s = df_top500.query('Month == 9').query('decade == \"1960s\"').count().original_title\n",
    "print(\"From top 500 the number of movies released in Sep 1960s is: {} \".format(df_total_Sep_1960s))"
   ]
  },
  {
   "cell_type": "markdown",
   "metadata": {},
   "source": [
    "### 7- F) Conclusion\n",
    "\n",
    "**Of the top 500 movies, most were released during 2010-2015 in the month of Sep (Figure-22). The largest number of 33 movies were released in Sep 2010.**\n"
   ]
  },
  {
   "cell_type": "markdown",
   "metadata": {},
   "source": [
    "### 8) Vizualizing Vote_average, Runtime and Rating of the top 500 movies"
   ]
  },
  {
   "cell_type": "code",
   "execution_count": 103,
   "metadata": {},
   "outputs": [
    {
     "data": {
      "image/png": "[encoded data removed]",
      "text/plain": [
       "<Figure size 1152x864 with 2 Axes>"
      ]
     },
     "metadata": {},
     "output_type": "display_data"
    }
   ],
   "source": [
    "# plt vote_average, release_year and runtime distribution for the Top 500 movies\n",
    "plt.figure(figsize = [16, 12])\n",
    "plt.scatter(data = df_top500, x = 'release_year', y = 'vote_average', c = 'runtime')\n",
    "plt.colorbar()\n",
    "plt.title(\"Figure-23: vote_average, release_year and runtime distribution for the Top 500 movies\",fontsize=15)\n",
    "plt.xlabel('Release Year',fontsize=15)\n",
    "plt.ylabel('Vote Average',fontsize=15)\n",
    "plt.rc('xtick',labelsize=14)\n",
    "plt.rc('ytick',labelsize=14)"
   ]
  },
  {
   "cell_type": "markdown",
   "metadata": {},
   "source": [
    "### Note: \n",
    "**From Figure-23 it can be seen that most of the high rating movies are concentrated during 2010-2015. Also, the colour hue helps to visualize the long runtime movies. 2011 has the movies with longest runtime and vote_average marked by the colour yellow on the top.**"
   ]
  },
  {
   "cell_type": "code",
   "execution_count": 104,
   "metadata": {},
   "outputs": [
    {
     "data": {
      "text/plain": [
       "count    500.000000\n",
       "mean     110.916000\n",
       "std       73.272961\n",
       "min        0.000000\n",
       "25%       88.000000\n",
       "50%      104.000000\n",
       "75%      130.000000\n",
       "max      900.000000\n",
       "Name: runtime, dtype: float64"
      ]
     },
     "execution_count": 104,
     "metadata": {},
     "output_type": "execute_result"
    }
   ],
   "source": [
    "#runtime distribution of top 500 movies\n",
    "df_top500.describe().runtime"
   ]
  },
  {
   "cell_type": "markdown",
   "metadata": {},
   "source": [
    "### Note: Minimum runtime here is 0 which does not make sense. "
   ]
  },
  {
   "cell_type": "code",
   "execution_count": 105,
   "metadata": {},
   "outputs": [],
   "source": [
    "# taking the movies with nonzero runtime\n",
    "df_top500_nonzero_runtime = df_top500[df_top500['runtime']!=0]"
   ]
  },
  {
   "cell_type": "code",
   "execution_count": 106,
   "metadata": {},
   "outputs": [
    {
     "data": {
      "text/html": [
       "<div>\n",
       "<style scoped>\n",
       "    .dataframe tbody tr th:only-of-type {\n",
       "        vertical-align: middle;\n",
       "    }\n",
       "\n",
       "    .dataframe tbody tr th {\n",
       "        vertical-align: top;\n",
       "    }\n",
       "\n",
       "    .dataframe thead th {\n",
       "        text-align: right;\n",
       "    }\n",
       "</style>\n",
       "<table border=\"1\" class=\"dataframe\">\n",
       "  <thead>\n",
       "    <tr style=\"text-align: right;\">\n",
       "      <th></th>\n",
       "      <th>budget</th>\n",
       "      <th>revenue</th>\n",
       "      <th>original_title</th>\n",
       "      <th>cast</th>\n",
       "      <th>director</th>\n",
       "      <th>keywords</th>\n",
       "      <th>runtime</th>\n",
       "      <th>genres</th>\n",
       "      <th>production_companies</th>\n",
       "      <th>release_date</th>\n",
       "      <th>vote_average</th>\n",
       "      <th>release_year</th>\n",
       "      <th>profit</th>\n",
       "      <th>decade</th>\n",
       "      <th>Month</th>\n",
       "      <th>Month-str</th>\n",
       "      <th>quarter</th>\n",
       "    </tr>\n",
       "  </thead>\n",
       "  <tbody>\n",
       "    <tr>\n",
       "      <th>3894</th>\n",
       "      <td>0.0</td>\n",
       "      <td>0.0</td>\n",
       "      <td>The Story of Film: An Odyssey</td>\n",
       "      <td>Mark Cousins|Jean-Michel Frodon|Cari Beauchamp...</td>\n",
       "      <td>Mark Cousins</td>\n",
       "      <td>cinema|nouvelle vague|hindi cinema|cinema novo...</td>\n",
       "      <td>900</td>\n",
       "      <td>Documentary</td>\n",
       "      <td>NaN</td>\n",
       "      <td>2011-09-03</td>\n",
       "      <td>9.2</td>\n",
       "      <td>2011</td>\n",
       "      <td>0.0</td>\n",
       "      <td>2010s</td>\n",
       "      <td>9</td>\n",
       "      <td>Sep</td>\n",
       "      <td>Third</td>\n",
       "    </tr>\n",
       "    <tr>\n",
       "      <th>538</th>\n",
       "      <td>0.0</td>\n",
       "      <td>0.0</td>\n",
       "      <td>The Mask You Live In</td>\n",
       "      <td>NaN</td>\n",
       "      <td>Jennifer Siebel Newsom</td>\n",
       "      <td>feminism|sexism|young boy|gender roles|misogyny</td>\n",
       "      <td>88</td>\n",
       "      <td>Documentary</td>\n",
       "      <td>NaN</td>\n",
       "      <td>2015-01-01</td>\n",
       "      <td>8.9</td>\n",
       "      <td>2015</td>\n",
       "      <td>0.0</td>\n",
       "      <td>2010s</td>\n",
       "      <td>1</td>\n",
       "      <td>Jan</td>\n",
       "      <td>First</td>\n",
       "    </tr>\n",
       "  </tbody>\n",
       "</table>\n",
       "</div>"
      ],
      "text/plain": [
       "      budget  revenue                 original_title  \\\n",
       "3894     0.0      0.0  The Story of Film: An Odyssey   \n",
       "538      0.0      0.0           The Mask You Live In   \n",
       "\n",
       "                                                   cast  \\\n",
       "3894  Mark Cousins|Jean-Michel Frodon|Cari Beauchamp...   \n",
       "538                                                 NaN   \n",
       "\n",
       "                    director  \\\n",
       "3894            Mark Cousins   \n",
       "538   Jennifer Siebel Newsom   \n",
       "\n",
       "                                               keywords  runtime       genres  \\\n",
       "3894  cinema|nouvelle vague|hindi cinema|cinema novo...      900  Documentary   \n",
       "538     feminism|sexism|young boy|gender roles|misogyny       88  Documentary   \n",
       "\n",
       "     production_companies release_date  vote_average  release_year  profit  \\\n",
       "3894                  NaN   2011-09-03           9.2          2011     0.0   \n",
       "538                   NaN   2015-01-01           8.9          2015     0.0   \n",
       "\n",
       "     decade  Month Month-str quarter  \n",
       "3894  2010s      9       Sep   Third  \n",
       "538   2010s      1       Jan   First  "
      ]
     },
     "execution_count": 106,
     "metadata": {},
     "output_type": "execute_result"
    }
   ],
   "source": [
    "# movies with nonzero runtime\n",
    "df_top500_nonzero_runtime.head(2)"
   ]
  },
  {
   "cell_type": "code",
   "execution_count": 107,
   "metadata": {},
   "outputs": [
    {
     "data": {
      "text/plain": [
       "count    499.000000\n",
       "mean     111.138277\n",
       "std       73.177556\n",
       "min        2.000000\n",
       "25%       88.000000\n",
       "50%      104.000000\n",
       "75%      130.000000\n",
       "max      900.000000\n",
       "Name: runtime, dtype: float64"
      ]
     },
     "execution_count": 107,
     "metadata": {},
     "output_type": "execute_result"
    }
   ],
   "source": [
    "# summary of the nonzero runtime movies\n",
    "df_top500_nonzero_runtime.describe().runtime"
   ]
  },
  {
   "cell_type": "code",
   "execution_count": 108,
   "metadata": {},
   "outputs": [
    {
     "data": {
      "image/png": "[encoded data removed]",
      "text/plain": [
       "<Figure size 1440x576 with 1 Axes>"
      ]
     },
     "metadata": {},
     "output_type": "display_data"
    }
   ],
   "source": [
    "## Plot runtime distribution of top 500 movies\n",
    "plt.figure(figsize = [20, 8])\n",
    "bin_edges = np.arange(0, df_top500_nonzero_runtime['runtime'].max()+1,1)\n",
    "plt.hist(data = df_top500_nonzero_runtime, x = 'runtime', bins = bin_edges)\n",
    "plt.title(\"Figure-24: Vote_average distribution for the Top 500 movies\",fontsize=16)\n",
    "plt.xlabel('Runtime in minutes',fontsize=15)\n",
    "plt.ylabel('Count',fontsize=15)\n",
    "plt.rc('xtick',labelsize=16)\n",
    "plt.rc('ytick',labelsize=16)"
   ]
  },
  {
   "cell_type": "markdown",
   "metadata": {},
   "source": [
    "### Note: \n",
    "**1) 75% of the top 500 movies have runtime <= 130 minutes as can be seen from Figure-24. The curve has dense spikes at the left of 200 minutes mark on the x-axis.**\n",
    "\n",
    "**2)The  lowest runtime is 02 minutes, and the highest runtime is 900 minutes (can be seen from the rightmost spike) for the top 500 movies.** \n"
   ]
  },
  {
   "cell_type": "code",
   "execution_count": 109,
   "metadata": {},
   "outputs": [
    {
     "data": {
      "text/plain": [
       "count    500.000000\n",
       "mean       7.737200\n",
       "std        0.275259\n",
       "min        7.400000\n",
       "25%        7.500000\n",
       "50%        7.700000\n",
       "75%        7.900000\n",
       "max        9.200000\n",
       "Name: vote_average, dtype: float64"
      ]
     },
     "execution_count": 109,
     "metadata": {},
     "output_type": "execute_result"
    }
   ],
   "source": [
    "#runtime distribution of top 500 movies\n",
    "df_top500.describe().vote_average"
   ]
  },
  {
   "cell_type": "code",
   "execution_count": 110,
   "metadata": {},
   "outputs": [
    {
     "data": {
      "image/png": "[encoded data removed]",
      "text/plain": [
       "<Figure size 1080x864 with 1 Axes>"
      ]
     },
     "metadata": {},
     "output_type": "display_data"
    }
   ],
   "source": [
    "## Plot vote_average distribution of top 500 movies\n",
    "plt.figure(figsize = [15, 12])\n",
    "bin_edges = np.arange(0, df_top500['vote_average'].max()+1/6, 1/6)\n",
    "plt.hist(data = df_top500, x = 'vote_average', bins = bin_edges )\n",
    "plt.title(\"Figure-25: Vote_average distribution for the Top 500 movies\",fontsize=15)\n",
    "plt.xlabel('Vote Average',fontsize=15)\n",
    "plt.ylabel('Count',fontsize=15)\n",
    "plt.rc('xtick',labelsize=14)\n",
    "plt.rc('ytick',labelsize=14)\n"
   ]
  },
  {
   "cell_type": "markdown",
   "metadata": {},
   "source": [
    "### Note:\n",
    "**1) Top 500 movies have the lowest vote_average of 7.4 and the highest 9.2 as can be seen from Figure-25.**\n",
    "\n",
    "**2) 75% movies have vote average from 7.4-7.9.**"
   ]
  },
  {
   "cell_type": "code",
   "execution_count": 111,
   "metadata": {},
   "outputs": [
    {
     "data": {
      "image/png": "[encoded data removed]",
      "text/plain": [
       "<Figure size 1152x864 with 2 Axes>"
      ]
     },
     "metadata": {},
     "output_type": "display_data"
    }
   ],
   "source": [
    "# correlation matrix for top 500 movies\n",
    "plt.figure(figsize = [16, 12])\n",
    "sns.heatmap(df_top500.corr(), annot = True, fmt = '.2f', cmap = 'vlag_r', center = 0)\n",
    "plt.rc('xtick',labelsize=14)\n",
    "plt.rc('ytick',labelsize=14)"
   ]
  },
  {
   "cell_type": "markdown",
   "metadata": {},
   "source": [
    "### Note:\n",
    "**From the correlation matrix it can be seen that: a) budget vs profit, b) budget vs revenue and c) revenue vs profit has the highest correlation like the previous instance in part-2 for all the movies.**\n"
   ]
  },
  {
   "cell_type": "markdown",
   "metadata": {},
   "source": [
    "### Ref:\n",
    "    \n",
    "1. https://en.wikipedia.org/wiki/List_of_highest-grossing_films"
   ]
  },
  {
   "cell_type": "code",
   "execution_count": null,
   "metadata": {},
   "outputs": [],
   "source": []
  }
 ],
 "metadata": {
  "kernelspec": {
   "display_name": "Python 3",
   "language": "python",
   "name": "python3"
  },
  "language_info": {
   "codemirror_mode": {
    "name": "ipython",
    "version": 3
   },
   "file_extension": ".py",
   "mimetype": "text/x-python",
   "name": "python",
   "nbconvert_exporter": "python",
   "pygments_lexer": "ipython3",
   "version": "3.6.5"
  }
 },
 "nbformat": 4,
 "nbformat_minor": 2
}
