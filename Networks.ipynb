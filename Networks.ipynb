{
 "cells": [
  {
   "cell_type": "markdown",
   "metadata": {},
   "source": [
    "<h1>Network Analysis with Python</h1>"
   ]
  },
  {
   "cell_type": "markdown",
   "metadata": {},
   "source": [
    "<li>Networks are connected bi-directional graphs\n",
    "<li>Nodes mark the entities in a network\n",
    "<li>Edges mark the relationships in a network"
   ]
  },
  {
   "cell_type": "markdown",
   "metadata": {},
   "source": [
    "<h2>Examples of networks</h2>\n",
    "<li>Facebook friends\n",
    "<li>Other social networks\n",
    "<li>transportation networks\n",
    "<li>Power grids\n",
    "<li>Internet routers\n",
    "<li>Activity networks\n",
    "<li>Many others"
   ]
  },
  {
   "cell_type": "markdown",
   "metadata": {},
   "source": [
    "<h2>Questions we're interested in</h2>\n",
    "<li>Shortest path between two nodes\n",
    "<li>Connectedness\n",
    "<li>Centrality\n",
    "<li>Clustering\n",
    "<li>Communicability"
   ]
  },
  {
   "cell_type": "markdown",
   "metadata": {},
   "source": [
    "<h1>networkx</h1>\n",
    "<li>Python package for networks \n",
    "<li>Nodes and edges can contain data\n",
    "<li>Nodes can be (hashable!) python objects"
   ]
  },
  {
   "cell_type": "markdown",
   "metadata": {},
   "source": [
    "\n"
   ]
  },
  {
   "cell_type": "markdown",
   "metadata": {},
   "source": [
    "<h3>Constructing a simple network</h3>"
   ]
  },
  {
   "cell_type": "markdown",
   "metadata": {},
   "source": [
    "<b>Necessary imports</b>"
   ]
  },
  {
   "cell_type": "code",
   "execution_count": 1,
   "metadata": {},
   "outputs": [],
   "source": [
    "import networkx as nx\n",
    "%matplotlib inline\n",
    "import numpy as np\n",
    "import matplotlib.pyplot as plt"
   ]
  },
  {
   "cell_type": "code",
   "execution_count": 2,
   "metadata": {},
   "outputs": [
    {
     "data": {
      "image/png": "[encoded data removed]",
      "text/plain": [
       "<Figure size 432x288 with 1 Axes>"
      ]
     },
     "metadata": {},
     "output_type": "display_data"
    }
   ],
   "source": [
    "simple_network = nx.Graph()\n",
    "nodes = [1,2,3,4,5,6,7,8]\n",
    "edges = [(1,2),(2,3),(1,3),(4,5),(2,7),(1,9),(3,4),(4,5),(4,9),(5,6),(7,8),(8,9)]\n",
    "simple_network.add_nodes_from(nodes)\n",
    "simple_network.add_edges_from(edges)\n",
    "nx.draw(simple_network)"
   ]
  },
  {
   "cell_type": "markdown",
   "metadata": {},
   "source": [
    "<h1>Add labels to the nodes</h1>"
   ]
  },
  {
   "cell_type": "code",
   "execution_count": 3,
   "metadata": {},
   "outputs": [
    {
     "data": {
      "image/png": "[encoded data removed]",
      "text/plain": [
       "<Figure size 432x288 with 1 Axes>"
      ]
     },
     "metadata": {},
     "output_type": "display_data"
    }
   ],
   "source": [
    "pos=nx.spring_layout(simple_network) # positions for all nodes\n",
    "\n",
    "# nodes\n",
    "nx.draw_networkx_nodes(simple_network,pos,\n",
    "                       node_color='r',\n",
    "                       node_size=500,\n",
    "                      alpha=0.8)\n",
    "\n",
    "# edges\n",
    "#nx.draw_networkx_edges(sub_graph,pos,width=1.0,alpha=0.5)\n",
    "nx.draw_networkx_edges(simple_network,pos,\n",
    "                       edgelist=edges,\n",
    "                       width=8,alpha=0.5,edge_color='b')\n",
    "\n",
    "\n",
    "node_name={}\n",
    "for node in simple_network.nodes():\n",
    "    node_name[node]=str(node)\n",
    "\n",
    "\n",
    "nx.draw_networkx_labels(simple_network,pos,node_name,font_size=16)\n",
    "\n",
    "plt.axis('off')\n",
    "plt.show() # display"
   ]
  },
  {
   "cell_type": "markdown",
   "metadata": {},
   "source": [
    "<h4>Simple queries on the network</h4>"
   ]
  },
  {
   "cell_type": "code",
   "execution_count": 4,
   "metadata": {},
   "outputs": [
    {
     "data": {
      "text/plain": [
       "False"
      ]
     },
     "execution_count": 4,
     "metadata": {},
     "output_type": "execute_result"
    }
   ],
   "source": [
    "simple_network.has_edge(2,9)\n",
    "#simple_network.has_node(2)\n",
    "#simple_network.number_of_edges()\n",
    "#simple_network.number_of_nodes()\n",
    "#simple_network.order()\n",
    "#len(simple_network)"
   ]
  },
  {
   "cell_type": "markdown",
   "metadata": {},
   "source": [
    "<h3>Iterating over a network</h3>"
   ]
  },
  {
   "cell_type": "code",
   "execution_count": 5,
   "metadata": {},
   "outputs": [
    {
     "ename": "AttributeError",
     "evalue": "'Graph' object has no attribute 'nodes_iter'",
     "output_type": "error",
     "traceback": [
      "\u001b[1;31m---------------------------------------------------------------------------\u001b[0m",
      "\u001b[1;31mAttributeError\u001b[0m                            Traceback (most recent call last)",
      "\u001b[1;32m<ipython-input-5-d650a60dde96>\u001b[0m in \u001b[0;36m<module>\u001b[1;34m()\u001b[0m\n\u001b[1;32m----> 1\u001b[1;33m \u001b[1;32mfor\u001b[0m \u001b[0mn\u001b[0m \u001b[1;32min\u001b[0m \u001b[0msimple_network\u001b[0m\u001b[1;33m.\u001b[0m\u001b[0mnodes_iter\u001b[0m\u001b[1;33m(\u001b[0m\u001b[1;33m)\u001b[0m\u001b[1;33m:\u001b[0m\u001b[1;33m\u001b[0m\u001b[0m\n\u001b[0m\u001b[0;32m      2\u001b[0m     \u001b[0mprint\u001b[0m\u001b[1;33m(\u001b[0m\u001b[0mn\u001b[0m\u001b[1;33m)\u001b[0m\u001b[1;33m\u001b[0m\u001b[0m\n",
      "\u001b[1;31mAttributeError\u001b[0m: 'Graph' object has no attribute 'nodes_iter'"
     ]
    }
   ],
   "source": [
    "for n in simple_network.nodes_iter():\n",
    "    print(n)"
   ]
  },
  {
   "cell_type": "code",
   "execution_count": null,
   "metadata": {},
   "outputs": [],
   "source": [
    "for a in simple_network.adjacency_iter():\n",
    "    print(a)"
   ]
  },
  {
   "cell_type": "code",
   "execution_count": null,
   "metadata": {},
   "outputs": [],
   "source": [
    "for e in simple_network.edges_iter():\n",
    "    print(e)"
   ]
  },
  {
   "cell_type": "code",
   "execution_count": null,
   "metadata": {},
   "outputs": [],
   "source": [
    "for d in simple_network.degree_iter():\n",
    "    print(d)"
   ]
  },
  {
   "cell_type": "markdown",
   "metadata": {},
   "source": [
    "<h3>Types of graph</h3>\n"
   ]
  },
  {
   "cell_type": "code",
   "execution_count": 6,
   "metadata": {},
   "outputs": [],
   "source": [
    "G = nx.Graph() #Undirected simple graph\n",
    "d = nx . DiGraph () #directed simple graph\n",
    "m = nx . MultiGraph () #undirected with parallel edges\n",
    "h = nx . MultiDiGraph () #directed with parallel edges"
   ]
  },
  {
   "cell_type": "markdown",
   "metadata": {},
   "source": [
    "<h4>Shortest path</h4>"
   ]
  },
  {
   "cell_type": "code",
   "execution_count": 7,
   "metadata": {},
   "outputs": [
    {
     "name": "stdout",
     "output_type": "stream",
     "text": [
      "[6, 5, 4, 9, 8]\n",
      "4\n"
     ]
    }
   ],
   "source": [
    "print(nx.shortest_path(simple_network,6,8))\n",
    "print(nx.shortest_path_length(simple_network,6,8))"
   ]
  },
  {
   "cell_type": "markdown",
   "metadata": {},
   "source": [
    "<h2>Weighted Edges</h2>\n",
    "<li>Example: A network of travel times between locations"
   ]
  },
  {
   "cell_type": "markdown",
   "metadata": {},
   "source": [
    "<h4>We can use Google Distance Matrix API to get travel times</h4>\n",
    "<li>Uses addresses to construct a distance matrix\n",
    "<li>Free version uses latitudes and longitudes\n",
    "<li>We can find latitudes and longitudes using the function we wrote as homework"
   ]
  },
  {
   "cell_type": "markdown",
   "metadata": {},
   "source": [
    "<h4>We'll add a get_lat_lon function to our geocoding function to return lat,lon in google's required format</h4>"
   ]
  },
  {
   "cell_type": "code",
   "execution_count": 8,
   "metadata": {},
   "outputs": [],
   "source": [
    "#Our geocoding data getter is useful here!\n",
    "\n",
    "def get_json_data(response,country,types):\n",
    "    data = response.json()\n",
    "    result_list = list()\n",
    "    for result in data['results']:\n",
    "        if not country == 'ALL':\n",
    "            if not country in [x['long_name'] for x in result['address_components'] if 'country' in x['types']]:\n",
    "                continue\n",
    "        address = result['formatted_address']\n",
    "        lat = result['geometry']['location']['lat']\n",
    "        lng = result['geometry']['location']['lng']\n",
    "        if types:\n",
    "            result_list.append((address,lat,lng,result['types']))\n",
    "        else:\n",
    "            result_list.append((address,lat,lng))\n",
    "    return result_list\n",
    "            \n",
    "    \n",
    "def get_geolocation_data(address_string,format=\"JSON\",country=\"ALL\",types=False):\n",
    "    format = format.lower()\n",
    "    address = '_'.join(address_string.split())\n",
    "    url = 'https://maps.googleapis.com/maps/api/geocode/%s?address=%s' %(format,address)\n",
    "    try:\n",
    "        import requests\n",
    "        response=requests.get(url)\n",
    "        if not response.status_code == 200: return None\n",
    "        func='get_'+format+'_data'\n",
    "        return globals()[func](response,country,types)\n",
    "    except:\n",
    "        return None\n",
    "    \n",
    "def get_lat_lon(address):\n",
    "    data = get_geolocation_data(address,format='JSON')\n",
    "    return str(data[0][1]) + ',' + str(data[0][2])"
   ]
  },
  {
   "cell_type": "code",
   "execution_count": 9,
   "metadata": {},
   "outputs": [
    {
     "ename": "IndexError",
     "evalue": "list index out of range",
     "output_type": "error",
     "traceback": [
      "\u001b[1;31m---------------------------------------------------------------------------\u001b[0m",
      "\u001b[1;31mIndexError\u001b[0m                                Traceback (most recent call last)",
      "\u001b[1;32m<ipython-input-9-81d977bac210>\u001b[0m in \u001b[0;36m<module>\u001b[1;34m()\u001b[0m\n\u001b[1;32m----> 1\u001b[1;33m \u001b[0mget_lat_lon\u001b[0m\u001b[1;33m(\u001b[0m\u001b[1;34m'New York, NY'\u001b[0m\u001b[1;33m)\u001b[0m\u001b[1;33m\u001b[0m\u001b[0m\n\u001b[0m",
      "\u001b[1;32m<ipython-input-8-8f4b60218e1a>\u001b[0m in \u001b[0;36mget_lat_lon\u001b[1;34m(address)\u001b[0m\n\u001b[0;32m     33\u001b[0m \u001b[1;32mdef\u001b[0m \u001b[0mget_lat_lon\u001b[0m\u001b[1;33m(\u001b[0m\u001b[0maddress\u001b[0m\u001b[1;33m)\u001b[0m\u001b[1;33m:\u001b[0m\u001b[1;33m\u001b[0m\u001b[0m\n\u001b[0;32m     34\u001b[0m     \u001b[0mdata\u001b[0m \u001b[1;33m=\u001b[0m \u001b[0mget_geolocation_data\u001b[0m\u001b[1;33m(\u001b[0m\u001b[0maddress\u001b[0m\u001b[1;33m,\u001b[0m\u001b[0mformat\u001b[0m\u001b[1;33m=\u001b[0m\u001b[1;34m'JSON'\u001b[0m\u001b[1;33m)\u001b[0m\u001b[1;33m\u001b[0m\u001b[0m\n\u001b[1;32m---> 35\u001b[1;33m     \u001b[1;32mreturn\u001b[0m \u001b[0mstr\u001b[0m\u001b[1;33m(\u001b[0m\u001b[0mdata\u001b[0m\u001b[1;33m[\u001b[0m\u001b[1;36m0\u001b[0m\u001b[1;33m]\u001b[0m\u001b[1;33m[\u001b[0m\u001b[1;36m1\u001b[0m\u001b[1;33m]\u001b[0m\u001b[1;33m)\u001b[0m \u001b[1;33m+\u001b[0m \u001b[1;34m','\u001b[0m \u001b[1;33m+\u001b[0m \u001b[0mstr\u001b[0m\u001b[1;33m(\u001b[0m\u001b[0mdata\u001b[0m\u001b[1;33m[\u001b[0m\u001b[1;36m0\u001b[0m\u001b[1;33m]\u001b[0m\u001b[1;33m[\u001b[0m\u001b[1;36m2\u001b[0m\u001b[1;33m]\u001b[0m\u001b[1;33m)\u001b[0m\u001b[1;33m\u001b[0m\u001b[0m\n\u001b[0m",
      "\u001b[1;31mIndexError\u001b[0m: list index out of range"
     ]
    }
   ],
   "source": [
    "get_lat_lon('New York, NY')"
   ]
  },
  {
   "cell_type": "markdown",
   "metadata": {},
   "source": [
    "<h4>Now we can construct the distance matrix api url</h4>"
   ]
  },
  {
   "cell_type": "code",
   "execution_count": null,
   "metadata": {},
   "outputs": [],
   "source": [
    "addresses = [\n",
    "    \"Columbia University, New York, NY\",\n",
    "    \"Amity Hall Uptown, Amsterdam Avenue, New York, NY\",\n",
    "    \"Ellington in the Park, Riverside Drive, New York, NY\",\n",
    "    'Chaiwali, Lenox Avenue, New York, NY',\n",
    "    \"Grant's Tomb, West 122nd Street, New York, NY\",\n",
    "    'Pisticci, La Salle Street, New York, NY',\n",
    "    'Nicholas Roerich Museum, West 107th Street, New York, NY',\n",
    "    'Audubon Terrace, Broadway, New York, NY',\n",
    "    'Apollo Theater, New York, NY'\n",
    "]"
   ]
  },
  {
   "cell_type": "code",
   "execution_count": 10,
   "metadata": {},
   "outputs": [
    {
     "ename": "NameError",
     "evalue": "name 'addresses' is not defined",
     "output_type": "error",
     "traceback": [
      "\u001b[1;31m---------------------------------------------------------------------------\u001b[0m",
      "\u001b[1;31mNameError\u001b[0m                                 Traceback (most recent call last)",
      "\u001b[1;32m<ipython-input-10-98f282787cb2>\u001b[0m in \u001b[0;36m<module>\u001b[1;34m()\u001b[0m\n\u001b[0;32m      1\u001b[0m \u001b[1;33m\u001b[0m\u001b[0m\n\u001b[0;32m      2\u001b[0m \u001b[0mlatlons\u001b[0m\u001b[1;33m=\u001b[0m\u001b[1;34m''\u001b[0m\u001b[1;33m\u001b[0m\u001b[0m\n\u001b[1;32m----> 3\u001b[1;33m \u001b[1;32mfor\u001b[0m \u001b[0maddress\u001b[0m \u001b[1;32min\u001b[0m \u001b[0maddresses\u001b[0m\u001b[1;33m:\u001b[0m\u001b[1;33m\u001b[0m\u001b[0m\n\u001b[0m\u001b[0;32m      4\u001b[0m     \u001b[0mlatlon\u001b[0m\u001b[1;33m=\u001b[0m\u001b[0mget_lat_lon\u001b[0m\u001b[1;33m(\u001b[0m\u001b[0maddress\u001b[0m\u001b[1;33m)\u001b[0m\u001b[1;33m\u001b[0m\u001b[0m\n\u001b[0;32m      5\u001b[0m     \u001b[0mlatlons\u001b[0m \u001b[1;33m+=\u001b[0m \u001b[0mlatlon\u001b[0m \u001b[1;33m+\u001b[0m \u001b[1;34m'|'\u001b[0m\u001b[1;33m\u001b[0m\u001b[0m\n",
      "\u001b[1;31mNameError\u001b[0m: name 'addresses' is not defined"
     ]
    }
   ],
   "source": [
    "\n",
    "latlons=''\n",
    "for address in addresses:\n",
    "    latlon=get_lat_lon(address)\n",
    "    latlons += latlon + '|'\n",
    "print(latlons)"
   ]
  },
  {
   "cell_type": "code",
   "execution_count": 11,
   "metadata": {},
   "outputs": [
    {
     "name": "stdout",
     "output_type": "stream",
     "text": [
      "https://maps.googleapis.com/maps/api/distancematrix/json?origins=&destinations=&mode=walking\n"
     ]
    }
   ],
   "source": [
    "\n",
    "\n",
    "distance_url = 'https://maps.googleapis.com/maps/api/distancematrix/json?origins='\n",
    "distance_url+=latlons\n",
    "distance_url+='&destinations='\n",
    "distance_url+=latlons\n",
    "#Set the mode walking, driving, cycling\n",
    "mode='walking'\n",
    "distance_url+='&mode='+mode\n",
    "print(distance_url)\n"
   ]
  },
  {
   "cell_type": "markdown",
   "metadata": {},
   "source": [
    "<h4>Then let's get the distances and construct a graph</h4>"
   ]
  },
  {
   "cell_type": "code",
   "execution_count": 12,
   "metadata": {},
   "outputs": [
    {
     "ename": "NameError",
     "evalue": "name 'addresses' is not defined",
     "output_type": "error",
     "traceback": [
      "\u001b[1;31m---------------------------------------------------------------------------\u001b[0m",
      "\u001b[1;31mNameError\u001b[0m                                 Traceback (most recent call last)",
      "\u001b[1;32m<ipython-input-12-b436391a3fed>\u001b[0m in \u001b[0;36m<module>\u001b[1;34m()\u001b[0m\n\u001b[0;32m      3\u001b[0m \u001b[0mall_rows\u001b[0m \u001b[1;33m=\u001b[0m \u001b[0mdata\u001b[0m\u001b[1;33m[\u001b[0m\u001b[1;34m'rows'\u001b[0m\u001b[1;33m]\u001b[0m\u001b[1;33m\u001b[0m\u001b[0m\n\u001b[0;32m      4\u001b[0m \u001b[0maddress_graph\u001b[0m\u001b[1;33m=\u001b[0m\u001b[0mnx\u001b[0m\u001b[1;33m.\u001b[0m\u001b[0mGraph\u001b[0m\u001b[1;33m(\u001b[0m\u001b[1;33m)\u001b[0m\u001b[1;33m\u001b[0m\u001b[0m\n\u001b[1;32m----> 5\u001b[1;33m \u001b[0maddress_graph\u001b[0m\u001b[1;33m.\u001b[0m\u001b[0madd_nodes_from\u001b[0m\u001b[1;33m(\u001b[0m\u001b[0maddresses\u001b[0m\u001b[1;33m)\u001b[0m\u001b[1;33m\u001b[0m\u001b[0m\n\u001b[0m\u001b[0;32m      6\u001b[0m \u001b[1;32mfor\u001b[0m \u001b[0mi\u001b[0m \u001b[1;32min\u001b[0m \u001b[0mrange\u001b[0m\u001b[1;33m(\u001b[0m\u001b[0mlen\u001b[0m\u001b[1;33m(\u001b[0m\u001b[0mall_rows\u001b[0m\u001b[1;33m)\u001b[0m\u001b[1;33m)\u001b[0m\u001b[1;33m:\u001b[0m\u001b[1;33m\u001b[0m\u001b[0m\n\u001b[0;32m      7\u001b[0m     \u001b[0morigin\u001b[0m \u001b[1;33m=\u001b[0m \u001b[0maddresses\u001b[0m\u001b[1;33m[\u001b[0m\u001b[0mi\u001b[0m\u001b[1;33m]\u001b[0m\u001b[1;33m\u001b[0m\u001b[0m\n",
      "\u001b[1;31mNameError\u001b[0m: name 'addresses' is not defined"
     ]
    }
   ],
   "source": [
    "import requests\n",
    "data=requests.get(distance_url).json()\n",
    "all_rows = data['rows']\n",
    "address_graph=nx.Graph()\n",
    "address_graph.add_nodes_from(addresses)\n",
    "for i in range(len(all_rows)):\n",
    "    origin = addresses[i]\n",
    "    for j in range(len(all_rows[i]['elements'])):\n",
    "        duration = all_rows[i]['elements'][j]['duration']['value']\n",
    "        destination = addresses[j]\n",
    "        address_graph.add_edge(origin,destination,d=duration)\n",
    "        #print(origin,destination,duration)\n",
    "nx.draw(address_graph)"
   ]
  },
  {
   "cell_type": "code",
   "execution_count": 13,
   "metadata": {},
   "outputs": [
    {
     "data": {
      "image/png": "[encoded data removed]",
      "text/plain": [
       "<Figure size 432x288 with 1 Axes>"
      ]
     },
     "metadata": {},
     "output_type": "display_data"
    }
   ],
   "source": [
    "nx.draw(address_graph)"
   ]
  },
  {
   "cell_type": "markdown",
   "metadata": {},
   "source": [
    "<h4>Functionalize this for reuse</h4>"
   ]
  },
  {
   "cell_type": "code",
   "execution_count": 14,
   "metadata": {},
   "outputs": [
    {
     "ename": "NameError",
     "evalue": "name 'addresses' is not defined",
     "output_type": "error",
     "traceback": [
      "\u001b[1;31m---------------------------------------------------------------------------\u001b[0m",
      "\u001b[1;31mNameError\u001b[0m                                 Traceback (most recent call last)",
      "\u001b[1;32m<ipython-input-14-e2558b290e56>\u001b[0m in \u001b[0;36m<module>\u001b[1;34m()\u001b[0m\n\u001b[0;32m     25\u001b[0m             \u001b[0maddress_graph\u001b[0m\u001b[1;33m.\u001b[0m\u001b[0madd_edge\u001b[0m\u001b[1;33m(\u001b[0m\u001b[0morigin\u001b[0m\u001b[1;33m,\u001b[0m\u001b[0mdestination\u001b[0m\u001b[1;33m,\u001b[0m\u001b[0md\u001b[0m\u001b[1;33m=\u001b[0m\u001b[0mduration\u001b[0m\u001b[1;33m)\u001b[0m\u001b[1;33m\u001b[0m\u001b[0m\n\u001b[0;32m     26\u001b[0m     \u001b[1;32mreturn\u001b[0m \u001b[0maddress_graph\u001b[0m\u001b[1;33m\u001b[0m\u001b[0m\n\u001b[1;32m---> 27\u001b[1;33m \u001b[0maddress_graph\u001b[0m \u001b[1;33m=\u001b[0m \u001b[0mget_route_graph\u001b[0m\u001b[1;33m(\u001b[0m\u001b[0maddresses\u001b[0m\u001b[1;33m)\u001b[0m\u001b[1;33m\u001b[0m\u001b[0m\n\u001b[0m",
      "\u001b[1;31mNameError\u001b[0m: name 'addresses' is not defined"
     ]
    }
   ],
   "source": [
    "def get_route_graph(address_list,mode='walking'):\n",
    "    latlons=''\n",
    "    for address in addresses:\n",
    "        latlon=get_lat_lon(address)\n",
    "        latlons += latlon + '|'\n",
    "    distance_url = 'https://maps.googleapis.com/maps/api/distancematrix/json?origins='\n",
    "    distance_url+=latlons\n",
    "    distance_url+='&destinations='\n",
    "    distance_url+=latlons\n",
    "    #Set the mode walking, driving, cycling\n",
    "    mode='driving'\n",
    "    distance_url+='&mode='+mode\n",
    "    import requests\n",
    "    data=requests.get(distance_url).json()\n",
    "    all_rows = data['rows']\n",
    "    address_graph = nx.Graph()\n",
    "    address_graph.add_nodes_from(addresses)\n",
    "    for i in range(len(all_rows)):\n",
    "        origin = addresses[i]\n",
    "        for j in range(len(all_rows[i]['elements'])):\n",
    "            if i==j:\n",
    "                continue\n",
    "            duration = all_rows[i]['elements'][j]['duration']['value']\n",
    "            destination = addresses[j]\n",
    "            address_graph.add_edge(origin,destination,d=duration)\n",
    "    return address_graph\n",
    "address_graph = get_route_graph(addresses)"
   ]
  },
  {
   "cell_type": "markdown",
   "metadata": {},
   "source": [
    "<h4>Test the function by drawing it with node and edge labels</h4>"
   ]
  },
  {
   "cell_type": "code",
   "execution_count": 15,
   "metadata": {},
   "outputs": [],
   "source": [
    "for edge in address_graph.edges():\n",
    "    print(edge,address_graph.get_edge_data(*edge))"
   ]
  },
  {
   "cell_type": "code",
   "execution_count": 16,
   "metadata": {},
   "outputs": [
    {
     "ename": "AttributeError",
     "evalue": "'Graph' object has no attribute 'edges_iter'",
     "output_type": "error",
     "traceback": [
      "\u001b[1;31m---------------------------------------------------------------------------\u001b[0m",
      "\u001b[1;31mAttributeError\u001b[0m                            Traceback (most recent call last)",
      "\u001b[1;32m<ipython-input-16-9ed48dcb68a8>\u001b[0m in \u001b[0;36m<module>\u001b[1;34m()\u001b[0m\n\u001b[1;32m----> 1\u001b[1;33m \u001b[1;32mfor\u001b[0m \u001b[0mn\u001b[0m \u001b[1;32min\u001b[0m \u001b[0maddress_graph\u001b[0m\u001b[1;33m.\u001b[0m\u001b[0medges_iter\u001b[0m\u001b[1;33m(\u001b[0m\u001b[1;33m)\u001b[0m\u001b[1;33m:\u001b[0m\u001b[1;33m\u001b[0m\u001b[0m\n\u001b[0m\u001b[0;32m      2\u001b[0m     \u001b[0mprint\u001b[0m\u001b[1;33m(\u001b[0m\u001b[0mn\u001b[0m\u001b[1;33m)\u001b[0m\u001b[1;33m\u001b[0m\u001b[0m\n",
      "\u001b[1;31mAttributeError\u001b[0m: 'Graph' object has no attribute 'edges_iter'"
     ]
    }
   ],
   "source": [
    "for n in address_graph.edges_iter():\n",
    "    print(n)"
   ]
  },
  {
   "cell_type": "code",
   "execution_count": 17,
   "metadata": {},
   "outputs": [
    {
     "ename": "NameError",
     "evalue": "name 'addresses' is not defined",
     "output_type": "error",
     "traceback": [
      "\u001b[1;31m---------------------------------------------------------------------------\u001b[0m",
      "\u001b[1;31mNameError\u001b[0m                                 Traceback (most recent call last)",
      "\u001b[1;32m<ipython-input-17-2e73efd3712f>\u001b[0m in \u001b[0;36m<module>\u001b[1;34m()\u001b[0m\n\u001b[1;32m----> 1\u001b[1;33m \u001b[0maddress_graph\u001b[0m \u001b[1;33m=\u001b[0m \u001b[0mget_route_graph\u001b[0m\u001b[1;33m(\u001b[0m\u001b[0maddresses\u001b[0m\u001b[1;33m)\u001b[0m\u001b[1;33m\u001b[0m\u001b[0m\n\u001b[0m\u001b[0;32m      2\u001b[0m \u001b[0mpos\u001b[0m\u001b[1;33m=\u001b[0m\u001b[0mnx\u001b[0m\u001b[1;33m.\u001b[0m\u001b[0mcircular_layout\u001b[0m\u001b[1;33m(\u001b[0m\u001b[0maddress_graph\u001b[0m\u001b[1;33m)\u001b[0m \u001b[1;31m# positions for all nodes\u001b[0m\u001b[1;33m\u001b[0m\u001b[0m\n\u001b[0;32m      3\u001b[0m \u001b[1;33m\u001b[0m\u001b[0m\n\u001b[0;32m      4\u001b[0m \u001b[1;31m# nodes\u001b[0m\u001b[1;33m\u001b[0m\u001b[1;33m\u001b[0m\u001b[0m\n\u001b[0;32m      5\u001b[0m nx.draw_networkx_nodes(address_graph,pos,\n",
      "\u001b[1;31mNameError\u001b[0m: name 'addresses' is not defined"
     ]
    }
   ],
   "source": [
    "address_graph = get_route_graph(addresses)\n",
    "pos=nx.circular_layout(address_graph) # positions for all nodes\n",
    "\n",
    "# nodes\n",
    "nx.draw_networkx_nodes(address_graph,pos,\n",
    "                       node_color='r',\n",
    "                       node_size=2000,\n",
    "                      alpha=0.001)\n",
    "\n",
    "# edges\n",
    "\n",
    "nx.draw_networkx_edges(address_graph,pos,edgelist=address_graph.edges(),width=8,alpha=0.5,edge_color='b')\n",
    "\n",
    "nx.draw_networkx_edge_labels(address_graph,pos,font_size=10)\n",
    "node_name={}\n",
    "for node in address_graph.nodes():\n",
    "    node_name[node]=str(node)\n",
    "\n",
    "\n",
    "nx.draw_networkx_labels(address_graph,pos,node_name,font_size=16)\n",
    "\n",
    "plt.axis('off')\n",
    "plt.show() # display\n"
   ]
  },
  {
   "cell_type": "markdown",
   "metadata": {},
   "source": [
    "<h3>Yikes! Unreadable!</h3>\n",
    "<li>Let's see what the edge weights are</li>"
   ]
  },
  {
   "cell_type": "code",
   "execution_count": 18,
   "metadata": {},
   "outputs": [],
   "source": [
    "for edge in address_graph.edges():\n",
    "    print(edge,address_graph.get_edge_data(*edge))"
   ]
  },
  {
   "cell_type": "markdown",
   "metadata": {},
   "source": [
    "<h4>Let's make this readable</h4>"
   ]
  },
  {
   "cell_type": "code",
   "execution_count": 19,
   "metadata": {},
   "outputs": [],
   "source": [
    "for edge in address_graph.edges():\n",
    "    duration = address_graph.get_edge_data(*edge)['d']\n",
    "    address_graph.get_edge_data(*edge)['d'] = int(duration/60)\n",
    "    print(address_graph.get_edge_data(*edge))"
   ]
  },
  {
   "cell_type": "markdown",
   "metadata": {},
   "source": [
    "<h4>Now let's look a the graph</h4>"
   ]
  },
  {
   "cell_type": "code",
   "execution_count": 20,
   "metadata": {},
   "outputs": [
    {
     "name": "stderr",
     "output_type": "stream",
     "text": [
      "C:\\ProgramData\\Anaconda3\\lib\\site-packages\\matplotlib\\figure.py:459: UserWarning: matplotlib is currently using a non-GUI backend, so cannot show the figure\n",
      "  \"matplotlib is currently using a non-GUI backend, \"\n"
     ]
    },
    {
     "data": {
      "image/png": "[encoded data removed]",
      "text/plain": [
       "<Figure size 864x864 with 1 Axes>"
      ]
     },
     "metadata": {},
     "output_type": "display_data"
    }
   ],
   "source": [
    "pos=nx.circular_layout(address_graph) # positions for all nodes\n",
    "fig=plt.figure(1,figsize=(12,12)) #Let's draw a big graph so that it is clearer\n",
    "# nodes\n",
    "nx.draw_networkx_nodes(address_graph,pos,\n",
    "                       node_color='r',\n",
    "                       node_size=2000,\n",
    "                      alpha=0.001)\n",
    "\n",
    "# edges\n",
    "\n",
    "nx.draw_networkx_edges(address_graph,pos,edgelist=address_graph.edges(),width=8,alpha=0.5,edge_color='b')\n",
    "\n",
    "nx.draw_networkx_edge_labels(address_graph,pos,font_size=10)\n",
    "node_name={}\n",
    "for node in address_graph.nodes():\n",
    "    node_name[node]=str(node)\n",
    "\n",
    "\n",
    "nx.draw_networkx_labels(address_graph,pos,node_name,font_size=16)\n",
    "#fig.axis('off')\n",
    "fig.show() # display"
   ]
  },
  {
   "cell_type": "code",
   "execution_count": 21,
   "metadata": {},
   "outputs": [
    {
     "ename": "NameError",
     "evalue": "name 'addresses' is not defined",
     "output_type": "error",
     "traceback": [
      "\u001b[1;31m---------------------------------------------------------------------------\u001b[0m",
      "\u001b[1;31mNameError\u001b[0m                                 Traceback (most recent call last)",
      "\u001b[1;32m<ipython-input-21-748befaffd96>\u001b[0m in \u001b[0;36m<module>\u001b[1;34m()\u001b[0m\n\u001b[0;32m     25\u001b[0m             \u001b[0maddress_graph\u001b[0m\u001b[1;33m.\u001b[0m\u001b[0madd_edge\u001b[0m\u001b[1;33m(\u001b[0m\u001b[0morigin\u001b[0m\u001b[1;33m,\u001b[0m\u001b[0mdestination\u001b[0m\u001b[1;33m,\u001b[0m\u001b[0md\u001b[0m\u001b[1;33m=\u001b[0m\u001b[0mint\u001b[0m\u001b[1;33m(\u001b[0m\u001b[0mduration\u001b[0m\u001b[1;33m/\u001b[0m\u001b[1;36m60\u001b[0m\u001b[1;33m)\u001b[0m\u001b[1;33m)\u001b[0m\u001b[1;33m\u001b[0m\u001b[0m\n\u001b[0;32m     26\u001b[0m     \u001b[1;32mreturn\u001b[0m \u001b[0maddress_graph\u001b[0m\u001b[1;33m\u001b[0m\u001b[0m\n\u001b[1;32m---> 27\u001b[1;33m \u001b[0maddress_graph\u001b[0m \u001b[1;33m=\u001b[0m \u001b[0mget_route_graph\u001b[0m\u001b[1;33m(\u001b[0m\u001b[0maddresses\u001b[0m\u001b[1;33m)\u001b[0m\u001b[1;33m\u001b[0m\u001b[0m\n\u001b[0m",
      "\u001b[1;31mNameError\u001b[0m: name 'addresses' is not defined"
     ]
    }
   ],
   "source": [
    "def get_route_graph(address_list,mode='walking'):\n",
    "    latlons=''\n",
    "    for address in addresses:\n",
    "        latlon=get_lat_lon(address)\n",
    "        latlons += latlon + '|'\n",
    "    distance_url = 'https://maps.googleapis.com/maps/api/distancematrix/json?origins='\n",
    "    distance_url+=latlons\n",
    "    distance_url+='&destinations='\n",
    "    distance_url+=latlons\n",
    "    #Set the mode walking, driving, cycling\n",
    "    mode='driving'\n",
    "    distance_url+='&mode='+mode\n",
    "    import requests\n",
    "    data=requests.get(distance_url).json()\n",
    "    all_rows = data['rows']\n",
    "    address_graph = nx.Graph()\n",
    "    address_graph.add_nodes_from(addresses)\n",
    "    for i in range(len(all_rows)):\n",
    "        origin = addresses[i]\n",
    "        for j in range(len(all_rows[i]['elements'])):\n",
    "            if i==j:\n",
    "                continue\n",
    "            duration = all_rows[i]['elements'][j]['duration']['value']\n",
    "            destination = addresses[j]\n",
    "            address_graph.add_edge(origin,destination,d=int(duration/60))\n",
    "    return address_graph\n",
    "address_graph = get_route_graph(addresses)"
   ]
  },
  {
   "cell_type": "markdown",
   "metadata": {},
   "source": [
    "<h4>Let's remove a few edges (randomly)</h4>"
   ]
  },
  {
   "cell_type": "code",
   "execution_count": 22,
   "metadata": {},
   "outputs": [],
   "source": [
    "for edge in address_graph.edges():\n",
    "    import random\n",
    "    r = random.random()\n",
    "    if r <0.75: #get rid of 60% of the edges\n",
    "        address_graph.remove_edge(*edge)\n"
   ]
  },
  {
   "cell_type": "markdown",
   "metadata": {},
   "source": [
    "<h4>And draw it again</h4>"
   ]
  },
  {
   "cell_type": "code",
   "execution_count": 23,
   "metadata": {},
   "outputs": [
    {
     "name": "stderr",
     "output_type": "stream",
     "text": [
      "C:\\ProgramData\\Anaconda3\\lib\\site-packages\\matplotlib\\figure.py:459: UserWarning: matplotlib is currently using a non-GUI backend, so cannot show the figure\n",
      "  \"matplotlib is currently using a non-GUI backend, \"\n"
     ]
    },
    {
     "data": {
      "image/png": "[encoded data removed]",
      "text/plain": [
       "<Figure size 864x864 with 1 Axes>"
      ]
     },
     "metadata": {},
     "output_type": "display_data"
    }
   ],
   "source": [
    "pos=nx.circular_layout(address_graph) # positions for all nodes\n",
    "plt.figure(1,figsize=(12,12)) #Let's draw a big graph so that it is clearer\n",
    "# nodes\n",
    "nx.draw_networkx_nodes(address_graph,pos,\n",
    "                       node_color='r',\n",
    "                       node_size=2000,\n",
    "                      alpha=0.001)\n",
    "\n",
    "# edges\n",
    "\n",
    "nx.draw_networkx_edges(address_graph,pos,edgelist=address_graph.edges(),width=8,alpha=0.5,edge_color='b')\n",
    "\n",
    "nx.draw_networkx_edge_labels(address_graph,pos,font_size=7)\n",
    "node_name={}\n",
    "for node in address_graph.nodes():\n",
    "    node_name[node]=str(node)\n",
    "\n",
    "\n",
    "nx.draw_networkx_labels(address_graph,pos,node_name,font_size=16)\n",
    "#fig.axis('off')\n",
    "fig.show() # display"
   ]
  },
  {
   "cell_type": "code",
   "execution_count": 24,
   "metadata": {},
   "outputs": [
    {
     "ename": "NameError",
     "evalue": "name 'addresses' is not defined",
     "output_type": "error",
     "traceback": [
      "\u001b[1;31m---------------------------------------------------------------------------\u001b[0m",
      "\u001b[1;31mNameError\u001b[0m                                 Traceback (most recent call last)",
      "\u001b[1;32m<ipython-input-24-253c22758e39>\u001b[0m in \u001b[0;36m<module>\u001b[1;34m()\u001b[0m\n\u001b[1;32m----> 1\u001b[1;33m \u001b[0mprint\u001b[0m\u001b[1;33m(\u001b[0m\u001b[0maddresses\u001b[0m\u001b[1;33m)\u001b[0m\u001b[1;33m\u001b[0m\u001b[0m\n\u001b[0m",
      "\u001b[1;31mNameError\u001b[0m: name 'addresses' is not defined"
     ]
    }
   ],
   "source": [
    "print(addresses)"
   ]
  },
  {
   "cell_type": "markdown",
   "metadata": {},
   "source": [
    "<h4>Shortest path and shortest duration</h4>"
   ]
  },
  {
   "cell_type": "code",
   "execution_count": 25,
   "metadata": {},
   "outputs": [
    {
     "ename": "NodeNotFound",
     "evalue": "Either source Amity Hall Uptown, Amsterdam Avenue, New York, NY or target Chaiwali, Lenox Avenue, New York, NY is not in G",
     "output_type": "error",
     "traceback": [
      "\u001b[1;31m---------------------------------------------------------------------------\u001b[0m",
      "\u001b[1;31mNodeNotFound\u001b[0m                              Traceback (most recent call last)",
      "\u001b[1;32m<ipython-input-25-00910f91062d>\u001b[0m in \u001b[0;36m<module>\u001b[1;34m()\u001b[0m\n\u001b[1;32m----> 1\u001b[1;33m \u001b[0mprint\u001b[0m\u001b[1;33m(\u001b[0m\u001b[0mnx\u001b[0m\u001b[1;33m.\u001b[0m\u001b[0mshortest_path\u001b[0m\u001b[1;33m(\u001b[0m\u001b[0maddress_graph\u001b[0m\u001b[1;33m,\u001b[0m\u001b[1;34m'Amity Hall Uptown, Amsterdam Avenue, New York, NY'\u001b[0m\u001b[1;33m,\u001b[0m \u001b[1;34m'Chaiwali, Lenox Avenue, New York, NY'\u001b[0m\u001b[1;33m)\u001b[0m\u001b[1;33m)\u001b[0m\u001b[1;33m\u001b[0m\u001b[0m\n\u001b[0m\u001b[0;32m      2\u001b[0m \u001b[0mprint\u001b[0m\u001b[1;33m(\u001b[0m\u001b[0mnx\u001b[0m\u001b[1;33m.\u001b[0m\u001b[0mdijkstra_path\u001b[0m\u001b[1;33m(\u001b[0m\u001b[0maddress_graph\u001b[0m\u001b[1;33m,\u001b[0m\u001b[1;34m'Amity Hall Uptown, Amsterdam Avenue, New York, NY'\u001b[0m\u001b[1;33m,\u001b[0m \u001b[1;34m'Chaiwali, Lenox Avenue, New York, NY'\u001b[0m\u001b[1;33m)\u001b[0m\u001b[1;33m)\u001b[0m\u001b[1;33m\u001b[0m\u001b[0m\n\u001b[0;32m      3\u001b[0m \u001b[0mprint\u001b[0m\u001b[1;33m(\u001b[0m\u001b[0mnx\u001b[0m\u001b[1;33m.\u001b[0m\u001b[0mdijkstra_path_length\u001b[0m \u001b[1;33m(\u001b[0m\u001b[0maddress_graph\u001b[0m\u001b[1;33m,\u001b[0m\u001b[1;34m'Amity Hall Uptown, Amsterdam Avenue, New York, NY'\u001b[0m\u001b[1;33m,\u001b[0m \u001b[1;34m'Chaiwali, Lenox Avenue, New York, NY'\u001b[0m\u001b[1;33m,\u001b[0m\u001b[0mweight\u001b[0m\u001b[1;33m=\u001b[0m\u001b[1;34m'd'\u001b[0m\u001b[1;33m)\u001b[0m\u001b[1;33m)\u001b[0m\u001b[1;33m\u001b[0m\u001b[0m\n",
      "\u001b[1;32mC:\\ProgramData\\Anaconda3\\lib\\site-packages\\networkx\\algorithms\\shortest_paths\\generic.py\u001b[0m in \u001b[0;36mshortest_path\u001b[1;34m(G, source, target, weight)\u001b[0m\n\u001b[0;32m    140\u001b[0m             \u001b[1;31m# Find shortest source-target path.\u001b[0m\u001b[1;33m\u001b[0m\u001b[1;33m\u001b[0m\u001b[0m\n\u001b[0;32m    141\u001b[0m             \u001b[1;32mif\u001b[0m \u001b[0mweight\u001b[0m \u001b[1;32mis\u001b[0m \u001b[1;32mNone\u001b[0m\u001b[1;33m:\u001b[0m\u001b[1;33m\u001b[0m\u001b[0m\n\u001b[1;32m--> 142\u001b[1;33m                 \u001b[0mpaths\u001b[0m \u001b[1;33m=\u001b[0m \u001b[0mnx\u001b[0m\u001b[1;33m.\u001b[0m\u001b[0mbidirectional_shortest_path\u001b[0m\u001b[1;33m(\u001b[0m\u001b[0mG\u001b[0m\u001b[1;33m,\u001b[0m \u001b[0msource\u001b[0m\u001b[1;33m,\u001b[0m \u001b[0mtarget\u001b[0m\u001b[1;33m)\u001b[0m\u001b[1;33m\u001b[0m\u001b[0m\n\u001b[0m\u001b[0;32m    143\u001b[0m             \u001b[1;32melse\u001b[0m\u001b[1;33m:\u001b[0m\u001b[1;33m\u001b[0m\u001b[0m\n\u001b[0;32m    144\u001b[0m                 \u001b[0mpaths\u001b[0m \u001b[1;33m=\u001b[0m \u001b[0mnx\u001b[0m\u001b[1;33m.\u001b[0m\u001b[0mdijkstra_path\u001b[0m\u001b[1;33m(\u001b[0m\u001b[0mG\u001b[0m\u001b[1;33m,\u001b[0m \u001b[0msource\u001b[0m\u001b[1;33m,\u001b[0m \u001b[0mtarget\u001b[0m\u001b[1;33m,\u001b[0m \u001b[0mweight\u001b[0m\u001b[1;33m)\u001b[0m\u001b[1;33m\u001b[0m\u001b[0m\n",
      "\u001b[1;32mC:\\ProgramData\\Anaconda3\\lib\\site-packages\\networkx\\algorithms\\shortest_paths\\unweighted.py\u001b[0m in \u001b[0;36mbidirectional_shortest_path\u001b[1;34m(G, source, target)\u001b[0m\n\u001b[0;32m    221\u001b[0m     \u001b[1;32mif\u001b[0m \u001b[0msource\u001b[0m \u001b[1;32mnot\u001b[0m \u001b[1;32min\u001b[0m \u001b[0mG\u001b[0m \u001b[1;32mor\u001b[0m \u001b[0mtarget\u001b[0m \u001b[1;32mnot\u001b[0m \u001b[1;32min\u001b[0m \u001b[0mG\u001b[0m\u001b[1;33m:\u001b[0m\u001b[1;33m\u001b[0m\u001b[0m\n\u001b[0;32m    222\u001b[0m         \u001b[0mmsg\u001b[0m \u001b[1;33m=\u001b[0m \u001b[1;34m'Either source {} or target {} is not in G'\u001b[0m\u001b[1;33m\u001b[0m\u001b[0m\n\u001b[1;32m--> 223\u001b[1;33m         \u001b[1;32mraise\u001b[0m \u001b[0mnx\u001b[0m\u001b[1;33m.\u001b[0m\u001b[0mNodeNotFound\u001b[0m\u001b[1;33m(\u001b[0m\u001b[0mmsg\u001b[0m\u001b[1;33m.\u001b[0m\u001b[0mformat\u001b[0m\u001b[1;33m(\u001b[0m\u001b[0msource\u001b[0m\u001b[1;33m,\u001b[0m \u001b[0mtarget\u001b[0m\u001b[1;33m)\u001b[0m\u001b[1;33m)\u001b[0m\u001b[1;33m\u001b[0m\u001b[0m\n\u001b[0m\u001b[0;32m    224\u001b[0m \u001b[1;33m\u001b[0m\u001b[0m\n\u001b[0;32m    225\u001b[0m     \u001b[1;31m# call helper to do the real work\u001b[0m\u001b[1;33m\u001b[0m\u001b[1;33m\u001b[0m\u001b[0m\n",
      "\u001b[1;31mNodeNotFound\u001b[0m: Either source Amity Hall Uptown, Amsterdam Avenue, New York, NY or target Chaiwali, Lenox Avenue, New York, NY is not in G"
     ]
    }
   ],
   "source": [
    "print(nx.shortest_path(address_graph,'Amity Hall Uptown, Amsterdam Avenue, New York, NY', 'Chaiwali, Lenox Avenue, New York, NY'))\n",
    "print(nx.dijkstra_path(address_graph,'Amity Hall Uptown, Amsterdam Avenue, New York, NY', 'Chaiwali, Lenox Avenue, New York, NY'))\n",
    "print(nx.dijkstra_path_length (address_graph,'Amity Hall Uptown, Amsterdam Avenue, New York, NY', 'Chaiwali, Lenox Avenue, New York, NY',weight='d'))\n"
   ]
  },
  {
   "cell_type": "code",
   "execution_count": 26,
   "metadata": {},
   "outputs": [
    {
     "data": {
      "text/plain": [
       "[]"
      ]
     },
     "execution_count": 26,
     "metadata": {},
     "output_type": "execute_result"
    }
   ],
   "source": [
    "#[print(n1,n2,nx.shortest_path_length(n1,n2),nx.dijkstra_path_length(n1,n2,weight='d')) for n1 in address_graph.nodes() for n2 in address_graph.nodes()]\n",
    "[print(n1,n2,\n",
    "       nx.shortest_path_length(address_graph,n1,n2),\n",
    "       nx.dijkstra_path_length(address_graph,n1,n2,weight='d'),\n",
    "      ) for n1 in address_graph.nodes() for n2 in address_graph.nodes() if not n1 == n2]"
   ]
  },
  {
   "cell_type": "code",
   "execution_count": 27,
   "metadata": {},
   "outputs": [],
   "source": [
    "for edge in address_graph.edges():\n",
    "    print(edge,address_graph.get_edge_data(*edge))"
   ]
  },
  {
   "cell_type": "markdown",
   "metadata": {},
   "source": [
    "<h2>Graph drawing options</h2>\n",
    "<li>nltk uses matplotlib to draw graphs\n",
    "<li>limited, but useful, functionalities\n",
    "<h3>Let's take a look!</h3>"
   ]
  },
  {
   "cell_type": "markdown",
   "metadata": {},
   "source": [
    "<b>Differnetiating edges by weight</b>"
   ]
  },
  {
   "cell_type": "code",
   "execution_count": null,
   "metadata": {},
   "outputs": [],
   "source": [
    "#Divide edges into two groups based on weight\n",
    "#Easily extendable to n-groups\n",
    "\n",
    "elarge=[(u,v) for (u,v,d) in address_graph.edges(data=True) if d['d'] >5]\n",
    "esmall=[(u,v) for (u,v,d) in address_graph.edges(data=True) if d['d'] <=5]\n",
    "\n",
    "pos=nx.spring_layout(address_graph) # positions for all nodes\n",
    "plt.figure(1,figsize=(12,12)) #Let's draw a big graph so that it is clearer\n",
    "\n",
    "# nodes\n",
    "nx.draw_networkx_nodes(address_graph,pos,node_size=700)\n",
    "\n",
    "# edges. draw the larger weight edges in solid lines and smaller weight edges in dashed lines\n",
    "nx.draw_networkx_edges(address_graph,pos,edgelist=elarge,\n",
    "                    width=6)\n",
    "nx.draw_networkx_edges(address_graph,pos,edgelist=esmall,\n",
    "                    width=6,alpha=0.5,edge_color='b',style='dashed')\n",
    "\n",
    "# labels\n",
    "nx.draw_networkx_labels(address_graph,pos,font_size=20,font_family='sans-serif')\n",
    "\n",
    "nx.draw_networkx_edge_labels(address_graph,pos,font_size=7)\n",
    "\n",
    "plt.axis('off')\n",
    "#plt.savefig(\"address_graph.png\") # save as png if you need to use it in a report or web app\n",
    "fig.show() # display\n",
    "\n"
   ]
  },
  {
   "cell_type": "markdown",
   "metadata": {},
   "source": [
    "<h4>highlight the shortest path</h4>\n"
   ]
  },
  {
   "cell_type": "code",
   "execution_count": null,
   "metadata": {},
   "outputs": [],
   "source": [
    "origin = 'Amity Hall Uptown, Amsterdam Avenue, New York, NY'\n",
    "destination = 'Chaiwali, Lenox Avenue, New York, NY'\n",
    "shortest_path = nx.dijkstra_path(address_graph,origin,destination)\n",
    "shortest_path_edges = list()\n",
    "for i in range(len(shortest_path)-1):\n",
    "    shortest_path_edges.append((shortest_path[i],shortest_path[i+1]))\n",
    "    shortest_path_edges.append((shortest_path[i+1],shortest_path[i]))\n",
    "    \n",
    "path_edges=list()\n",
    "other_edges=list()\n",
    "node_label_list = dict()\n",
    "node_label_list = {n:'' for n in address_graph.nodes()}\n",
    "for edge in address_graph.edges():\n",
    "    if edge in shortest_path_edges:\n",
    "        path_edges.append(edge)\n",
    "        node_label_list[edge[0]] = edge[0]\n",
    "        node_label_list[edge[1]] = edge[1]\n",
    "    else:\n",
    "        other_edges.append(edge)\n",
    "\n",
    "pos=nx.spring_layout(address_graph) # positions for all nodes\n",
    "fig=plt.figure(1,figsize=(12,12))\n",
    "# nodes\n",
    "nx.draw_networkx_nodes(address_graph,pos,node_size=700)\n",
    "\n",
    "# edges. draw the larger weight edges in solid lines and smaller weight edges in dashed lines\n",
    "nx.draw_networkx_edges(address_graph,pos,edgelist=path_edges,\n",
    "                    width=6)\n",
    "nx.draw_networkx_edges(address_graph,pos,edgelist=other_edges,\n",
    "                    width=6,alpha=0.5,edge_color='b',style='dashed')\n",
    "\n",
    "# labels\n",
    "\n",
    "nx.draw_networkx_labels(address_graph,pos,font_size=20,font_family='sans-serif',labels=node_label_list)\n",
    "nx.draw_networkx_edge_labels(address_graph,pos,font_size=7)\n",
    "\n",
    "plt.axis('off')\n",
    "#plt.savefig(\"address_graph.png\") # save as png if you need to use it in a report or web app\n",
    "plt.show() # display\n"
   ]
  },
  {
   "cell_type": "markdown",
   "metadata": {},
   "source": [
    "<b>Question</b> How would you remove edge labels from all but the shortest path?"
   ]
  },
  {
   "cell_type": "markdown",
   "metadata": {},
   "source": [
    "<h4>Working with a network</h4>\n"
   ]
  },
  {
   "cell_type": "markdown",
   "metadata": {},
   "source": [
    "<b>Given an address, generate a <i>sorted by distance</i> list of all other addresses"
   ]
  },
  {
   "cell_type": "code",
   "execution_count": null,
   "metadata": {},
   "outputs": [],
   "source": [
    "location = 'Amity Hall Uptown, Amsterdam Avenue, New York, NY'\n",
    "distance_list = list()\n",
    "for node in address_graph.nodes():\n",
    "    if node == location:\n",
    "        continue\n",
    "    distance = nx.dijkstra_path_length(address_graph,location,node)\n",
    "    distance_list.append((node,distance))\n",
    "from operator import itemgetter\n",
    "print(sorted(distance_list,key=itemgetter(1)))"
   ]
  },
  {
   "cell_type": "markdown",
   "metadata": {},
   "source": [
    "<b>Get all paths from one location  to another</b>"
   ]
  },
  {
   "cell_type": "code",
   "execution_count": null,
   "metadata": {},
   "outputs": [],
   "source": [
    "list(nx.all_simple_paths(address_graph,'Amity Hall Uptown, Amsterdam Avenue, New York, NY','Chaiwali, Lenox Avenue, New York, NY'))"
   ]
  },
  {
   "cell_type": "code",
   "execution_count": null,
   "metadata": {},
   "outputs": [],
   "source": [
    "nx.all_simple_paths(address_graph,\n",
    "                    'Amity Hall Uptown, Amsterdam Avenue, New York, NY',\n",
    "                    'Chaiwali, Lenox Avenue, New York, NY')"
   ]
  },
  {
   "cell_type": "markdown",
   "metadata": {},
   "source": [
    "<h2>Social networks</h2><br>\n",
    "We will use the <a href=\"https://www.yelp.com/dataset_challenge\">Yelp database challenge</a><br>\n",
    "Data on:\n",
    "    users,\n",
    "    businesses,\n",
    "    reviews,\n",
    "    tips (try the mushroom burger!),\n",
    "    check-in (special offers from yelp)"
   ]
  },
  {
   "cell_type": "markdown",
   "metadata": {},
   "source": [
    "<h3>We're use the data in the users file (yelp_academic_dataset_user.json)</h3>"
   ]
  },
  {
   "cell_type": "raw",
   "metadata": {},
   "source": [
    "{\n",
    "    'type': 'user',\n",
    "    'user_id': (encrypted user id),\n",
    "    'name': (first name),\n",
    "    'review_count': (review count),\n",
    "    'average_stars': (floating point average, like 4.31),\n",
    "    'votes': {(vote type): (count)},\n",
    "    'friends': [(friend user_ids)],\n",
    "    'elite': [(years_elite)],\n",
    "    'yelping_since': (date, formatted like '2012-03'),\n",
    "    'compliments': {\n",
    "        (compliment_type): (num_compliments_of_this_type),\n",
    "        ...\n",
    "    },\n",
    "    'fans': (num_fans),\n",
    "}"
   ]
  },
  {
   "cell_type": "markdown",
   "metadata": {},
   "source": [
    "<h4>Read the data from the data file and create several list variables to hold the data</h4>\n",
    "<li>You could also use objects to store the data </li>"
   ]
  },
  {
   "cell_type": "code",
   "execution_count": null,
   "metadata": {},
   "outputs": [],
   "source": [
    "import json\n",
    "import datetime\n",
    "datafile='yelp_academic_dataset_user.json'\n",
    "user_id_count = 1\n",
    "user_id_dict = dict()\n",
    "with open(datafile,'r') as f:\n",
    "    for line in f:\n",
    "        data = json.loads(line)\n",
    "        user_id = data.get('user_id')\n",
    "        friends = data.get('friends')\n",
    "        try:\n",
    "            user_id_dict[user_id]\n",
    "        except:\n",
    "            user_id_dict[user_id] = user_id_count\n",
    "            user_id_count+=1\n",
    "\n",
    "user_data=list()\n",
    "friends_data=list()\n",
    "with open(datafile,'r') as f:\n",
    "    count=0\n",
    "    for line in f:\n",
    "        data=json.loads(line)\n",
    "        user_id=user_id_dict[data.get('user_id')]\n",
    "        name=data.get('name')\n",
    "        review_count=data.get('review_count')\n",
    "        average_stars=data.get('average_stars') \n",
    "        yelping_since=datetime.datetime.strptime(data.get('yelping_since'),\"%Y-%m\").date()\n",
    "        fans=data.get('fans')\n",
    "        user_friends=data.get('friends')\n",
    "        for i in range(len(user_friends)):\n",
    "            user_friends[i] = user_id_dict[user_friends[i]]\n",
    "        user_data.append([user_id,name,review_count,average_stars,yelping_since,fans])\n",
    "        friends_data.append([user_id,user_friends])\n",
    "        count+=1\n",
    "print(count)\n"
   ]
  },
  {
   "cell_type": "code",
   "execution_count": null,
   "metadata": {},
   "outputs": [],
   "source": [
    "friends_data[0:10]"
   ]
  },
  {
   "cell_type": "markdown",
   "metadata": {},
   "source": [
    "<h2>Too much data for this class so let's cut it down</h2>"
   ]
  },
  {
   "cell_type": "code",
   "execution_count": null,
   "metadata": {
    "collapsed": true
   },
   "outputs": [],
   "source": [
    "#Select a random(ish) list of nodes \n",
    "friends_of_list = [1,5,15,100,2200,3700,13500,23800,45901,78643,112112,198034,267123,298078,301200,353216]\n",
    "node_super_set = set(friends_of_list)\n",
    "#Get a superset of these nodes - the friends they are connected to\n",
    "for n in friends_of_list:\n",
    "    friends = friends_data[n-1][1]\n",
    "    node_super_set = node_super_set.union({f for f in friends})\n",
    "node_super_list = list(node_super_set)\n",
    "#Collect node data and edges for these nodes\n",
    "node_data = dict()\n",
    "edge_list = list()\n",
    "for node in node_super_list:\n",
    "    node_data[node]=user_data[node-1]\n",
    "    friends = friends_data[node-1][1]\n",
    "    edges = [(node,e) for e in friends if e in node_super_list]\n",
    "    edge_list.extend(edges)"
   ]
  },
  {
   "cell_type": "code",
   "execution_count": null,
   "metadata": {},
   "outputs": [],
   "source": [
    "print(len(edge_list),len(node_super_list),len(node_data))\n"
   ]
  },
  {
   "cell_type": "code",
   "execution_count": null,
   "metadata": {
    "collapsed": true
   },
   "outputs": [],
   "source": [
    "for e in edge_list:\n",
    "    if e[0] in node_super_list:\n",
    "        continue\n",
    "    if e[1] in node_super_list:\n",
    "        continue\n",
    "    print(e[0],e[1])"
   ]
  },
  {
   "cell_type": "markdown",
   "metadata": {},
   "source": [
    "<h3>Make the graph</h3>"
   ]
  },
  {
   "cell_type": "code",
   "execution_count": null,
   "metadata": {
    "collapsed": true
   },
   "outputs": [],
   "source": [
    "import networkx as nx"
   ]
  },
  {
   "cell_type": "code",
   "execution_count": null,
   "metadata": {},
   "outputs": [],
   "source": [
    "friend_graph=nx.Graph()\n",
    "friend_graph.add_nodes_from(node_super_list)\n",
    "friend_graph.add_edges_from(edge_list)\n",
    "print(friend_graph.number_of_nodes(),friend_graph.number_of_edges())"
   ]
  },
  {
   "cell_type": "code",
   "execution_count": null,
   "metadata": {},
   "outputs": [],
   "source": [
    "#Querying the graph\n",
    "len(friend_graph.neighbors(1))"
   ]
  },
  {
   "cell_type": "code",
   "execution_count": null,
   "metadata": {},
   "outputs": [],
   "source": [
    "nx.draw(friend_graph)"
   ]
  },
  {
   "cell_type": "markdown",
   "metadata": {},
   "source": [
    "<h4>Let's remove disconnected nodes</h4>\n"
   ]
  },
  {
   "cell_type": "code",
   "execution_count": null,
   "metadata": {},
   "outputs": [],
   "source": [
    "count = 0\n",
    "for n in friend_graph.nodes_iter():\n",
    "    if friend_graph.degree(n) == 1:\n",
    "        print(n)"
   ]
  },
  {
   "cell_type": "code",
   "execution_count": null,
   "metadata": {},
   "outputs": [],
   "source": [
    "nodes = friend_graph.nodes()\n",
    "for node in nodes:\n",
    "    if friend_graph.degree(node) == 0:\n",
    "        friend_graph.remove_node(node)"
   ]
  },
  {
   "cell_type": "code",
   "execution_count": null,
   "metadata": {},
   "outputs": [],
   "source": [
    "pos=nx.spring_layout(friend_graph) # positions for all nodes\n",
    "fig = plt.figure(1,figsize=(12,12))\n",
    "#pos\n",
    "# nodes\n",
    "nx.draw_networkx_nodes(friend_graph,pos,\n",
    "                       node_color='r',\n",
    "                       node_size=500,\n",
    "                       alpha=0.8)\n",
    "\n",
    "# edges\n",
    "nx.draw_networkx_edges(friend_graph,pos,width=1.0,alpha=0.5)\n",
    "nx.draw_networkx_edges(friend_graph,pos,\n",
    "                       width=8,alpha=0.5,edge_color='b')\n",
    "\n",
    "node_name={}\n",
    "for node in friend_graph.nodes():\n",
    "    node_name[node]=str(node)\n",
    "\n",
    "nx.draw_networkx_labels(friend_graph,pos,node_name,font_size=16)\n",
    "\n",
    "fig.show()"
   ]
  },
  {
   "cell_type": "markdown",
   "metadata": {},
   "source": [
    "<h3>Start looking at different aspects of the graph</h3>"
   ]
  },
  {
   "cell_type": "code",
   "execution_count": null,
   "metadata": {},
   "outputs": [],
   "source": [
    "nx.shortest_path(friend_graph,100219,19671)"
   ]
  },
  {
   "cell_type": "code",
   "execution_count": null,
   "metadata": {},
   "outputs": [],
   "source": [
    "nx.shortest_path_length(friend_graph,167099,47622)"
   ]
  },
  {
   "cell_type": "markdown",
   "metadata": {},
   "source": [
    "<h3>Graph components</h3>"
   ]
  },
  {
   "cell_type": "markdown",
   "metadata": {},
   "source": [
    "<li>Let's see the number of connected components\n",
    "<li>And then each connected component"
   ]
  },
  {
   "cell_type": "code",
   "execution_count": null,
   "metadata": {},
   "outputs": [],
   "source": [
    "print(len(list(nx.connected_components(friend_graph))))"
   ]
  },
  {
   "cell_type": "code",
   "execution_count": null,
   "metadata": {},
   "outputs": [],
   "source": [
    "for comp in nx.connected_components(friend_graph):\n",
    "    print(comp)"
   ]
  },
  {
   "cell_type": "markdown",
   "metadata": {},
   "source": [
    "<h4>Largest connected component subgraph</h4>"
   ]
  },
  {
   "cell_type": "code",
   "execution_count": null,
   "metadata": {},
   "outputs": [],
   "source": [
    "largest_size=0\n",
    "largest_graph = None\n",
    "for g in nx.connected_component_subgraphs(friend_graph):\n",
    "    if len(g) > largest_size:\n",
    "        largest_size = len(g)\n",
    "        largest_graph = g\n",
    "nx.draw(largest_graph)"
   ]
  },
  {
   "cell_type": "markdown",
   "metadata": {},
   "source": [
    "<h4>Smallest connected component</h4>"
   ]
  },
  {
   "cell_type": "code",
   "execution_count": null,
   "metadata": {},
   "outputs": [],
   "source": [
    "smallest_size=100000\n",
    "smallest_graph = None\n",
    "for g in nx.connected_component_subgraphs(friend_graph):\n",
    "    if len(g) < smallest_size:\n",
    "        smallest_size = len(g)\n",
    "        smallest_graph = g\n",
    "nx.draw(smallest_graph)"
   ]
  },
  {
   "cell_type": "code",
   "execution_count": null,
   "metadata": {},
   "outputs": [],
   "source": [
    "#Find out node degrees in the graph\n",
    "nx.degree(friend_graph)"
   ]
  },
  {
   "cell_type": "markdown",
   "metadata": {},
   "source": [
    "<h4>Max degree. The yelp user with the most friends</h4>"
   ]
  },
  {
   "cell_type": "code",
   "execution_count": null,
   "metadata": {},
   "outputs": [],
   "source": [
    "#Highest degree\n",
    "print(max(nx.degree(friend_graph).values()))\n",
    "\n",
    "\n",
    "#Node with highest degree value\n",
    "degrees = nx.degree(friend_graph)\n",
    "print(max(degrees,key=degrees.get))\n"
   ]
  },
  {
   "cell_type": "markdown",
   "metadata": {},
   "source": [
    "<h2>Network analysis algorithms</h2>\n",
    "https://networkx.github.io/documentation/networkx-1.10/reference/algorithms.html"
   ]
  },
  {
   "cell_type": "markdown",
   "metadata": {},
   "source": [
    "<h3>Clustering</h3>\n",
    "Clustering is a measure of how closely knit the nodes in a graph are. We can measure the degree to which a node belongs to a cluster and the degree to which the graph is clustered\n",
    "- Node clustering coefficient: A measure that shows the degree to which a node belongs to a cluster\n",
    "- Graph clustering coefficient: A measure that shows the degree to which a graph is clustered"
   ]
  },
  {
   "cell_type": "code",
   "execution_count": null,
   "metadata": {},
   "outputs": [],
   "source": [
    "pos=nx.spring_layout(friend_graph) # positions for all nodes\n",
    "fig = plt.figure(1,figsize=(12,12))\n",
    "#pos\n",
    "# nodes\n",
    "nx.draw_networkx_nodes(friend_graph,pos,\n",
    "                       node_color='r',\n",
    "                       node_size=500,\n",
    "                       alpha=0.8)\n",
    "\n",
    "# edges\n",
    "nx.draw_networkx_edges(friend_graph,pos,width=1.0,alpha=0.5)\n",
    "nx.draw_networkx_edges(friend_graph,pos,\n",
    "                       edgelist=edges,\n",
    "                       width=8,alpha=0.5,edge_color='b')\n",
    "\n",
    "node_name={}\n",
    "for node in friend_graph.nodes():\n",
    "    node_name[node]=str(node)\n",
    "\n",
    "nx.draw_networkx_labels(friend_graph,pos,node_name,font_size=16)\n",
    "\n",
    "fig.show()"
   ]
  },
  {
   "cell_type": "code",
   "execution_count": null,
   "metadata": {},
   "outputs": [],
   "source": [
    "nx.clustering(friend_graph)"
   ]
  },
  {
   "cell_type": "code",
   "execution_count": null,
   "metadata": {},
   "outputs": [],
   "source": [
    "nx.average_clustering(friend_graph)"
   ]
  },
  {
   "cell_type": "code",
   "execution_count": null,
   "metadata": {},
   "outputs": [],
   "source": [
    "G=nx.complete_graph(4)\n",
    "nx.draw(G)\n"
   ]
  },
  {
   "cell_type": "code",
   "execution_count": null,
   "metadata": {
    "collapsed": true
   },
   "outputs": [],
   "source": []
  },
  {
   "cell_type": "code",
   "execution_count": null,
   "metadata": {
    "collapsed": true
   },
   "outputs": [],
   "source": []
  },
  {
   "cell_type": "code",
   "execution_count": null,
   "metadata": {
    "collapsed": true
   },
   "outputs": [],
   "source": []
  },
  {
   "cell_type": "code",
   "execution_count": null,
   "metadata": {},
   "outputs": [],
   "source": [
    "nx.clustering(G)"
   ]
  },
  {
   "cell_type": "code",
   "execution_count": null,
   "metadata": {},
   "outputs": [],
   "source": [
    "G.remove_edge(1,2)"
   ]
  },
  {
   "cell_type": "code",
   "execution_count": null,
   "metadata": {},
   "outputs": [],
   "source": [
    "pos=nx.spring_layout(G) # positions for all nodes\n",
    "\n",
    "# nodes\n",
    "nx.draw_networkx_nodes(G,pos,\n",
    "                       node_color='r',\n",
    "                       node_size=500,\n",
    "                      alpha=0.8)\n",
    "\n",
    "# edges\n",
    "#nx.draw_networkx_edges(sub_graph,pos,width=1.0,alpha=0.5)\n",
    "nx.draw_networkx_edges(G,pos,\n",
    "                       edgelist=G.edges(),\n",
    "                       width=8,alpha=0.5,edge_color='b')\n",
    "\n",
    "\n",
    "node_name={}\n",
    "for node in G.nodes():\n",
    "    node_name[node]=str(node)\n",
    "\n",
    "\n",
    "nx.draw_networkx_labels(G,pos,node_name,font_size=16)\n",
    "\n",
    "plt.axis('off')\n",
    "plt.show() # display"
   ]
  },
  {
   "cell_type": "code",
   "execution_count": null,
   "metadata": {},
   "outputs": [],
   "source": [
    "nx.clustering(G)"
   ]
  },
  {
   "cell_type": "markdown",
   "metadata": {},
   "source": [
    "<h3>Node 0 has two neighbors: 1 and 2. Of the three possible edges, only two are actually present. So, its clustering coefficient is 2/3 or 0.667</h3>"
   ]
  },
  {
   "cell_type": "markdown",
   "metadata": {},
   "source": [
    "<h2>Centrality and communicability</h2>\n",
    "<b>Centrality</b> deals with identifying the most important nodes in a graph<p>\n",
    "<b>Communicability</b> measures how easy it is to send a message from node i to node j\n",
    "<li>closeness_centrality: (n-1)/sum(shortest path to all other nodes)\n",
    "<li>betweenness_centrality: fraction of pair shortest paths that pass through node n\n",
    "<li>degree centrality: fraction of nodes that n is connected to\n",
    "<li>communicability: the sum of all walks from one node to every other node"
   ]
  },
  {
   "cell_type": "code",
   "execution_count": null,
   "metadata": {},
   "outputs": [],
   "source": [
    "from networkx.algorithms.centrality import closeness_centrality, communicability"
   ]
  },
  {
   "cell_type": "markdown",
   "metadata": {},
   "source": [
    "<h3>Closeness centrality is a measure of how near a node is to every other node in a network</h3>\n",
    "<h3>The higher the closeness centrality, the more central a node is</h3>\n",
    "<h3>Roughly, because it can get to more nodes in shorter jumps</h3>"
   ]
  },
  {
   "cell_type": "code",
   "execution_count": null,
   "metadata": {},
   "outputs": [],
   "source": [
    "type(closeness_centrality(friend_graph))"
   ]
  },
  {
   "cell_type": "code",
   "execution_count": null,
   "metadata": {},
   "outputs": [],
   "source": [
    "from collections import OrderedDict\n",
    "cc = OrderedDict(sorted(\n",
    "                    closeness_centrality(friend_graph).items(),\n",
    "                    key = lambda x: x[1],\n",
    "                    reverse = True))\n",
    "cc"
   ]
  },
  {
   "cell_type": "markdown",
   "metadata": {},
   "source": [
    "<h3>Understanding closeness centrality</h3>"
   ]
  },
  {
   "cell_type": "code",
   "execution_count": null,
   "metadata": {},
   "outputs": [],
   "source": [
    "G=nx.complete_graph(4)\n",
    "nx.closeness_centrality(G)"
   ]
  },
  {
   "cell_type": "code",
   "execution_count": null,
   "metadata": {},
   "outputs": [],
   "source": [
    "G.remove_edge(1,2)\n"
   ]
  },
  {
   "cell_type": "code",
   "execution_count": null,
   "metadata": {},
   "outputs": [],
   "source": [
    "pos=nx.spring_layout(G) # positions for all nodes\n",
    "\n",
    "# nodes\n",
    "nx.draw_networkx_nodes(G,pos,\n",
    "                       node_color='r',\n",
    "                       node_size=500,\n",
    "                      alpha=0.8)\n",
    "\n",
    "# edges\n",
    "#nx.draw_networkx_edges(sub_graph,pos,width=1.0,alpha=0.5)\n",
    "nx.draw_networkx_edges(G,pos,\n",
    "                       edgelist=G.edges(),\n",
    "                       width=8,alpha=0.5,edge_color='b')\n",
    "\n",
    "\n",
    "node_name={}\n",
    "for node in G.nodes():\n",
    "    node_name[node]=str(node)\n",
    "\n",
    "\n",
    "nx.draw_networkx_labels(G,pos,node_name,font_size=16)\n",
    "\n",
    "plt.axis('off')\n",
    "plt.show() # display"
   ]
  },
  {
   "cell_type": "code",
   "execution_count": null,
   "metadata": {},
   "outputs": [],
   "source": [
    "nx.closeness_centrality(G)"
   ]
  },
  {
   "cell_type": "markdown",
   "metadata": {},
   "source": [
    "<li>n=4\n",
    "<li>shortest paths from 2 (2-0:1, 2-3:1, 2-1:2) \n",
    "<li> (n-1)/sum = 3/4 = 0.75"
   ]
  },
  {
   "cell_type": "markdown",
   "metadata": {},
   "source": [
    "<h2>Communicability</h2>\n",
    "A measure of the degree to which one node can communicate with another<p>\n",
    "Takes into account all paths between pairs of nodes<p>\n",
    "The more paths, the higher the communicability"
   ]
  },
  {
   "cell_type": "code",
   "execution_count": null,
   "metadata": {},
   "outputs": [],
   "source": [
    "G = nx.Graph([(0,1),(1,2),(1,5),(5,4),(2,4),(2,3),(4,3),(3,6)])\n",
    "nx.communicability(G)"
   ]
  },
  {
   "cell_type": "code",
   "execution_count": null,
   "metadata": {},
   "outputs": [],
   "source": [
    "#Define a layout for the graph\n",
    "pos=nx.spring_layout(G) # positions for all nodes\n",
    "\n",
    "# draw the nodes: red, sized, transperancy\n",
    "nx.draw_networkx_nodes(G,pos,\n",
    "                       node_color='r',\n",
    "                       node_size=500,\n",
    "                      alpha=1)\n",
    "\n",
    "# draw the edges\n",
    "nx.draw_networkx_edges(G,pos,\n",
    "                       width=8,alpha=0.5,edge_color='b')\n",
    "\n",
    "\n",
    "node_name={}\n",
    "for node in G.nodes():\n",
    "    node_name[node]=str(node)\n",
    "\n",
    "\n",
    "nx.draw_networkx_labels(G,pos,node_name,font_size=16)\n",
    "\n",
    "plt.axis('off')\n",
    "plt.show() # display"
   ]
  },
  {
   "cell_type": "code",
   "execution_count": null,
   "metadata": {},
   "outputs": [],
   "source": [
    "# communicability is the sum of closed walks of different lengths between nodes.\n",
    "#communicability(friend_graph) #Costly operation, we won't do this. Try it at home!"
   ]
  },
  {
   "cell_type": "markdown",
   "metadata": {},
   "source": [
    "<h2>Betweenness centrality</h2>\n",
    "<h3>measures of the extent to which a node is connected to other nodes that are not connected to each other. </h3> \n",
    "<h3>It’s a measure of the degree to which a node serves as a connector</h3>\n",
    "<h3>Example: a traffic bottleneck</h3>\n",
    "\n",
    "\n",
    "<h4>The number of shortest paths that go through node n/total number of shortest paths</h4>"
   ]
  },
  {
   "cell_type": "code",
   "execution_count": null,
   "metadata": {},
   "outputs": [],
   "source": [
    "G=nx.complete_graph(4)\n",
    "nx.betweenness_centrality(G)"
   ]
  },
  {
   "cell_type": "markdown",
   "metadata": {},
   "source": [
    "<h3>When the graph is fully connected, no shortest paths go through the node. So the numerator is zero</h3>"
   ]
  },
  {
   "cell_type": "code",
   "execution_count": null,
   "metadata": {},
   "outputs": [],
   "source": [
    "G.remove_edge(1,2)\n",
    "nx.betweenness_centrality(G)"
   ]
  },
  {
   "cell_type": "code",
   "execution_count": null,
   "metadata": {},
   "outputs": [],
   "source": [
    "#Define a layout for the graph\n",
    "pos=nx.spring_layout(G) # positions for all nodes\n",
    "\n",
    "# draw the nodes: red, sized, transperancy\n",
    "nx.draw_networkx_nodes(G,pos,\n",
    "                       node_color='r',\n",
    "                       node_size=500,\n",
    "                      alpha=1)\n",
    "\n",
    "# draw the edges\n",
    "nx.draw_networkx_edges(G,pos,\n",
    "                       width=8,alpha=0.5,edge_color='b')\n",
    "\n",
    "\n",
    "node_name={}\n",
    "for node in G.nodes():\n",
    "    node_name[node]=str(node)\n",
    "\n",
    "\n",
    "nx.draw_networkx_labels(G,pos,node_name,font_size=16)\n",
    "\n",
    "plt.axis('off')\n",
    "plt.show() # display"
   ]
  },
  {
   "cell_type": "code",
   "execution_count": null,
   "metadata": {},
   "outputs": [],
   "source": [
    "nx.all_pairs_shortest_path(G)"
   ]
  },
  {
   "cell_type": "markdown",
   "metadata": {},
   "source": [
    "<h3>There are 12 shortest paths in total</h3>\n",
    "<h3>Two go through 0 (1, 0, 2) and (2, 0, 1)</h3>\n",
    "<h3> Betweeness centrality: 2/12</h3>"
   ]
  },
  {
   "cell_type": "code",
   "execution_count": null,
   "metadata": {},
   "outputs": [],
   "source": [
    "nx.betweenness_centrality(friend_graph)"
   ]
  },
  {
   "cell_type": "markdown",
   "metadata": {},
   "source": [
    "<h3>Dispersion in fully connected graphs</h3>\n",
    "<li>Eccentricity: the max distance from one node to all other nodes (least eccentric is more central)\n",
    "<li>diameter: the max eccentricity of all nodes in a graph (the longest shortest path)\n",
    "<li>periphery: the set of nodes with eccentricity = diameter"
   ]
  },
  {
   "cell_type": "code",
   "execution_count": null,
   "metadata": {},
   "outputs": [],
   "source": [
    "G = nx.complete_graph(4)\n",
    "nx.eccentricity(G)"
   ]
  },
  {
   "cell_type": "code",
   "execution_count": null,
   "metadata": {},
   "outputs": [],
   "source": [
    "G.remove_edge(1,2)\n",
    "nx.eccentricity(G)"
   ]
  },
  {
   "cell_type": "markdown",
   "metadata": {},
   "source": [
    "<h2>Diameter</h2>\n",
    "The longest shortest path in the graph\n",
    "<h2>Periphery</h2>\n",
    "The nodes with the longest shortest paths (the peripheral nodes)"
   ]
  },
  {
   "cell_type": "code",
   "execution_count": null,
   "metadata": {},
   "outputs": [],
   "source": [
    "nx.diameter(G)"
   ]
  },
  {
   "cell_type": "code",
   "execution_count": null,
   "metadata": {},
   "outputs": [],
   "source": [
    "nx.periphery(G)"
   ]
  },
  {
   "cell_type": "code",
   "execution_count": null,
   "metadata": {},
   "outputs": [],
   "source": [
    "nx.diameter(friend_graph)"
   ]
  },
  {
   "cell_type": "code",
   "execution_count": null,
   "metadata": {},
   "outputs": [],
   "source": [
    "nx.periphery(griend_graph)"
   ]
  },
  {
   "cell_type": "code",
   "execution_count": null,
   "metadata": {},
   "outputs": [],
   "source": [
    "G = nx.complete_graph(4)\n",
    "print(nx.diameter(G))\n",
    "print(nx.periphery(G))"
   ]
  },
  {
   "cell_type": "code",
   "execution_count": null,
   "metadata": {},
   "outputs": [],
   "source": [
    "G.remove_edge(1,2)\n",
    "print(nx.diameter(G))\n",
    "print(nx.periphery(G))"
   ]
  },
  {
   "cell_type": "markdown",
   "metadata": {},
   "source": [
    "<h3>Cliques</h3>\n",
    "A clique is a subgraph in which every node is connected to every other node"
   ]
  },
  {
   "cell_type": "code",
   "execution_count": null,
   "metadata": {
    "collapsed": true
   },
   "outputs": [],
   "source": [
    "from networkx.algorithms.clique import find_cliques, cliques_containing_node"
   ]
  },
  {
   "cell_type": "code",
   "execution_count": null,
   "metadata": {},
   "outputs": [],
   "source": [
    "for clique in find_cliques(friend_graph):\n",
    "    print(clique)"
   ]
  },
  {
   "cell_type": "code",
   "execution_count": null,
   "metadata": {},
   "outputs": [],
   "source": [
    "cliques_containing_node(friend_graph,2)"
   ]
  },
  {
   "cell_type": "code",
   "execution_count": null,
   "metadata": {
    "collapsed": true
   },
   "outputs": [],
   "source": [
    "#nx.draw(nx.make_max_clique_graph(friend_graph))"
   ]
  },
  {
   "cell_type": "markdown",
   "metadata": {},
   "source": [
    "<h3>Center: The set of nodes that are the most central (they have the smallest distance to any other node)</h3>\n",
    "Graph must be fully connected"
   ]
  },
  {
   "cell_type": "code",
   "execution_count": null,
   "metadata": {},
   "outputs": [],
   "source": [
    "\n",
    "from networkx.algorithms.distance_measures import center\n",
    "center(largest_graph)"
   ]
  },
  {
   "cell_type": "code",
   "execution_count": null,
   "metadata": {
    "collapsed": true
   },
   "outputs": [],
   "source": []
  }
 ],
 "metadata": {
  "anaconda-cloud": {},
  "kernelspec": {
   "display_name": "Python 3",
   "language": "python",
   "name": "python3"
  },
  "language_info": {
   "codemirror_mode": {
    "name": "ipython",
    "version": 3
   },
   "file_extension": ".py",
   "mimetype": "text/x-python",
   "name": "python",
   "nbconvert_exporter": "python",
   "pygments_lexer": "ipython3",
   "version": "3.6.5"
  }
 },
 "nbformat": 4,
 "nbformat_minor": 1
}
